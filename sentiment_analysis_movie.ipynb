{
  "nbformat": 4,
  "nbformat_minor": 0,
  "metadata": {
    "colab": {
      "provenance": [],
      "authorship_tag": "ABX9TyPsfAHAvwEy0qIMWACHEf1S",
      "include_colab_link": true
    },
    "kernelspec": {
      "name": "python3",
      "display_name": "Python 3"
    },
    "language_info": {
      "name": "python"
    }
  },
  "cells": [
    {
      "cell_type": "markdown",
      "metadata": {
        "id": "view-in-github",
        "colab_type": "text"
      },
      "source": [
        "<a href=\"https://colab.research.google.com/github/trietp1253201581/NaturalLanguangeProcessing/blob/main/sentiment_analysis_movie.ipynb\" target=\"_parent\"><img src=\"https://colab.research.google.com/assets/colab-badge.svg\" alt=\"Open In Colab\"/></a>"
      ]
    },
    {
      "cell_type": "markdown",
      "source": [
        "# Phân tích tình cảm của bài đánh giá phim dựa trên TF-ITF"
      ],
      "metadata": {
        "id": "htcY0uv5HL0T"
      }
    },
    {
      "cell_type": "markdown",
      "source": [
        "## Khám phá dữ liệu"
      ],
      "metadata": {
        "id": "Cvgo8B_6HyXK"
      }
    },
    {
      "cell_type": "code",
      "execution_count": 1,
      "metadata": {
        "colab": {
          "base_uri": "https://localhost:8080/"
        },
        "id": "t9xVPnJpHCXA",
        "outputId": "144e0f5f-c479-41bf-9efd-f207bb21c441"
      },
      "outputs": [
        {
          "output_type": "stream",
          "name": "stdout",
          "text": [
            "kaggle.json  sample_data\n"
          ]
        }
      ],
      "source": [
        "!ls ."
      ]
    },
    {
      "cell_type": "code",
      "source": [
        "import os\n",
        "IS_KAGGLE = 'KAGGLE_KERNEL_RUN_TYPE' in os.environ"
      ],
      "metadata": {
        "id": "r8FN6DJXIYWm"
      },
      "execution_count": 2,
      "outputs": []
    },
    {
      "cell_type": "code",
      "source": [
        "if IS_KAGGLE:\n",
        "    data_dir = '../input/sentiment-analysis-on-movie-reviews'\n",
        "    train_fname = data_dir + '/train.tsv'\n",
        "    test_fname = data_dir + '/test.tsv'\n",
        "    sample_fname = data_dir + '/sampleSubmission.csv'\n",
        "else:\n",
        "    os.environ['KAGGLE_CONFIG_DIR'] = '.'\n",
        "    !kaggle competitions download -c sentiment-analysis-on-movie-reviews -f train.tsv.zip -p data\n",
        "    !kaggle competitions download -c sentiment-analysis-on-movie-reviews -f test.tsv.zip -p data\n",
        "    !kaggle competitions download -c sentiment-analysis-on-movie-reviews -f sampleSubmission.csv -p data\n",
        "    train_fname = 'data/train.tsv.zip'\n",
        "    test_fname = 'data/test.tsv.zip'\n",
        "    sample_fname = 'data/sampleSubmission.csv'"
      ],
      "metadata": {
        "colab": {
          "base_uri": "https://localhost:8080/"
        },
        "id": "2FCinEXIJXlM",
        "outputId": "35df5116-3c39-482e-bea6-d007fec0b873"
      },
      "execution_count": 6,
      "outputs": [
        {
          "output_type": "stream",
          "name": "stdout",
          "text": [
            "Warning: Your Kaggle API key is readable by other users on this system! To fix this, you can run 'chmod 600 ./kaggle.json'\n",
            "train.tsv.zip: Skipping, found more recently modified local copy (use --force to force download)\n",
            "Warning: Your Kaggle API key is readable by other users on this system! To fix this, you can run 'chmod 600 ./kaggle.json'\n",
            "test.tsv.zip: Skipping, found more recently modified local copy (use --force to force download)\n",
            "Warning: Your Kaggle API key is readable by other users on this system! To fix this, you can run 'chmod 600 ./kaggle.json'\n",
            "sampleSubmission.csv: Skipping, found more recently modified local copy (use --force to force download)\n"
          ]
        }
      ]
    },
    {
      "cell_type": "code",
      "source": [
        "import pandas as pd"
      ],
      "metadata": {
        "id": "drSA9ltyKNz9"
      },
      "execution_count": 4,
      "outputs": []
    },
    {
      "cell_type": "code",
      "source": [
        "train_df = pd.read_csv(train_fname, sep='\\t')\n",
        "test_df = pd.read_csv(test_fname, sep='\\t')\n",
        "sample_df = pd.read_csv(sample_fname)"
      ],
      "metadata": {
        "id": "LlJLLIBzKqJh"
      },
      "execution_count": 7,
      "outputs": []
    },
    {
      "cell_type": "code",
      "source": [
        "train_df"
      ],
      "metadata": {
        "colab": {
          "base_uri": "https://localhost:8080/",
          "height": 423
        },
        "id": "3PTgzapXKryg",
        "outputId": "a8ce90d6-3bce-430b-b5c6-018c5f85afdd"
      },
      "execution_count": 8,
      "outputs": [
        {
          "output_type": "execute_result",
          "data": {
            "text/plain": [
              "        PhraseId  SentenceId  \\\n",
              "0              1           1   \n",
              "1              2           1   \n",
              "2              3           1   \n",
              "3              4           1   \n",
              "4              5           1   \n",
              "...          ...         ...   \n",
              "156055    156056        8544   \n",
              "156056    156057        8544   \n",
              "156057    156058        8544   \n",
              "156058    156059        8544   \n",
              "156059    156060        8544   \n",
              "\n",
              "                                                   Phrase  Sentiment  \n",
              "0       A series of escapades demonstrating the adage ...          1  \n",
              "1       A series of escapades demonstrating the adage ...          2  \n",
              "2                                                A series          2  \n",
              "3                                                       A          2  \n",
              "4                                                  series          2  \n",
              "...                                                   ...        ...  \n",
              "156055                                          Hearst 's          2  \n",
              "156056                          forced avuncular chortles          1  \n",
              "156057                                 avuncular chortles          3  \n",
              "156058                                          avuncular          2  \n",
              "156059                                           chortles          2  \n",
              "\n",
              "[156060 rows x 4 columns]"
            ],
            "text/html": [
              "\n",
              "  <div id=\"df-e8ef1aa8-e313-4d67-a6a1-46e68509bd4c\" class=\"colab-df-container\">\n",
              "    <div>\n",
              "<style scoped>\n",
              "    .dataframe tbody tr th:only-of-type {\n",
              "        vertical-align: middle;\n",
              "    }\n",
              "\n",
              "    .dataframe tbody tr th {\n",
              "        vertical-align: top;\n",
              "    }\n",
              "\n",
              "    .dataframe thead th {\n",
              "        text-align: right;\n",
              "    }\n",
              "</style>\n",
              "<table border=\"1\" class=\"dataframe\">\n",
              "  <thead>\n",
              "    <tr style=\"text-align: right;\">\n",
              "      <th></th>\n",
              "      <th>PhraseId</th>\n",
              "      <th>SentenceId</th>\n",
              "      <th>Phrase</th>\n",
              "      <th>Sentiment</th>\n",
              "    </tr>\n",
              "  </thead>\n",
              "  <tbody>\n",
              "    <tr>\n",
              "      <th>0</th>\n",
              "      <td>1</td>\n",
              "      <td>1</td>\n",
              "      <td>A series of escapades demonstrating the adage ...</td>\n",
              "      <td>1</td>\n",
              "    </tr>\n",
              "    <tr>\n",
              "      <th>1</th>\n",
              "      <td>2</td>\n",
              "      <td>1</td>\n",
              "      <td>A series of escapades demonstrating the adage ...</td>\n",
              "      <td>2</td>\n",
              "    </tr>\n",
              "    <tr>\n",
              "      <th>2</th>\n",
              "      <td>3</td>\n",
              "      <td>1</td>\n",
              "      <td>A series</td>\n",
              "      <td>2</td>\n",
              "    </tr>\n",
              "    <tr>\n",
              "      <th>3</th>\n",
              "      <td>4</td>\n",
              "      <td>1</td>\n",
              "      <td>A</td>\n",
              "      <td>2</td>\n",
              "    </tr>\n",
              "    <tr>\n",
              "      <th>4</th>\n",
              "      <td>5</td>\n",
              "      <td>1</td>\n",
              "      <td>series</td>\n",
              "      <td>2</td>\n",
              "    </tr>\n",
              "    <tr>\n",
              "      <th>...</th>\n",
              "      <td>...</td>\n",
              "      <td>...</td>\n",
              "      <td>...</td>\n",
              "      <td>...</td>\n",
              "    </tr>\n",
              "    <tr>\n",
              "      <th>156055</th>\n",
              "      <td>156056</td>\n",
              "      <td>8544</td>\n",
              "      <td>Hearst 's</td>\n",
              "      <td>2</td>\n",
              "    </tr>\n",
              "    <tr>\n",
              "      <th>156056</th>\n",
              "      <td>156057</td>\n",
              "      <td>8544</td>\n",
              "      <td>forced avuncular chortles</td>\n",
              "      <td>1</td>\n",
              "    </tr>\n",
              "    <tr>\n",
              "      <th>156057</th>\n",
              "      <td>156058</td>\n",
              "      <td>8544</td>\n",
              "      <td>avuncular chortles</td>\n",
              "      <td>3</td>\n",
              "    </tr>\n",
              "    <tr>\n",
              "      <th>156058</th>\n",
              "      <td>156059</td>\n",
              "      <td>8544</td>\n",
              "      <td>avuncular</td>\n",
              "      <td>2</td>\n",
              "    </tr>\n",
              "    <tr>\n",
              "      <th>156059</th>\n",
              "      <td>156060</td>\n",
              "      <td>8544</td>\n",
              "      <td>chortles</td>\n",
              "      <td>2</td>\n",
              "    </tr>\n",
              "  </tbody>\n",
              "</table>\n",
              "<p>156060 rows × 4 columns</p>\n",
              "</div>\n",
              "    <div class=\"colab-df-buttons\">\n",
              "\n",
              "  <div class=\"colab-df-container\">\n",
              "    <button class=\"colab-df-convert\" onclick=\"convertToInteractive('df-e8ef1aa8-e313-4d67-a6a1-46e68509bd4c')\"\n",
              "            title=\"Convert this dataframe to an interactive table.\"\n",
              "            style=\"display:none;\">\n",
              "\n",
              "  <svg xmlns=\"http://www.w3.org/2000/svg\" height=\"24px\" viewBox=\"0 -960 960 960\">\n",
              "    <path d=\"M120-120v-720h720v720H120Zm60-500h600v-160H180v160Zm220 220h160v-160H400v160Zm0 220h160v-160H400v160ZM180-400h160v-160H180v160Zm440 0h160v-160H620v160ZM180-180h160v-160H180v160Zm440 0h160v-160H620v160Z\"/>\n",
              "  </svg>\n",
              "    </button>\n",
              "\n",
              "  <style>\n",
              "    .colab-df-container {\n",
              "      display:flex;\n",
              "      gap: 12px;\n",
              "    }\n",
              "\n",
              "    .colab-df-convert {\n",
              "      background-color: #E8F0FE;\n",
              "      border: none;\n",
              "      border-radius: 50%;\n",
              "      cursor: pointer;\n",
              "      display: none;\n",
              "      fill: #1967D2;\n",
              "      height: 32px;\n",
              "      padding: 0 0 0 0;\n",
              "      width: 32px;\n",
              "    }\n",
              "\n",
              "    .colab-df-convert:hover {\n",
              "      background-color: #E2EBFA;\n",
              "      box-shadow: 0px 1px 2px rgba(60, 64, 67, 0.3), 0px 1px 3px 1px rgba(60, 64, 67, 0.15);\n",
              "      fill: #174EA6;\n",
              "    }\n",
              "\n",
              "    .colab-df-buttons div {\n",
              "      margin-bottom: 4px;\n",
              "    }\n",
              "\n",
              "    [theme=dark] .colab-df-convert {\n",
              "      background-color: #3B4455;\n",
              "      fill: #D2E3FC;\n",
              "    }\n",
              "\n",
              "    [theme=dark] .colab-df-convert:hover {\n",
              "      background-color: #434B5C;\n",
              "      box-shadow: 0px 1px 3px 1px rgba(0, 0, 0, 0.15);\n",
              "      filter: drop-shadow(0px 1px 2px rgba(0, 0, 0, 0.3));\n",
              "      fill: #FFFFFF;\n",
              "    }\n",
              "  </style>\n",
              "\n",
              "    <script>\n",
              "      const buttonEl =\n",
              "        document.querySelector('#df-e8ef1aa8-e313-4d67-a6a1-46e68509bd4c button.colab-df-convert');\n",
              "      buttonEl.style.display =\n",
              "        google.colab.kernel.accessAllowed ? 'block' : 'none';\n",
              "\n",
              "      async function convertToInteractive(key) {\n",
              "        const element = document.querySelector('#df-e8ef1aa8-e313-4d67-a6a1-46e68509bd4c');\n",
              "        const dataTable =\n",
              "          await google.colab.kernel.invokeFunction('convertToInteractive',\n",
              "                                                    [key], {});\n",
              "        if (!dataTable) return;\n",
              "\n",
              "        const docLinkHtml = 'Like what you see? Visit the ' +\n",
              "          '<a target=\"_blank\" href=https://colab.research.google.com/notebooks/data_table.ipynb>data table notebook</a>'\n",
              "          + ' to learn more about interactive tables.';\n",
              "        element.innerHTML = '';\n",
              "        dataTable['output_type'] = 'display_data';\n",
              "        await google.colab.output.renderOutput(dataTable, element);\n",
              "        const docLink = document.createElement('div');\n",
              "        docLink.innerHTML = docLinkHtml;\n",
              "        element.appendChild(docLink);\n",
              "      }\n",
              "    </script>\n",
              "  </div>\n",
              "\n",
              "\n",
              "<div id=\"df-f8a48d4c-4f19-4f13-8922-befc77bb9dc4\">\n",
              "  <button class=\"colab-df-quickchart\" onclick=\"quickchart('df-f8a48d4c-4f19-4f13-8922-befc77bb9dc4')\"\n",
              "            title=\"Suggest charts\"\n",
              "            style=\"display:none;\">\n",
              "\n",
              "<svg xmlns=\"http://www.w3.org/2000/svg\" height=\"24px\"viewBox=\"0 0 24 24\"\n",
              "     width=\"24px\">\n",
              "    <g>\n",
              "        <path d=\"M19 3H5c-1.1 0-2 .9-2 2v14c0 1.1.9 2 2 2h14c1.1 0 2-.9 2-2V5c0-1.1-.9-2-2-2zM9 17H7v-7h2v7zm4 0h-2V7h2v10zm4 0h-2v-4h2v4z\"/>\n",
              "    </g>\n",
              "</svg>\n",
              "  </button>\n",
              "\n",
              "<style>\n",
              "  .colab-df-quickchart {\n",
              "      --bg-color: #E8F0FE;\n",
              "      --fill-color: #1967D2;\n",
              "      --hover-bg-color: #E2EBFA;\n",
              "      --hover-fill-color: #174EA6;\n",
              "      --disabled-fill-color: #AAA;\n",
              "      --disabled-bg-color: #DDD;\n",
              "  }\n",
              "\n",
              "  [theme=dark] .colab-df-quickchart {\n",
              "      --bg-color: #3B4455;\n",
              "      --fill-color: #D2E3FC;\n",
              "      --hover-bg-color: #434B5C;\n",
              "      --hover-fill-color: #FFFFFF;\n",
              "      --disabled-bg-color: #3B4455;\n",
              "      --disabled-fill-color: #666;\n",
              "  }\n",
              "\n",
              "  .colab-df-quickchart {\n",
              "    background-color: var(--bg-color);\n",
              "    border: none;\n",
              "    border-radius: 50%;\n",
              "    cursor: pointer;\n",
              "    display: none;\n",
              "    fill: var(--fill-color);\n",
              "    height: 32px;\n",
              "    padding: 0;\n",
              "    width: 32px;\n",
              "  }\n",
              "\n",
              "  .colab-df-quickchart:hover {\n",
              "    background-color: var(--hover-bg-color);\n",
              "    box-shadow: 0 1px 2px rgba(60, 64, 67, 0.3), 0 1px 3px 1px rgba(60, 64, 67, 0.15);\n",
              "    fill: var(--button-hover-fill-color);\n",
              "  }\n",
              "\n",
              "  .colab-df-quickchart-complete:disabled,\n",
              "  .colab-df-quickchart-complete:disabled:hover {\n",
              "    background-color: var(--disabled-bg-color);\n",
              "    fill: var(--disabled-fill-color);\n",
              "    box-shadow: none;\n",
              "  }\n",
              "\n",
              "  .colab-df-spinner {\n",
              "    border: 2px solid var(--fill-color);\n",
              "    border-color: transparent;\n",
              "    border-bottom-color: var(--fill-color);\n",
              "    animation:\n",
              "      spin 1s steps(1) infinite;\n",
              "  }\n",
              "\n",
              "  @keyframes spin {\n",
              "    0% {\n",
              "      border-color: transparent;\n",
              "      border-bottom-color: var(--fill-color);\n",
              "      border-left-color: var(--fill-color);\n",
              "    }\n",
              "    20% {\n",
              "      border-color: transparent;\n",
              "      border-left-color: var(--fill-color);\n",
              "      border-top-color: var(--fill-color);\n",
              "    }\n",
              "    30% {\n",
              "      border-color: transparent;\n",
              "      border-left-color: var(--fill-color);\n",
              "      border-top-color: var(--fill-color);\n",
              "      border-right-color: var(--fill-color);\n",
              "    }\n",
              "    40% {\n",
              "      border-color: transparent;\n",
              "      border-right-color: var(--fill-color);\n",
              "      border-top-color: var(--fill-color);\n",
              "    }\n",
              "    60% {\n",
              "      border-color: transparent;\n",
              "      border-right-color: var(--fill-color);\n",
              "    }\n",
              "    80% {\n",
              "      border-color: transparent;\n",
              "      border-right-color: var(--fill-color);\n",
              "      border-bottom-color: var(--fill-color);\n",
              "    }\n",
              "    90% {\n",
              "      border-color: transparent;\n",
              "      border-bottom-color: var(--fill-color);\n",
              "    }\n",
              "  }\n",
              "</style>\n",
              "\n",
              "  <script>\n",
              "    async function quickchart(key) {\n",
              "      const quickchartButtonEl =\n",
              "        document.querySelector('#' + key + ' button');\n",
              "      quickchartButtonEl.disabled = true;  // To prevent multiple clicks.\n",
              "      quickchartButtonEl.classList.add('colab-df-spinner');\n",
              "      try {\n",
              "        const charts = await google.colab.kernel.invokeFunction(\n",
              "            'suggestCharts', [key], {});\n",
              "      } catch (error) {\n",
              "        console.error('Error during call to suggestCharts:', error);\n",
              "      }\n",
              "      quickchartButtonEl.classList.remove('colab-df-spinner');\n",
              "      quickchartButtonEl.classList.add('colab-df-quickchart-complete');\n",
              "    }\n",
              "    (() => {\n",
              "      let quickchartButtonEl =\n",
              "        document.querySelector('#df-f8a48d4c-4f19-4f13-8922-befc77bb9dc4 button');\n",
              "      quickchartButtonEl.style.display =\n",
              "        google.colab.kernel.accessAllowed ? 'block' : 'none';\n",
              "    })();\n",
              "  </script>\n",
              "</div>\n",
              "\n",
              "  <div id=\"id_501b282f-ae12-42a6-a8a9-b08684afc14b\">\n",
              "    <style>\n",
              "      .colab-df-generate {\n",
              "        background-color: #E8F0FE;\n",
              "        border: none;\n",
              "        border-radius: 50%;\n",
              "        cursor: pointer;\n",
              "        display: none;\n",
              "        fill: #1967D2;\n",
              "        height: 32px;\n",
              "        padding: 0 0 0 0;\n",
              "        width: 32px;\n",
              "      }\n",
              "\n",
              "      .colab-df-generate:hover {\n",
              "        background-color: #E2EBFA;\n",
              "        box-shadow: 0px 1px 2px rgba(60, 64, 67, 0.3), 0px 1px 3px 1px rgba(60, 64, 67, 0.15);\n",
              "        fill: #174EA6;\n",
              "      }\n",
              "\n",
              "      [theme=dark] .colab-df-generate {\n",
              "        background-color: #3B4455;\n",
              "        fill: #D2E3FC;\n",
              "      }\n",
              "\n",
              "      [theme=dark] .colab-df-generate:hover {\n",
              "        background-color: #434B5C;\n",
              "        box-shadow: 0px 1px 3px 1px rgba(0, 0, 0, 0.15);\n",
              "        filter: drop-shadow(0px 1px 2px rgba(0, 0, 0, 0.3));\n",
              "        fill: #FFFFFF;\n",
              "      }\n",
              "    </style>\n",
              "    <button class=\"colab-df-generate\" onclick=\"generateWithVariable('train_df')\"\n",
              "            title=\"Generate code using this dataframe.\"\n",
              "            style=\"display:none;\">\n",
              "\n",
              "  <svg xmlns=\"http://www.w3.org/2000/svg\" height=\"24px\"viewBox=\"0 0 24 24\"\n",
              "       width=\"24px\">\n",
              "    <path d=\"M7,19H8.4L18.45,9,17,7.55,7,17.6ZM5,21V16.75L18.45,3.32a2,2,0,0,1,2.83,0l1.4,1.43a1.91,1.91,0,0,1,.58,1.4,1.91,1.91,0,0,1-.58,1.4L9.25,21ZM18.45,9,17,7.55Zm-12,3A5.31,5.31,0,0,0,4.9,8.1,5.31,5.31,0,0,0,1,6.5,5.31,5.31,0,0,0,4.9,4.9,5.31,5.31,0,0,0,6.5,1,5.31,5.31,0,0,0,8.1,4.9,5.31,5.31,0,0,0,12,6.5,5.46,5.46,0,0,0,6.5,12Z\"/>\n",
              "  </svg>\n",
              "    </button>\n",
              "    <script>\n",
              "      (() => {\n",
              "      const buttonEl =\n",
              "        document.querySelector('#id_501b282f-ae12-42a6-a8a9-b08684afc14b button.colab-df-generate');\n",
              "      buttonEl.style.display =\n",
              "        google.colab.kernel.accessAllowed ? 'block' : 'none';\n",
              "\n",
              "      buttonEl.onclick = () => {\n",
              "        google.colab.notebook.generateWithVariable('train_df');\n",
              "      }\n",
              "      })();\n",
              "    </script>\n",
              "  </div>\n",
              "\n",
              "    </div>\n",
              "  </div>\n"
            ],
            "application/vnd.google.colaboratory.intrinsic+json": {
              "type": "dataframe",
              "variable_name": "train_df"
            }
          },
          "metadata": {},
          "execution_count": 8
        }
      ]
    },
    {
      "cell_type": "code",
      "source": [
        "train_df['Sentiment'].value_counts()"
      ],
      "metadata": {
        "colab": {
          "base_uri": "https://localhost:8080/"
        },
        "id": "j7Nd_DGxKyeJ",
        "outputId": "44f37fff-0ad2-474c-83da-4b34ac8cd77b"
      },
      "execution_count": 9,
      "outputs": [
        {
          "output_type": "execute_result",
          "data": {
            "text/plain": [
              "Sentiment\n",
              "2    79582\n",
              "3    32927\n",
              "1    27273\n",
              "4     9206\n",
              "0     7072\n",
              "Name: count, dtype: int64"
            ]
          },
          "metadata": {},
          "execution_count": 9
        }
      ]
    },
    {
      "cell_type": "code",
      "source": [
        "test_df"
      ],
      "metadata": {
        "colab": {
          "base_uri": "https://localhost:8080/",
          "height": 423
        },
        "id": "KNM9djVxK2YX",
        "outputId": "ddfe9d01-73e0-477f-8c28-e7bb8951fade"
      },
      "execution_count": 10,
      "outputs": [
        {
          "output_type": "execute_result",
          "data": {
            "text/plain": [
              "       PhraseId  SentenceId                                             Phrase\n",
              "0        156061        8545  An intermittently pleasing but mostly routine ...\n",
              "1        156062        8545  An intermittently pleasing but mostly routine ...\n",
              "2        156063        8545                                                 An\n",
              "3        156064        8545  intermittently pleasing but mostly routine effort\n",
              "4        156065        8545         intermittently pleasing but mostly routine\n",
              "...         ...         ...                                                ...\n",
              "66287    222348       11855             A long-winded , predictable scenario .\n",
              "66288    222349       11855               A long-winded , predictable scenario\n",
              "66289    222350       11855                                    A long-winded ,\n",
              "66290    222351       11855                                      A long-winded\n",
              "66291    222352       11855                               predictable scenario\n",
              "\n",
              "[66292 rows x 3 columns]"
            ],
            "text/html": [
              "\n",
              "  <div id=\"df-f6653acb-7806-46b7-a697-54589f744d37\" class=\"colab-df-container\">\n",
              "    <div>\n",
              "<style scoped>\n",
              "    .dataframe tbody tr th:only-of-type {\n",
              "        vertical-align: middle;\n",
              "    }\n",
              "\n",
              "    .dataframe tbody tr th {\n",
              "        vertical-align: top;\n",
              "    }\n",
              "\n",
              "    .dataframe thead th {\n",
              "        text-align: right;\n",
              "    }\n",
              "</style>\n",
              "<table border=\"1\" class=\"dataframe\">\n",
              "  <thead>\n",
              "    <tr style=\"text-align: right;\">\n",
              "      <th></th>\n",
              "      <th>PhraseId</th>\n",
              "      <th>SentenceId</th>\n",
              "      <th>Phrase</th>\n",
              "    </tr>\n",
              "  </thead>\n",
              "  <tbody>\n",
              "    <tr>\n",
              "      <th>0</th>\n",
              "      <td>156061</td>\n",
              "      <td>8545</td>\n",
              "      <td>An intermittently pleasing but mostly routine ...</td>\n",
              "    </tr>\n",
              "    <tr>\n",
              "      <th>1</th>\n",
              "      <td>156062</td>\n",
              "      <td>8545</td>\n",
              "      <td>An intermittently pleasing but mostly routine ...</td>\n",
              "    </tr>\n",
              "    <tr>\n",
              "      <th>2</th>\n",
              "      <td>156063</td>\n",
              "      <td>8545</td>\n",
              "      <td>An</td>\n",
              "    </tr>\n",
              "    <tr>\n",
              "      <th>3</th>\n",
              "      <td>156064</td>\n",
              "      <td>8545</td>\n",
              "      <td>intermittently pleasing but mostly routine effort</td>\n",
              "    </tr>\n",
              "    <tr>\n",
              "      <th>4</th>\n",
              "      <td>156065</td>\n",
              "      <td>8545</td>\n",
              "      <td>intermittently pleasing but mostly routine</td>\n",
              "    </tr>\n",
              "    <tr>\n",
              "      <th>...</th>\n",
              "      <td>...</td>\n",
              "      <td>...</td>\n",
              "      <td>...</td>\n",
              "    </tr>\n",
              "    <tr>\n",
              "      <th>66287</th>\n",
              "      <td>222348</td>\n",
              "      <td>11855</td>\n",
              "      <td>A long-winded , predictable scenario .</td>\n",
              "    </tr>\n",
              "    <tr>\n",
              "      <th>66288</th>\n",
              "      <td>222349</td>\n",
              "      <td>11855</td>\n",
              "      <td>A long-winded , predictable scenario</td>\n",
              "    </tr>\n",
              "    <tr>\n",
              "      <th>66289</th>\n",
              "      <td>222350</td>\n",
              "      <td>11855</td>\n",
              "      <td>A long-winded ,</td>\n",
              "    </tr>\n",
              "    <tr>\n",
              "      <th>66290</th>\n",
              "      <td>222351</td>\n",
              "      <td>11855</td>\n",
              "      <td>A long-winded</td>\n",
              "    </tr>\n",
              "    <tr>\n",
              "      <th>66291</th>\n",
              "      <td>222352</td>\n",
              "      <td>11855</td>\n",
              "      <td>predictable scenario</td>\n",
              "    </tr>\n",
              "  </tbody>\n",
              "</table>\n",
              "<p>66292 rows × 3 columns</p>\n",
              "</div>\n",
              "    <div class=\"colab-df-buttons\">\n",
              "\n",
              "  <div class=\"colab-df-container\">\n",
              "    <button class=\"colab-df-convert\" onclick=\"convertToInteractive('df-f6653acb-7806-46b7-a697-54589f744d37')\"\n",
              "            title=\"Convert this dataframe to an interactive table.\"\n",
              "            style=\"display:none;\">\n",
              "\n",
              "  <svg xmlns=\"http://www.w3.org/2000/svg\" height=\"24px\" viewBox=\"0 -960 960 960\">\n",
              "    <path d=\"M120-120v-720h720v720H120Zm60-500h600v-160H180v160Zm220 220h160v-160H400v160Zm0 220h160v-160H400v160ZM180-400h160v-160H180v160Zm440 0h160v-160H620v160ZM180-180h160v-160H180v160Zm440 0h160v-160H620v160Z\"/>\n",
              "  </svg>\n",
              "    </button>\n",
              "\n",
              "  <style>\n",
              "    .colab-df-container {\n",
              "      display:flex;\n",
              "      gap: 12px;\n",
              "    }\n",
              "\n",
              "    .colab-df-convert {\n",
              "      background-color: #E8F0FE;\n",
              "      border: none;\n",
              "      border-radius: 50%;\n",
              "      cursor: pointer;\n",
              "      display: none;\n",
              "      fill: #1967D2;\n",
              "      height: 32px;\n",
              "      padding: 0 0 0 0;\n",
              "      width: 32px;\n",
              "    }\n",
              "\n",
              "    .colab-df-convert:hover {\n",
              "      background-color: #E2EBFA;\n",
              "      box-shadow: 0px 1px 2px rgba(60, 64, 67, 0.3), 0px 1px 3px 1px rgba(60, 64, 67, 0.15);\n",
              "      fill: #174EA6;\n",
              "    }\n",
              "\n",
              "    .colab-df-buttons div {\n",
              "      margin-bottom: 4px;\n",
              "    }\n",
              "\n",
              "    [theme=dark] .colab-df-convert {\n",
              "      background-color: #3B4455;\n",
              "      fill: #D2E3FC;\n",
              "    }\n",
              "\n",
              "    [theme=dark] .colab-df-convert:hover {\n",
              "      background-color: #434B5C;\n",
              "      box-shadow: 0px 1px 3px 1px rgba(0, 0, 0, 0.15);\n",
              "      filter: drop-shadow(0px 1px 2px rgba(0, 0, 0, 0.3));\n",
              "      fill: #FFFFFF;\n",
              "    }\n",
              "  </style>\n",
              "\n",
              "    <script>\n",
              "      const buttonEl =\n",
              "        document.querySelector('#df-f6653acb-7806-46b7-a697-54589f744d37 button.colab-df-convert');\n",
              "      buttonEl.style.display =\n",
              "        google.colab.kernel.accessAllowed ? 'block' : 'none';\n",
              "\n",
              "      async function convertToInteractive(key) {\n",
              "        const element = document.querySelector('#df-f6653acb-7806-46b7-a697-54589f744d37');\n",
              "        const dataTable =\n",
              "          await google.colab.kernel.invokeFunction('convertToInteractive',\n",
              "                                                    [key], {});\n",
              "        if (!dataTable) return;\n",
              "\n",
              "        const docLinkHtml = 'Like what you see? Visit the ' +\n",
              "          '<a target=\"_blank\" href=https://colab.research.google.com/notebooks/data_table.ipynb>data table notebook</a>'\n",
              "          + ' to learn more about interactive tables.';\n",
              "        element.innerHTML = '';\n",
              "        dataTable['output_type'] = 'display_data';\n",
              "        await google.colab.output.renderOutput(dataTable, element);\n",
              "        const docLink = document.createElement('div');\n",
              "        docLink.innerHTML = docLinkHtml;\n",
              "        element.appendChild(docLink);\n",
              "      }\n",
              "    </script>\n",
              "  </div>\n",
              "\n",
              "\n",
              "<div id=\"df-415b760b-e3f5-4798-afc2-db7239cd3a2a\">\n",
              "  <button class=\"colab-df-quickchart\" onclick=\"quickchart('df-415b760b-e3f5-4798-afc2-db7239cd3a2a')\"\n",
              "            title=\"Suggest charts\"\n",
              "            style=\"display:none;\">\n",
              "\n",
              "<svg xmlns=\"http://www.w3.org/2000/svg\" height=\"24px\"viewBox=\"0 0 24 24\"\n",
              "     width=\"24px\">\n",
              "    <g>\n",
              "        <path d=\"M19 3H5c-1.1 0-2 .9-2 2v14c0 1.1.9 2 2 2h14c1.1 0 2-.9 2-2V5c0-1.1-.9-2-2-2zM9 17H7v-7h2v7zm4 0h-2V7h2v10zm4 0h-2v-4h2v4z\"/>\n",
              "    </g>\n",
              "</svg>\n",
              "  </button>\n",
              "\n",
              "<style>\n",
              "  .colab-df-quickchart {\n",
              "      --bg-color: #E8F0FE;\n",
              "      --fill-color: #1967D2;\n",
              "      --hover-bg-color: #E2EBFA;\n",
              "      --hover-fill-color: #174EA6;\n",
              "      --disabled-fill-color: #AAA;\n",
              "      --disabled-bg-color: #DDD;\n",
              "  }\n",
              "\n",
              "  [theme=dark] .colab-df-quickchart {\n",
              "      --bg-color: #3B4455;\n",
              "      --fill-color: #D2E3FC;\n",
              "      --hover-bg-color: #434B5C;\n",
              "      --hover-fill-color: #FFFFFF;\n",
              "      --disabled-bg-color: #3B4455;\n",
              "      --disabled-fill-color: #666;\n",
              "  }\n",
              "\n",
              "  .colab-df-quickchart {\n",
              "    background-color: var(--bg-color);\n",
              "    border: none;\n",
              "    border-radius: 50%;\n",
              "    cursor: pointer;\n",
              "    display: none;\n",
              "    fill: var(--fill-color);\n",
              "    height: 32px;\n",
              "    padding: 0;\n",
              "    width: 32px;\n",
              "  }\n",
              "\n",
              "  .colab-df-quickchart:hover {\n",
              "    background-color: var(--hover-bg-color);\n",
              "    box-shadow: 0 1px 2px rgba(60, 64, 67, 0.3), 0 1px 3px 1px rgba(60, 64, 67, 0.15);\n",
              "    fill: var(--button-hover-fill-color);\n",
              "  }\n",
              "\n",
              "  .colab-df-quickchart-complete:disabled,\n",
              "  .colab-df-quickchart-complete:disabled:hover {\n",
              "    background-color: var(--disabled-bg-color);\n",
              "    fill: var(--disabled-fill-color);\n",
              "    box-shadow: none;\n",
              "  }\n",
              "\n",
              "  .colab-df-spinner {\n",
              "    border: 2px solid var(--fill-color);\n",
              "    border-color: transparent;\n",
              "    border-bottom-color: var(--fill-color);\n",
              "    animation:\n",
              "      spin 1s steps(1) infinite;\n",
              "  }\n",
              "\n",
              "  @keyframes spin {\n",
              "    0% {\n",
              "      border-color: transparent;\n",
              "      border-bottom-color: var(--fill-color);\n",
              "      border-left-color: var(--fill-color);\n",
              "    }\n",
              "    20% {\n",
              "      border-color: transparent;\n",
              "      border-left-color: var(--fill-color);\n",
              "      border-top-color: var(--fill-color);\n",
              "    }\n",
              "    30% {\n",
              "      border-color: transparent;\n",
              "      border-left-color: var(--fill-color);\n",
              "      border-top-color: var(--fill-color);\n",
              "      border-right-color: var(--fill-color);\n",
              "    }\n",
              "    40% {\n",
              "      border-color: transparent;\n",
              "      border-right-color: var(--fill-color);\n",
              "      border-top-color: var(--fill-color);\n",
              "    }\n",
              "    60% {\n",
              "      border-color: transparent;\n",
              "      border-right-color: var(--fill-color);\n",
              "    }\n",
              "    80% {\n",
              "      border-color: transparent;\n",
              "      border-right-color: var(--fill-color);\n",
              "      border-bottom-color: var(--fill-color);\n",
              "    }\n",
              "    90% {\n",
              "      border-color: transparent;\n",
              "      border-bottom-color: var(--fill-color);\n",
              "    }\n",
              "  }\n",
              "</style>\n",
              "\n",
              "  <script>\n",
              "    async function quickchart(key) {\n",
              "      const quickchartButtonEl =\n",
              "        document.querySelector('#' + key + ' button');\n",
              "      quickchartButtonEl.disabled = true;  // To prevent multiple clicks.\n",
              "      quickchartButtonEl.classList.add('colab-df-spinner');\n",
              "      try {\n",
              "        const charts = await google.colab.kernel.invokeFunction(\n",
              "            'suggestCharts', [key], {});\n",
              "      } catch (error) {\n",
              "        console.error('Error during call to suggestCharts:', error);\n",
              "      }\n",
              "      quickchartButtonEl.classList.remove('colab-df-spinner');\n",
              "      quickchartButtonEl.classList.add('colab-df-quickchart-complete');\n",
              "    }\n",
              "    (() => {\n",
              "      let quickchartButtonEl =\n",
              "        document.querySelector('#df-415b760b-e3f5-4798-afc2-db7239cd3a2a button');\n",
              "      quickchartButtonEl.style.display =\n",
              "        google.colab.kernel.accessAllowed ? 'block' : 'none';\n",
              "    })();\n",
              "  </script>\n",
              "</div>\n",
              "\n",
              "  <div id=\"id_d75b1475-7d6c-42f2-a822-420569fb0688\">\n",
              "    <style>\n",
              "      .colab-df-generate {\n",
              "        background-color: #E8F0FE;\n",
              "        border: none;\n",
              "        border-radius: 50%;\n",
              "        cursor: pointer;\n",
              "        display: none;\n",
              "        fill: #1967D2;\n",
              "        height: 32px;\n",
              "        padding: 0 0 0 0;\n",
              "        width: 32px;\n",
              "      }\n",
              "\n",
              "      .colab-df-generate:hover {\n",
              "        background-color: #E2EBFA;\n",
              "        box-shadow: 0px 1px 2px rgba(60, 64, 67, 0.3), 0px 1px 3px 1px rgba(60, 64, 67, 0.15);\n",
              "        fill: #174EA6;\n",
              "      }\n",
              "\n",
              "      [theme=dark] .colab-df-generate {\n",
              "        background-color: #3B4455;\n",
              "        fill: #D2E3FC;\n",
              "      }\n",
              "\n",
              "      [theme=dark] .colab-df-generate:hover {\n",
              "        background-color: #434B5C;\n",
              "        box-shadow: 0px 1px 3px 1px rgba(0, 0, 0, 0.15);\n",
              "        filter: drop-shadow(0px 1px 2px rgba(0, 0, 0, 0.3));\n",
              "        fill: #FFFFFF;\n",
              "      }\n",
              "    </style>\n",
              "    <button class=\"colab-df-generate\" onclick=\"generateWithVariable('test_df')\"\n",
              "            title=\"Generate code using this dataframe.\"\n",
              "            style=\"display:none;\">\n",
              "\n",
              "  <svg xmlns=\"http://www.w3.org/2000/svg\" height=\"24px\"viewBox=\"0 0 24 24\"\n",
              "       width=\"24px\">\n",
              "    <path d=\"M7,19H8.4L18.45,9,17,7.55,7,17.6ZM5,21V16.75L18.45,3.32a2,2,0,0,1,2.83,0l1.4,1.43a1.91,1.91,0,0,1,.58,1.4,1.91,1.91,0,0,1-.58,1.4L9.25,21ZM18.45,9,17,7.55Zm-12,3A5.31,5.31,0,0,0,4.9,8.1,5.31,5.31,0,0,0,1,6.5,5.31,5.31,0,0,0,4.9,4.9,5.31,5.31,0,0,0,6.5,1,5.31,5.31,0,0,0,8.1,4.9,5.31,5.31,0,0,0,12,6.5,5.46,5.46,0,0,0,6.5,12Z\"/>\n",
              "  </svg>\n",
              "    </button>\n",
              "    <script>\n",
              "      (() => {\n",
              "      const buttonEl =\n",
              "        document.querySelector('#id_d75b1475-7d6c-42f2-a822-420569fb0688 button.colab-df-generate');\n",
              "      buttonEl.style.display =\n",
              "        google.colab.kernel.accessAllowed ? 'block' : 'none';\n",
              "\n",
              "      buttonEl.onclick = () => {\n",
              "        google.colab.notebook.generateWithVariable('test_df');\n",
              "      }\n",
              "      })();\n",
              "    </script>\n",
              "  </div>\n",
              "\n",
              "    </div>\n",
              "  </div>\n"
            ],
            "application/vnd.google.colaboratory.intrinsic+json": {
              "type": "dataframe",
              "variable_name": "test_df",
              "summary": "{\n  \"name\": \"test_df\",\n  \"rows\": 66292,\n  \"fields\": [\n    {\n      \"column\": \"PhraseId\",\n      \"properties\": {\n        \"dtype\": \"number\",\n        \"std\": 19136,\n        \"min\": 156061,\n        \"max\": 222352,\n        \"num_unique_values\": 66292,\n        \"samples\": [\n          199715,\n          204316,\n          169706\n        ],\n        \"semantic_type\": \"\",\n        \"description\": \"\"\n      }\n    },\n    {\n      \"column\": \"SentenceId\",\n      \"properties\": {\n        \"dtype\": \"number\",\n        \"std\": 966,\n        \"min\": 8545,\n        \"max\": 11855,\n        \"num_unique_values\": 3310,\n        \"samples\": [\n          8597,\n          9226,\n          9922\n        ],\n        \"semantic_type\": \"\",\n        \"description\": \"\"\n      }\n    },\n    {\n      \"column\": \"Phrase\",\n      \"properties\": {\n        \"dtype\": \"string\",\n        \"num_unique_values\": 66291,\n        \"samples\": [\n          \"Dense with characters\",\n          \"the real world\",\n          \"its dreamlike glide\"\n        ],\n        \"semantic_type\": \"\",\n        \"description\": \"\"\n      }\n    }\n  ]\n}"
            }
          },
          "metadata": {},
          "execution_count": 10
        }
      ]
    },
    {
      "cell_type": "markdown",
      "source": [
        "## Triển khai TF-IDF"
      ],
      "metadata": {
        "id": "V1MjvmabNpQD"
      }
    },
    {
      "cell_type": "code",
      "source": [
        "from nltk.tokenize import word_tokenize\n",
        "from nltk.corpus import stopwords\n",
        "from nltk.stem.snowball import SnowballStemmer\n",
        "import nltk"
      ],
      "metadata": {
        "id": "fmNK0aXXNhsC"
      },
      "execution_count": 15,
      "outputs": []
    },
    {
      "cell_type": "code",
      "source": [
        "nltk.download('punkt')\n",
        "nltk.download('stopwords')\n",
        "stop_words = stopwords.words('english')\n",
        "stemmer = SnowballStemmer('english')"
      ],
      "metadata": {
        "colab": {
          "base_uri": "https://localhost:8080/"
        },
        "id": "g6HsDc8_N3U-",
        "outputId": "21cb37fe-d869-4926-f7ec-2df7d1dafedc"
      },
      "execution_count": 22,
      "outputs": [
        {
          "output_type": "stream",
          "name": "stderr",
          "text": [
            "[nltk_data] Downloading package punkt to /root/nltk_data...\n",
            "[nltk_data]   Package punkt is already up-to-date!\n",
            "[nltk_data] Downloading package stopwords to /root/nltk_data...\n",
            "[nltk_data]   Package stopwords is already up-to-date!\n"
          ]
        }
      ]
    },
    {
      "cell_type": "code",
      "source": [
        "from sklearn.feature_extraction.text import TfidfVectorizer"
      ],
      "metadata": {
        "id": "ERnFu49YOMWa"
      },
      "execution_count": 17,
      "outputs": []
    },
    {
      "cell_type": "code",
      "source": [
        "def tokenizer(text):\n",
        "    return [stemmer.stem(word) for word in word_tokenize(text)]"
      ],
      "metadata": {
        "id": "OYvVHnFXOhmh"
      },
      "execution_count": 18,
      "outputs": []
    },
    {
      "cell_type": "code",
      "source": [
        "vectorizer = TfidfVectorizer(tokenizer=tokenizer,\n",
        "                             stop_words=stop_words,\n",
        "                             lowercase = True,\n",
        "                             max_features=10000)"
      ],
      "metadata": {
        "id": "r6WtclOzO0gO"
      },
      "execution_count": 23,
      "outputs": []
    },
    {
      "cell_type": "code",
      "source": [
        "%%time\n",
        "vectorizer.fit(train_df['Phrase'])"
      ],
      "metadata": {
        "colab": {
          "base_uri": "https://localhost:8080/",
          "height": 320
        },
        "id": "j4EkvygZPTgG",
        "outputId": "f5e058dd-32be-43c1-f495-6c8c1abf1ac7"
      },
      "execution_count": 24,
      "outputs": [
        {
          "output_type": "stream",
          "name": "stderr",
          "text": [
            "/usr/local/lib/python3.10/dist-packages/sklearn/feature_extraction/text.py:525: UserWarning: The parameter 'token_pattern' will not be used since 'tokenizer' is not None'\n",
            "  warnings.warn(\n",
            "/usr/local/lib/python3.10/dist-packages/sklearn/feature_extraction/text.py:408: UserWarning: Your stop_words may be inconsistent with your preprocessing. Tokenizing the stop words generated tokens [\"'d\", \"'s\", 'abov', 'ani', 'becaus', 'befor', 'could', 'doe', 'dure', 'might', 'must', \"n't\", 'need', 'onc', 'onli', 'ourselv', 'sha', 'themselv', 'veri', 'whi', 'wo', 'would', 'yourselv'] not in stop_words.\n",
            "  warnings.warn(\n"
          ]
        },
        {
          "output_type": "stream",
          "name": "stdout",
          "text": [
            "CPU times: user 33.1 s, sys: 59.6 ms, total: 33.1 s\n",
            "Wall time: 33.4 s\n"
          ]
        },
        {
          "output_type": "execute_result",
          "data": {
            "text/plain": [
              "TfidfVectorizer(max_features=10000,\n",
              "                stop_words=['i', 'me', 'my', 'myself', 'we', 'our', 'ours',\n",
              "                            'ourselves', 'you', \"you're\", \"you've\", \"you'll\",\n",
              "                            \"you'd\", 'your', 'yours', 'yourself', 'yourselves',\n",
              "                            'he', 'him', 'his', 'himself', 'she', \"she's\",\n",
              "                            'her', 'hers', 'herself', 'it', \"it's\", 'its',\n",
              "                            'itself', ...],\n",
              "                tokenizer=<function tokenizer at 0x7a7f67051ab0>)"
            ],
            "text/html": [
              "<style>#sk-container-id-1 {color: black;}#sk-container-id-1 pre{padding: 0;}#sk-container-id-1 div.sk-toggleable {background-color: white;}#sk-container-id-1 label.sk-toggleable__label {cursor: pointer;display: block;width: 100%;margin-bottom: 0;padding: 0.3em;box-sizing: border-box;text-align: center;}#sk-container-id-1 label.sk-toggleable__label-arrow:before {content: \"▸\";float: left;margin-right: 0.25em;color: #696969;}#sk-container-id-1 label.sk-toggleable__label-arrow:hover:before {color: black;}#sk-container-id-1 div.sk-estimator:hover label.sk-toggleable__label-arrow:before {color: black;}#sk-container-id-1 div.sk-toggleable__content {max-height: 0;max-width: 0;overflow: hidden;text-align: left;background-color: #f0f8ff;}#sk-container-id-1 div.sk-toggleable__content pre {margin: 0.2em;color: black;border-radius: 0.25em;background-color: #f0f8ff;}#sk-container-id-1 input.sk-toggleable__control:checked~div.sk-toggleable__content {max-height: 200px;max-width: 100%;overflow: auto;}#sk-container-id-1 input.sk-toggleable__control:checked~label.sk-toggleable__label-arrow:before {content: \"▾\";}#sk-container-id-1 div.sk-estimator input.sk-toggleable__control:checked~label.sk-toggleable__label {background-color: #d4ebff;}#sk-container-id-1 div.sk-label input.sk-toggleable__control:checked~label.sk-toggleable__label {background-color: #d4ebff;}#sk-container-id-1 input.sk-hidden--visually {border: 0;clip: rect(1px 1px 1px 1px);clip: rect(1px, 1px, 1px, 1px);height: 1px;margin: -1px;overflow: hidden;padding: 0;position: absolute;width: 1px;}#sk-container-id-1 div.sk-estimator {font-family: monospace;background-color: #f0f8ff;border: 1px dotted black;border-radius: 0.25em;box-sizing: border-box;margin-bottom: 0.5em;}#sk-container-id-1 div.sk-estimator:hover {background-color: #d4ebff;}#sk-container-id-1 div.sk-parallel-item::after {content: \"\";width: 100%;border-bottom: 1px solid gray;flex-grow: 1;}#sk-container-id-1 div.sk-label:hover label.sk-toggleable__label {background-color: #d4ebff;}#sk-container-id-1 div.sk-serial::before {content: \"\";position: absolute;border-left: 1px solid gray;box-sizing: border-box;top: 0;bottom: 0;left: 50%;z-index: 0;}#sk-container-id-1 div.sk-serial {display: flex;flex-direction: column;align-items: center;background-color: white;padding-right: 0.2em;padding-left: 0.2em;position: relative;}#sk-container-id-1 div.sk-item {position: relative;z-index: 1;}#sk-container-id-1 div.sk-parallel {display: flex;align-items: stretch;justify-content: center;background-color: white;position: relative;}#sk-container-id-1 div.sk-item::before, #sk-container-id-1 div.sk-parallel-item::before {content: \"\";position: absolute;border-left: 1px solid gray;box-sizing: border-box;top: 0;bottom: 0;left: 50%;z-index: -1;}#sk-container-id-1 div.sk-parallel-item {display: flex;flex-direction: column;z-index: 1;position: relative;background-color: white;}#sk-container-id-1 div.sk-parallel-item:first-child::after {align-self: flex-end;width: 50%;}#sk-container-id-1 div.sk-parallel-item:last-child::after {align-self: flex-start;width: 50%;}#sk-container-id-1 div.sk-parallel-item:only-child::after {width: 0;}#sk-container-id-1 div.sk-dashed-wrapped {border: 1px dashed gray;margin: 0 0.4em 0.5em 0.4em;box-sizing: border-box;padding-bottom: 0.4em;background-color: white;}#sk-container-id-1 div.sk-label label {font-family: monospace;font-weight: bold;display: inline-block;line-height: 1.2em;}#sk-container-id-1 div.sk-label-container {text-align: center;}#sk-container-id-1 div.sk-container {/* jupyter's `normalize.less` sets `[hidden] { display: none; }` but bootstrap.min.css set `[hidden] { display: none !important; }` so we also need the `!important` here to be able to override the default hidden behavior on the sphinx rendered scikit-learn.org. See: https://github.com/scikit-learn/scikit-learn/issues/21755 */display: inline-block !important;position: relative;}#sk-container-id-1 div.sk-text-repr-fallback {display: none;}</style><div id=\"sk-container-id-1\" class=\"sk-top-container\"><div class=\"sk-text-repr-fallback\"><pre>TfidfVectorizer(max_features=10000,\n",
              "                stop_words=[&#x27;i&#x27;, &#x27;me&#x27;, &#x27;my&#x27;, &#x27;myself&#x27;, &#x27;we&#x27;, &#x27;our&#x27;, &#x27;ours&#x27;,\n",
              "                            &#x27;ourselves&#x27;, &#x27;you&#x27;, &quot;you&#x27;re&quot;, &quot;you&#x27;ve&quot;, &quot;you&#x27;ll&quot;,\n",
              "                            &quot;you&#x27;d&quot;, &#x27;your&#x27;, &#x27;yours&#x27;, &#x27;yourself&#x27;, &#x27;yourselves&#x27;,\n",
              "                            &#x27;he&#x27;, &#x27;him&#x27;, &#x27;his&#x27;, &#x27;himself&#x27;, &#x27;she&#x27;, &quot;she&#x27;s&quot;,\n",
              "                            &#x27;her&#x27;, &#x27;hers&#x27;, &#x27;herself&#x27;, &#x27;it&#x27;, &quot;it&#x27;s&quot;, &#x27;its&#x27;,\n",
              "                            &#x27;itself&#x27;, ...],\n",
              "                tokenizer=&lt;function tokenizer at 0x7a7f67051ab0&gt;)</pre><b>In a Jupyter environment, please rerun this cell to show the HTML representation or trust the notebook. <br />On GitHub, the HTML representation is unable to render, please try loading this page with nbviewer.org.</b></div><div class=\"sk-container\" hidden><div class=\"sk-item\"><div class=\"sk-estimator sk-toggleable\"><input class=\"sk-toggleable__control sk-hidden--visually\" id=\"sk-estimator-id-1\" type=\"checkbox\" checked><label for=\"sk-estimator-id-1\" class=\"sk-toggleable__label sk-toggleable__label-arrow\">TfidfVectorizer</label><div class=\"sk-toggleable__content\"><pre>TfidfVectorizer(max_features=10000,\n",
              "                stop_words=[&#x27;i&#x27;, &#x27;me&#x27;, &#x27;my&#x27;, &#x27;myself&#x27;, &#x27;we&#x27;, &#x27;our&#x27;, &#x27;ours&#x27;,\n",
              "                            &#x27;ourselves&#x27;, &#x27;you&#x27;, &quot;you&#x27;re&quot;, &quot;you&#x27;ve&quot;, &quot;you&#x27;ll&quot;,\n",
              "                            &quot;you&#x27;d&quot;, &#x27;your&#x27;, &#x27;yours&#x27;, &#x27;yourself&#x27;, &#x27;yourselves&#x27;,\n",
              "                            &#x27;he&#x27;, &#x27;him&#x27;, &#x27;his&#x27;, &#x27;himself&#x27;, &#x27;she&#x27;, &quot;she&#x27;s&quot;,\n",
              "                            &#x27;her&#x27;, &#x27;hers&#x27;, &#x27;herself&#x27;, &#x27;it&#x27;, &quot;it&#x27;s&quot;, &#x27;its&#x27;,\n",
              "                            &#x27;itself&#x27;, ...],\n",
              "                tokenizer=&lt;function tokenizer at 0x7a7f67051ab0&gt;)</pre></div></div></div></div></div>"
            ]
          },
          "metadata": {},
          "execution_count": 24
        }
      ]
    },
    {
      "cell_type": "code",
      "source": [
        "print(len(vectorizer.vocabulary_))\n",
        "print(vectorizer.vocabulary_)"
      ],
      "metadata": {
        "colab": {
          "base_uri": "https://localhost:8080/"
        },
        "id": "2GfKnBI-PiV0",
        "outputId": "ce24e555-44ca-4977-b908-69a84ff10a26"
      },
      "execution_count": 25,
      "outputs": [
        {
          "output_type": "stream",
          "name": "stdout",
          "text": [
            "10000\n",
            "{'seri': 7745, 'escapad': 2934, 'demonstr': 2312, 'adag': 281, 'good': 3753, 'goos': 3769, 'also': 425, 'gander': 3588, ',': 12, 'occasion': 6037, 'amus': 467, 'none': 5963, 'amount': 463, 'much': 5754, 'stori': 8390, '.': 17, 'quiet': 6951, 'introspect': 4602, 'entertain': 2889, 'independ': 4450, 'worth': 9891, 'seek': 7656, 'even': 2975, 'fan': 3135, 'merchant': 5517, \"'s\": 9, 'work': 9868, 'suspect': 8594, 'would': 9895, 'hard': 4005, 'time': 8899, 'sit': 7945, 'one': 6098, 'posit': 6668, 'thrill': 8858, 'combin': 1787, 'ethnographi': 2957, 'intrigu': 4598, 'betray': 963, 'deceit': 2239, 'murder': 5776, 'shakespearean': 7787, 'tragedi': 9012, 'juici': 4773, 'soap': 8102, 'opera': 6126, 'aggress': 349, 'self-glorif': 7691, 'manipul': 5377, 'comedy-drama': 1794, 'near': 5857, 'epic': 2906, 'proport': 6835, 'root': 7391, 'sincer': 7930, 'perform': 6433, 'titl': 8923, 'charact': 1517, 'undergo': 9249, 'midlif': 5564, 'crisi': 2072, 'narrat': 5837, 'troubl': 9091, 'everi': 2986, 'day': 2206, 'plod': 6586, 'mess': 5526, 'import': 4401, 'earnest': 2726, 'thick': 8823, 'wit': 9829, 'play': 6565, 'like': 5125, 'read': 7060, 'bartlett': 845, 'familiar': 3128, 'quotat': 6963, 'doe': 2543, \"n't\": 5813, 'leav': 5043, 'could': 1990, 'hate': 4043, 'reason': 7079, 'littl': 5168, 'recommend': 7099, 'snow': 8096, 'dog': 2545, 'unless': 9342, 'consid': 1897, 'clich': 1688, 'dialogu': 2384, 'pervers': 6460, 'escap': 2933, 'sourc': 8173, 'high': 4141, 'hilar': 4158, 'kung': 4915, 'pow': 6694, 'oedekerk': 6050, 'realize': 7074, 'childhood': 1578, 'dream': 2629, 'martial-art': 5410, 'flick': 3336, 'prove': 6847, 'sometim': 8142, 'youth': 9965, 'remain': 7183, 'absolut': 220, 'joy': 4762, 'someth': 8141, 'serious': 7747, 'say': 7535, 'way': 9662, 'extravag': 3074, 'chanc': 1507, 'distort': 2512, 'perspect': 6455, 'throw': 8869, 'us': 9420, 'path': 6359, 'sens': 7721, 'still': 8363, 'moonlight': 5698, 'mile': 5576, 'better': 967, 'judgment': 4769, 'damn': 2174, 'welcom': 9694, 'relief': 7176, 'movi': 5739, 'tri': 9059, 'mythic': 5810, 'sweet': 8614, 'modest': 5662, 'ultim': 9185, 'win': 9802, 'charmer': 1531, 'woman': 9851, 'inspir': 4537, 'less': 5077, 'dizzili': 2530, 'gorgeous': 3776, 'companion': 1819, 'mr.': 5749, 'mood': 5696, 'love': 5241, '--': 14, 'veri': 9489, 'hong': 4225, 'kong': 4900, 'despit': 2353, 'mainland': 5338, 'set': 7757, 'inept': 4474, 'big-screen': 986, 'remak': 7184, 'aveng': 718, 'wild': 9791, 'west': 9733, 'everyth': 2994, \"'d\": 6, 'expect': 3035, 'noth': 5999, 'best': 955, 'indi': 4453, 'year': 9942, 'far': 3147, 'hatfield': 4044, 'make': 5347, 'oddest': 6044, 'coupl': 2001, 'becom': 889, 'studi': 8445, 'gambl': 3583, 'publish': 6877, 'world': 9879, 'offer': 6063, 'case': 1439, 'exist': 3028, 'apart': 550, 'polit': 6625, 'ramif': 7000, 'go': 3725, 'hous': 4263, 'parti': 6334, 'watch': 9648, 'host': 4249, 'defend': 2267, 'froth': 3517, 'ex-girlfriend': 3003, 'chuck': 1617, '``': 189, 'grenad': 3842, 'gag': 3567, 'occur': 6040, '7': 147, 'dure': 2694, 'windtalk': 9809, 'indic': 4456, 'serious-mind': 7748, 'film': 3256, \"''\": 5, 'plot': 6587, 'romant': 7385, 'comedi': 1792, 'boilerpl': 1106, 'start': 8321, 'finish': 3272, 'arriv': 609, 'impecc': 4388, 'pedigre': 6400, 'mongrel': 5680, 'pep': 6419, 'almost': 420, 'indecipher': 4448, 'complic': 1838, 'clear': 1676, 'mean': 5467, 'preach': 6711, 'convert': 1940, 'opportun': 6131, 'smile': 8063, 'chuckl': 1618, 'give': 3689, 'theater': 8805, 'beyond': 971, 'actor': 270, \"'\": 4, 'latest': 4996, 'vapid': 9449, 'exercis': 3022, 'appropri': 571, 'structur': 8436, 'arthur': 616, 'schnitzler': 7577, 'reigen': 7153, 'vaudevill': 9460, 'show': 7859, 'well-construct': 9700, 'term': 8776, 'inoffens': 4520, 'actual': 276, 'rather': 7029, 'run-of-the-mil': 7438, 'action': 262, 'hamper': 3973, 'paralyz': 6316, 'self-indulg': 7698, 'script': 7620, '...': 18, 'aim': 368, 'poetri': 6606, 'end': 2849, 'sound': 8169, 'satir': 7521, 'ice': 4326, 'age': 341, 'first': 3281, 'computer-gener': 1850, 'featur': 3191, 'cartoon': 1434, 'feel': 3197, 'glacial': 3693, 'pace': 6261, 'earli': 2721, 'maker': 5349, 'serv': 7752, 'consider': 1898, 'dash': 2196, 'cattaneo': 1464, 'follow': 3381, 'runaway': 7440, 'success': 8504, 'full': 3530, 'monti': 5694, 'differ': 2405, 'unnam': 9349, 'easili': 2733, 'substitut': 8492, 'forc': 3397, 'whatev': 9740, 'terror': 8784, 'hero': 4121, 'horror': 4243, 'avoid': 724, 'interest': 4572, 'progress': 6813, 'rambl': 6998, 'incoher': 4436, 'new': 5900, 'phrase': 6494, '`': 188, 'fatal': 3169, 'error': 2931, 'judg': 4768, 'soon': 8151, '-': 13, 'dark': 2190, 'gritti': 3860, 'take': 8669, 'total': 8987, 'unexpect': 9292, 'direct': 2432, 'keep': 4825, 'young': 9960, 'date': 2198, 'tartakovski': 8697, 'team': 8720, 'freakish': 3472, 'power': 6695, 'visual': 9557, 'charm': 1530, 'five': 3293, 'writer': 9913, 'slip': 8021, 'modern': 5659, 'rut': 7451, 'banal': 801, 'vincent': 9537, 'gallo': 3580, 'right': 7321, 'home': 4213, 'french': 3485, 'shocker': 7837, 'usual': 9425, 'bad': 766, 'boy': 1168, 'weirdo': 9692, 'role': 7377, 'primari': 6771, 'goal': 3727, 'frighten': 3507, 'disturb': 2515, 'spectacular': 8201, 'well': 9696, 'shiver-induc': 7833, 'nerve-rattl': 5886, 'ride': 7314, '100-minut': 28, 'onli': 6111, '25': 108, 'minut': 5607, 'decent': 2241, 'materi': 5433, 'fortun': 3428, 'option': 6141, 'sensat': 7722, 'true-crim': 9099, 'purist': 6910, 'might': 5569, 'experiment': 3042, 'storytel': 8394, '-lrb-': 15, 'though': 8841, 'horrifi': 4242, '-rrb-': 16, 'tricki': 9065, 'satisfi': 7524, 'ani': 498, 'david': 2202, 'mamet': 5363, 'airless': 375, 'cinemat': 1631, 'shell': 7817, 'game': 3584, \"'m\": 7, 'sure': 8568, 'filmmak': 3260, 'disagre': 2444, 'honest': 4222, 'see': 7654, 'point': 6610, 'jone': 4753, 'tackl': 8658, 'meati': 5477, 'subject': 8477, 'drawn': 2626, 'engag': 2863, 'pepper': 6421, 'page': 6269, 'memor': 5506, 'zinger': 9989, 'bloodi': 1068, 'sunday': 8538, 'grace': 3792, 'call': 1362, 'prevent': 6760, 'place': 6547, 'blame': 1033, 'war': 9621, 'ever': 2980, 'made': 5316, 'clunki': 1729, 'approach': 570, 'detail': 2359, 'chapter': 1515, 'life': 5106, 'celebr': 1478, 'irish': 4626, 'playwright': 6574, 'poet': 6604, 'drinker': 2644, 'final': 3262, 'come': 1789, 'miramax': 5612, 'deep': 2259, 'shelv': 7818, 'abort': 210, 'attempt': 675, 'wake': 9594, 'reno': 7200, 'strong': 8431, 'let': 5082, 'sleep': 8003, 'lie': 5104, 'thank': 8797, 'larg': 4974, 'william': 9797, 'develop': 2368, 'process': 6798, '60': 140, 'rest': 7246, 'overexpos': 6220, 'wast': 9646, 'across': 259, 'relic': 7175, 'bygon': 1335, 'era': 2920, 'convolut': 1945, 'silli': 7910, 'perhap': 6435, 'refresh': 7136, 'lead': 5029, 'run': 7436, 'live': 5171, '!': 0, 'mark': 5399, 'pellington': 6408, 'pop': 6640, 'thriller': 8860, 'kooki': 4901, 'overeag': 6219, 'spooki': 8246, 'subt': 8493, 'myth': 5809, 'claud': 1666, 'chabrol': 1495, 'camera': 1373, 'gentl': 3649, 'sway': 8608, 'back': 751, 'forth': 3425, 'cradl': 2018, 'veil': 9468, 'tension': 8772, 'beneath': 937, 'otherwis': 6167, 'tender': 8768, 'movement': 5738, 'transform': 9024, 'shakespear': 7786, 'deepest': 2262, 'smart': 8054, 'screenplay': 7614, 'jame': 4682, 'eric': 2922, 'horton': 4246, 'director': 2436, 'peter': 6466, \"o'fallon\": 6025, 'pat': 6356, 'teeth': 8745, 'hurt': 4303, 'particular': 6337, 'moment': 5674, 'histori': 4175, 'flicker': 3338, 'remind': 7189, 'tie': 8889, 'bind': 999, 'generic': 3634, 'villain': 9534, 'lack': 4935, 'funni': 3547, 'accent': 231, 'scene': 7556, 'poor': 6637, 'deliv': 2296, 'deepli': 2263, 'thought': 8842, 'right-think': 7323, 'gratuit': 3819, 'distract': 2513, 'impress': 4405, 'upon': 9408, 'fun': 3538, 'downright': 2599, 'transpar': 9029, 'endless': 2854, 'assault': 645, 'embarrass': 2819, 'ham-fist': 3970, 'sex': 7769, 'joke': 4743, 'reek': 7127, 'design': 2347, 'garner': 3605, 'cooler': 1951, 'pg-13': 6470, 'rate': 7028, 'provoc': 6853, 'drama': 2616, 'imposs': 4403, ':': 182, 'get': 3661, 'skin': 7972, 'man': 5364, 'know': 4894, 'evil': 2998, 'monstrous': 5691, 'lunat': 5284, 'mani': 5373, 'thing': 8825, 'stoner': 8385, 'midnight': 5565, 'sci-fi': 7586, 'deconstruct': 2252, 'gay': 3615, 'fantasia': 3143, 'abov': 212, 'sanguin': 7508, 'two': 9161, 'skittish': 7978, 'york': 9956, 'middle-ag': 5559, 'stumbl': 8454, 'relationship': 7165, 'struggl': 8437, 'furious': 3552, 'fear': 3184, 'foibl': 3375, 'ambit': 442, 'willing': 9798, 'scherfig': 7566, 'wonder': 9853, 'clever': 1686, 'credit': 2049, 'roll': 7378, 'absorb': 221, 'documentari': 2537, 'rot': 7399, 'hack': 3935, 'vignett': 9531, 'clip': 1700, 'look': 5211, 'common': 1811, 'through-lin': 8867, 'contriv': 1933, 'pastich': 6354, 'caper': 1401, 'major': 5345, 'problem': 6794, 'bulk': 1290, 'center': 1486, 'wrong': 9919, 'swimfan': 8622, 'attract': 680, 'eventu': 2979, 'goe': 3735, 'overboard': 6213, 'looni': 5215, 'melodramat': 5500, 'denouement': 2319, 'school': 7578, 'swim': 8621, 'pool': 6636, 'bathtub': 861, 'heartfelt': 4082, 'involv': 4615, 'unsettl': 9380, 'experi': 3040, 'predecessor': 6719, 'proud': 6846, 'pretti': 6756, 'execut': 3020, 'lot': 5231, 'richer': 7309, 'hollywood': 4204, 'screenwrit': 7615, 'phillip': 6480, 'noyc': 6012, 'cinematograph': 1632, 'christoph': 1614, 'doyl': 2604, 'understand': 9263, 'delic': 2290, 'green': 3836, 'prose': 6839, 'screen': 7613, 'version': 9497, 'american': 448, 'pianist': 6498, 'quick': 6946, 'emot': 2829, 'connect': 1887, 'steven': 8355, 'spielberg': 8217, 'schindler': 7568, 'list': 5158, 'invent': 4608, 'intox': 4595, 'sexi': 7771, 'violent': 9541, 'madden': 5315, 'tell': 8756, 'fascin': 3158, 'compel': 1826, 'written': 9918, 'flat': 3313, 'bare': 826, 'mari': 5392, 'co-writ': 1736, 'ed': 2748, 'decter': 2255, 'view': 9527, 'courag': 2002, 'idea': 4335, 'technic': 8728, 'profici': 6807, 'great': 3828, 'act': 260, 'imax': 4371, 'short': 7850, 'big': 982, 'slice': 8012, 'yet': 9950, 'instant': 4541, 'recogniz': 7098, 'amid': 453, 'shock': 7835, 'curios': 2131, 'factor': 3106, 'corni': 1972, 'examin': 3007, 'actress': 274, 'find': 3265, 'lazi': 5024, 'solv': 8134, 'solut': 8133, 'anoth': 516, 'comprehens': 1844, 'dummi': 2684, 'guid': 3899, 'enjoy': 2875, 'becaus': 886, 'music': 5787, 'comic': 1799, 'antic': 531, 'pleasur': 6580, 'disney': 2488, 'scrape': 7607, 'bottom': 1148, 'cracker': 2016, 'barrel': 838, 'writer\\\\/director': 9917, 'burr': 1312, 'steer': 8341, 'emphas': 2833, 'q': 6928, 'quirki': 6958, 'mix': 5646, 'result': 7255, 'scarc': 7541, 'mention': 5512, 'report': 7213, 'number': 6018, 'tumblewe': 9120, 'blow': 1074, 'empti': 2838, 'theatr': 8806, 'compani': 1818, 'invigor': 4611, 'surreal': 8584, 'reson': 7238, 'rainbow': 6990, 'analyz': 474, 'crass': 2034, 'sequel': 7738, 'fail': 3111, 'second-guess': 7643, 'affect': 318, 'origin': 6154, 'card': 1410, 'exalt': 3006, 'taglin': 8663, 'definit': 2275, 'room': 7390, 'improv': 4409, 'neither': 5875, 'monster': 5688, 'tsai': 9111, 'may': 5450, 'plough': 6590, 'furrow': 3553, 'onc': 6097, 'often': 6065, 'equival': 2918, 'saddam': 7468, 'hussein': 4308, 'readi': 7062, 'u.n.': 9179, 'ask': 636, 'permiss': 6441, 'preemptiv': 6724, 'strike': 8422, 'surpris': 8583, 'solid': 8128, 'achiev': 252, 'malcolm': 5356, 'lee': 5051, 'john': 4738, 'massoud': 5426, 'record': 7105, 'tenaci': 8765, 'human': 4280, 'fighter': 3248, 'prison': 6783, 'victim': 9513, 'chang': 1508, 'lane': 4963, 'shyamalan': 7883, 'stop': 8387, 'pleas': 6577, 'mom': 5673, 'macabr': 5301, 'styliz': 8467, 'swedish': 8612, 'fillm': 3255, 'citi': 1645, 'religi': 7177, 'civic': 1646, 'virtu': 9544, 'hold': 4193, 'societi': 8111, 'tatter': 8704, 'recent': 7088, 'memori': 5507, 'art': 612, 'ethic': 2954, 'cost': 1982, 'moral': 5703, 'compromis': 1846, 'consist': 1901, 'unimagin': 9324, 'probabl': 6791, 'save': 7529, 'aid': 365, 'wisecrack': 9822, 'mysteri': 5806, 'scienc': 7587, '3000': 116, 'guy': 3928, 'tian': 8882, 'zhuangzhuang': 9987, 'triumphant': 9082, 'return': 7276, 'master': 5427, 'mawkish': 5446, 'self-parodi': 7702, 'weird': 9691, 'masterpiec': 5428, 'sketch': 7961, 'believ': 925, 'put': 6921, 'battl': 865, 'care': 1414, 'appreci': 569, 'one-sid': 6106, 'theme': 8809, 'lawrenc': 5019, 'over-indulg': 6207, 'tirad': 8913, 'knock': 4891, 'postcard': 6678, 'self-glorifi': 7692, 'martin': 5411, 'lovefest': 5245, 'whole': 9769, 'sneaki': 8087, 'dupe': 2690, 'viewer': 9528, 'simpli': 7922, 'ugli': 9180, 'product': 6802, 'whenev': 9746, 'threaten': 8850, 'bog': 1100, 'dramaturgi': 2619, 'stir': 8373, 'sequenc': 7740, 'surg': 8580, 'swirl': 8626, 'rapid': 7016, 'leap': 5036, 'pinnacl': 6526, 'rous': 7412, 'swing': 8623, 'seem': 7657, 'fit': 3292, 'entir': 2895, 'unprepar': 9360, 'devo': 2375, 'perfect': 6431, 'captur': 1407, 'innoc': 4515, 'bud': 1277, 'demon': 2311, 'within': 9835, 'wallflow': 9606, '300': 115, 'russian': 7449, 'cultur': 2122, 'compress': 1845, 'evanesc': 2969, 'seamless': 7633, 'sumptuous': 8533, 'stream': 8411, 'conscious': 1894, 'want': 9620, 'els': 2809, 'cheap': 1539, 'b': 739, 'succeed': 8503, 'polanski': 6620, 'element': 2793, 'alon': 421, 'abandon': 198, 'consol': 1902, 'reveal': 7278, 'befor': 902, 'spiritu': 8228, 'surviv': 8590, 'spider-man': 8216, 'summer': 8528, 'blockbust': 1062, 'endur': 2856, 'last': 4987, 'hope': 4233, 'tone': 8950, 'stuff': 8450, 'vulgar': 9583, 'forgett': 3409, 'imag': 4366, 'war-ravag': 9623, 'land': 4957, 'potent': 6688, 'rivet': 7349, 'unlik': 9343, 'sarah': 7514, 'harrison': 4032, 'wind': 9804, 'revelatori': 7280, 'narcissist': 5834, 'insight': 4529, 'high-concept': 4143, 'candy-coat': 1389, 'storylin': 8393, 'precious': 6716, 'circumst': 1641, 'beauti': 881, 'star': 8315, 'martha': 5408, 'unsurpris': 9391, 'delect': 2286, 'divers': 2522, 'portrait': 6663, 'screwed-up': 7618, 'dare': 2188, 'peopl': 6418, 'seen': 7658, 'eye': 3082, 'idealist': 4337, 'kid': 4837, 'choos': 1597, 'champion': 1505, 'lose': 5227, 'caus': 1468, 'keen': 4823, 'observ': 6033, 'natur': 5847, 'promenad': 6821, 'clad': 1648, 'bodi': 1096, 'myrtl': 5805, 'beach': 870, 's.c.': 7457, 'adrenalin': 301, 'jolt': 4749, 'sudden': 8510, 'lunch': 5285, 'rush': 7446, 'diner': 2425, 's.c': 7456, 'brilliant': 1224, 'expens': 3039, 'paid': 6273, 'pay': 6383, 'triumph': 9081, 'hew': 4127, 'carri': 1431, 'effortless': 2763, 'light': 5116, 'everyon': 2993, 'coast': 1740, 'hook': 4229, 'delici': 2291, 'pulpi': 6884, 'lurid': 5289, 'fiction': 3232, 'kind': 4860, 'funnier': 3548, 'releas': 7168, 'outtak': 6201, 'theatric': 8807, 'use': 9421, 'bonus': 1123, 'dvd': 2703, 'tolstoy': 8941, 'groupi': 3878, '?': 185, 'daughter': 2199, 'effort': 2762, 'toward': 8999, 'closur': 1716, 'open': 6120, 'wound': 9897, 'unpredict': 9359, 'piec': 6511, 'although': 429, 'fair': 3114, 'fresh': 3490, 'grow': 3880, 'cathol': 1462, 'realli': 7075, 'anyth': 547, 'sleek': 8002, 'arti': 617, 'edit': 2752, 'bluescreen': 1081, 'highlight': 4155, 'radic': 6976, 'cho': 1591, 'face': 3097, 'amaz': 439, 'slapstick': 7994, 'instrument': 4549, 'creat': 2043, 'scrapbook': 7606, 'mug': 5761, 'shot': 7855, 'frame': 3452, 'complet': 1834, 'miss': 5635, 'initi': 4509, 'strang': 8403, 'rote': 7400, 'sentiment': 7733, 'mystic': 5807, 'expedi': 3036, 'brush': 1267, 'psycho': 6867, 'without': 9836, 'hartley': 4035, 'handl': 3983, 'cower': 2013, 'beg': 904, 'feet': 3200, 'scruffi': 7623, 'madonna': 5321, 'sinc': 7929, 'abel': 202, 'ferrara': 3215, 'beaten': 879, 'pulp': 6883, 'danger': 2182, 'clumsi': 1726, 'key': 4832, 'splash': 8231, 'eight': 2772, 'leg': 5055, 'freak': 3469, 'part': 6333, 'homag': 4212, 'tarantula': 8692, 'low': 5247, 'budget': 1279, 'b-movi': 741, '1950s': 64, '60s': 142, 'sophomor': 8155, 'romp': 7388, 'hellish': 4107, 'condit': 1869, 'errol': 2930, 'morri': 5713, 'focus': 3373, 'eccentr': 2739, 'bigger': 990, 'oddbal': 6043, 'america': 447, 'scientif': 7589, 'law': 5016, 'discern': 2454, 'produc': 6801, 'heed': 4094, 'mediocr': 5485, 'drag': 2612, 'speed': 8205, ';': 183, 'explos': 3053, 'fall': 3121, 'cool': 1949, 'never': 5897, 'awar': 730, 'artist': 621, 'tire': 8914, 'fight': 3247, 'weight': 9686, 'shoulder': 7856, 'form': 3415, 'stale': 8295, 'uninspir': 9329, 'cut': 2146, 'song': 8147, 'fulli': 3535, 'exampl': 3008, 'lush': 5291, 'all-envelop': 401, 'rhapsod': 7300, 'rare': 7022, 'capabl': 1398, 'sooth': 8153, 'break': 1202, 'heart': 4071, 'singl': 7935, 'stroke': 8429, 'eerili': 2759, 'accur': 245, 'depict': 2327, 'depress': 2331, 'feature-length': 3192, 'wear': 9668, 'gem': 3627, 'relay': 7167, 'univers': 9338, 'lectur': 5049, 'confront': 1883, 'scratch': 7608, 'hole': 4195, 'head': 4059, 'old-tim': 6083, 'good-bad': 3754, 'cross': 2086, 'toxic': 9002, 'chemic': 1560, 'bunch': 1301, 'exot': 3031, 'creatur': 2047, 'around': 605, 'scream': 7610, 'death': 2228, 'bet': 962, 'journey': 4760, 'turn': 9136, 'devolv': 2377, 'bizarr': 1019, 'sort': 8162, 'shainberg': 7783, 'adapt': 283, 'gaitskil': 3574, 'harrow': 4033, 'kim': 4856, 'mind': 5590, 'least': 5040, 'adolesc': 297, 'audienc': 686, 'demand': 2302, 'regular': 7149, 'bout': 1161, 'defens': 2268, 'sexual': 7775, 'violenc': 9540, 'employ': 2836, 'owe': 6252, 'favor': 3179, 'famous': 3133, 'parent': 6322, 'well-mad': 9710, 'scatter': 7553, 'whose': 9775, 'cinema': 1629, 'paradiso': 6313, 'campanella': 1378, 'middl': 5558, 'sad': 7467, 'amiabl': 451, 'unfocus': 9304, 'bagatell': 773, 'loosely-connect': 5221, 'string': 8423, 'acting-workshop': 261, 'sharp': 7801, 'dull': 2676, 'wallac': 9603, 'bit': 1013, 'heavi': 4088, 'hand': 3974, 'messag': 5527, 'flair': 3305, 'wax': 9661, 'poetic': 6605, 'tast': 8701, 'chimp': 1586, 'blown': 1075, 'size': 7956, 'spiral': 8224, 'downward': 2603, 'thud': 8875, 'utter': 9429, 'incompet': 4437, 'conclus': 1863, 'children': 1581, 'truest': 9101, 'horrend': 4240, 'amateurish': 438, 'plain': 6551, 'incomprehens': 4438, 'craft': 2019, 'upscal': 9412, 'hungri': 4295, 'qualiti': 6936, 'nostalg': 5984, 'twisti': 9159, 'yarn': 9937, 'guess': 3895, 'awkward': 736, 'magic': 5326, 'realism': 7070, 'punch': 6890, 'line': 5141, 'unfortun': 9309, 'outnumb': 6192, 'hit': 4177, 'three-to-on': 8855, 'smoke': 8067, 'signal': 7901, 'imbu': 4373, 'famili': 3127, 'move': 5737, 'stoop': 8386, 'base': 846, 'melodrama': 5499, 'evok': 3000, 'style': 8464, 'flash': 3309, 'heist': 4102, 'uplift': 9406, 'brief': 1220, 'need': 5865, 'x': 9924, 'blab': 1021, 'teen': 8734, 'gross-out': 3871, 'deal': 2222, 'preposter': 6739, 'uneven': 9290, 'rehash': 7151, 'sever': 7766, 'old': 6078, 'cap': 1397, 'pointless': 6614, 'extrem': 3076, 'insan': 4523, 'graphic': 3815, 'dragon': 2613, 'real': 7067, 'reign': 7154, 'fire': 3274, 'wo': 9845, 'disappoint': 2447, 'dramat': 2618, 'happen': 3997, 'manag': 5366, 'intend': 4562, 'coma-lik': 1784, 'state': 8326, 'generat': 3633, 'degre': 2281, 'random': 7007, 'lotteri': 5233, 'draw': 2623, 'veer': 9463, 'cours': 2003, 'unintent': 9330, 'parallel': 6315, 'inadvert': 4419, 'humor': 4289, 'saw': 7534, 'tv': 9142, 'convinc': 1944, 'alreadi': 424, 'territori': 8783, 'smug': 8075, 'self-satisfact': 7710, 'associ': 652, 'privat': 6786, 'superior': 8557, 'heavy-hand': 4090, 'navig': 5853, 'fast': 3161, 'fade': 3108, 'pompos': 6630, 'pretenti': 6755, 'weak': 9666, 'togeth': 8935, 'told': 8938, 'enough': 2881, 'sophist': 8154, 'liter': 5162, 'pictur': 6507, 'catch': 1453, 'slight': 8016, 'mont': 5692, 'cristo': 2076, 'well-wrought': 9722, 'needless': 5867, 'chase': 1533, 'swordfight': 8634, 'reveng': 7281, 'unfold': 9305, 'fairi': 3115, 'tale': 8671, 'renown': 7201, 'indian': 4455, 'allow': 416, 'revel': 7279, 'splendor': 8234, 'well-don': 9705, 'supernatur': 8560, 'parapsycholog': 6319, 'phenomena': 6474, 'soul': 8165, 'nuanc': 6013, 'griev': 3847, 'bond': 1120, 'super-wealthi': 8549, 'megalomaniac': 5490, 'bent': 942, 'domin': 2562, 'destruct': 2357, 'ruthless': 7452, 'pain': 6274, 'deprav': 2330, 'stare': 8319, 'damon': 2175, 'bring': 1226, 'proper': 6831, 'convict': 1943, 'jason': 4694, 'bourn': 1160, 'penanc': 6411, 'rich': 7307, 'singular': 7938, 'off-put': 6056, 'von': 9575, 'instead': 4542, 'opt': 6138, 'routin': 7414, 'slasher': 7996, 'nice': 5910, 'trust': 9108, 'complex': 1836, 'left': 5053, 'predict': 6721, 'superflu': 8554, 'plagu': 6550, 'shown': 7868, 'appoint': 568, 'visibl': 9551, 'enthusiasm': 2892, 'roughshod': 7409, 'document': 2536, 'workabl': 9871, 'primer': 6774, 'region': 7146, 'terrif': 8781, '10th-grade': 34, 'learn': 5038, 'tool': 8962, 'cloak': 1703, 'anti-feminist': 525, 'equat': 2915, 'career': 1416, '=': 184, 'miseri': 5625, 'tiresom': 8916, 'dud': 2671, \"'n\": 8, 'safe': 7475, 'milquetoast': 5588, 'week': 9681, 'transcend': 9020, 'boy-meets-girl': 1169, 'postur': 6683, 'typic': 9174, 'cliche-ridden': 1689, 'endeavor': 2852, 'blend': 1048, 'overrip': 6233, 'episod': 2910, 'dawson': 2205, 'creek': 2052, 'recycl': 7111, 'dumbed-down': 2682, 'cover': 2010, 'huge': 4276, 'topic': 8969, 'bland': 1035, 'surfacey': 8577, 'whi': 9750, 'instanc': 4540, 'blank': 1036, 'threw': 8857, 'load': 5182, 'money': 5678, 'teenag': 8740, 'wrestl': 9906, 'difficult': 2406, 'imagin': 4369, 'confus': 1884, 'sloppili': 8032, 'possibl': 6670, 'road': 7352, '2002': 100, 'well-intent': 9708, 'rent': 7202, 'parabl': 6309, 'rhythm': 7303, 'sizzl': 7957, 'news': 5906, 'found': 3435, 'vent': 9477, 'sy': 8636, 'open-fac': 6122, 'madmen': 5320, 'killer': 4852, 'insomnia': 4534, 'busi': 1320, 'mindless': 5594, 'benjamin': 940, 'tier': 8891, 'blaxploit': 1043, '1970s': 74, 'ah': 360, 'yes': 9947, 'urg': 9416, 'doze': 2605, 'thoughtless': 8844, 'superfici': 8552, 'humour': 4292, 'valu': 9442, 'standard': 8308, 'procedur': 6796, 'narc': 5832, 'defiant': 2272, 'retro': 7274, 'chord': 1601, 'outpac': 6193, 'contemporari': 1916, 'verv': 9500, 'fest': 3223, 'hair': 3941, 'chest': 1565, 'what-if': 9739, 'miyazaki': 5650, 'wondrous': 9855, 'gift': 3673, 'chronicl': 1616, 'quest': 6943, 'presid': 6746, 'single-hand': 7936, 'plane': 6554, 'hard-bitten': 4006, 'cynic': 2158, 'journalist': 4759, 'essenti': 2944, 'campaign': 1376, 'extend': 3063, 'public': 6875, 'depart': 2324, 'provid': 6850, 'laugh': 5002, 'therapi': 8815, 'offbeat': 6060, 'happi': 3999, 'hollow': 4203, 'core': 1968, 'commerci': 1808, 'squeez': 8277, 'ideal': 4336, 'moviemak': 5748, 'godfrey': 3733, 'reggio': 7144, 'shine': 7825, 'lone': 5200, 'beacon': 872, 'roger': 7372, 'michel': 5550, 'cuss': 2143, 'bungl': 1302, 'robert': 7356, 'harmon': 4029, 'bump-in': 1299, 'the-night': 8803, 'chill': 1582, 'greatest': 3831, 'creepi': 2054, 'crawli': 2038, 'hidden': 4135, 'shadow': 7778, 'highest': 4154, 'generous': 3636, 'feral': 3213, 'uncomfort': 9219, 'sillier': 7911, 'shorter': 7852, 'rememb': 7187, 'basic': 851, 'comed': 1791, 'construct': 1909, 'black-and-whit': 1023, 'reassur': 7080, 'manner': 5380, 'sung': 8539, 'holiday': 4198, 'carol': 1427, 'camouflag': 1374, 'carvey': 1438, 'paper': 6304, 'bag': 772, 'recogn': 7095, 'bilk': 995, 'unsuspect': 9392, 'moviego': 5746, 'scare': 7542, 'omin': 6091, 'pervas': 6459, 'unknown': 9340, 'threat': 8849, 'lurk': 5290, 'proceed': 6797, 'add': 284, 'constant': 1906, 'mindset': 5595, 'suspens': 8596, 'comput': 1848, 'anim': 499, 'handsom': 3985, 'various': 9456, 'sidekick': 7891, 'much-need': 5755, 'leviti': 5089, 'bleak': 1045, 'overal': 6210, 'rise': 7341, 'rock': 7362, 'video': 9515, 'fuse': 3554, 'eeri': 2758, 'atmospher': 668, 'breezi': 1211, 'esoter': 2937, 'muse': 5784, 'philosophi': 6482, 'former': 3419, 'gong': 3751, 'addict': 286, 'admit': 296, 'complaint': 1833, 're-creat': 7048, 'genuin': 3651, 'unnerv': 9352, 'increas': 4444, 'describ': 2342, 'joyous': 4764, 'nation': 5843, 'boundari': 1155, 'worthi': 9892, 'bite': 1014, 'chew': 1566, 'link': 5146, 'massacr': 5424, 'armenian': 602, '1915': 57, 'present': 6744, 'halfway': 3962, 'witti': 9840, 'disguis': 2472, 'travel': 9039, 'earlier': 2722, 'freundlich': 3499, 'bear': 874, 'grievous': 3848, 'obscur': 6032, 'father': 3171, 'circl': 1638, 'obsess': 6034, 'contact': 1913, 'fact': 3105, 'preachi': 6712, 'touch': 8989, 'woo': 9856, 'bullet': 1292, 'ballet': 789, 'formula': 3420, 'bogus': 1102, 'confid': 1874, 'pair': 6281, 'destin': 2354, 'special': 8194, 'walk': 9597, 'wood': 9857, 'superbl': 8551, 'photograph': 6492, 'stage': 8286, 'mend': 5510, 'mainstream': 5339, 'mesmer': 5525, 'poem': 6603, '10': 22, 'sink': 7940, 'abyss': 228, 'altern': 428, 'appar': 559, 'franchis': 3455, 'long': 5202, 'past': 6350, 'chris': 1610, 'ver': 9481, 'weil': 9689, 'debut': 2235, 'good-natur': 3758, 'small': 8047, 'overshadow': 6236, 'away': 732, 'solondz': 8132, 'social': 8109, 'critiqu': 2080, 'cast': 1442, 'intellectu': 4559, 'lector': 5048, 'contempl': 1915, 'auteur': 701, 'profession': 6805, 'injuri': 4511, 'dedic': 2256, 'husband': 4304, 'psychot': 6871, 'broken': 1243, 'outweigh': 6203, 'loss': 5229, 'fake': 3120, 'mild': 5573, 'toothless': 8964, 'book': 1125, 'dungpil': 2687, 'swear': 8609, 'monkey': 5681, 'fling': 3344, 'fece': 3193, 'addit': 287, 'overcook': 6216, 'reach': 7055, 'row': 7415, 'horribl': 4241, 'vile': 9532, 'scummi': 7626, 'ripoff': 7339, 'cronenberg': 2083, 'videodrom': 9521, 'kinda': 4861, 'dumb': 2681, 'sent': 7731, 'copyof': 1964, 'review': 7285, 'blade': 1028, 'ii': 4350, 'arch': 579, 'roil': 7376, 'trembl': 9054, 'robinson': 7359, 'web': 9675, 'match': 5431, 'page-turn': 6270, 'frenzi': 3488, 'clanci': 1652, 'got': 3781, 'lynch': 5295, 'given': 3692, 'concentr': 1856, 'alien': 397, 'among': 461, 'hostil': 4251, 'odd': 6042, 'reckless': 7094, 'retali': 7261, 'austin': 695, 'goldmemb': 3744, 'sustain': 8598, 'puzzl': 6923, 'emphasi': 2834, 'britney': 1232, 'spear': 8192, 'maintain': 5340, 'appear': 562, 'clinic': 1698, 'object': 6027, 'wiseman': 9825, 'warmest': 9635, 'doubt': 2586, 'question': 6944, 'countri': 2000, 'dreari': 2634, 'spark': 8187, 'ca': 1341, 'heat': 4085, 'cold': 1761, 'vacuum': 9433, 'reaction': 7057, 'ivan': 4657, 'princ': 6776, 'fellow': 3203, 'shallow': 7789, 'glib': 3703, 'mean-spirit': 5468, 'respons': 7245, 'merit': 5523, 'stock': 8375, 'inject': 4510, '100': 27, 'beat': 878, 'spoof': 8242, 'downplay': 2598, 'raunch': 7034, 'reli': 7172, 'strength': 8416, 'oppos': 6133, 'extent': 3065, 'outrag': 6195, 'begin': 906, 'convent': 1938, 'evolv': 3002, 'medit': 5486, 'life-chang': 5110, 'encount': 2846, 'buy': 1330, 'popcorn': 6647, 'late-night': 4993, 'cabl': 1343, 'masquerad': 5422, 'order': 6148, 'govern': 3789, 'colleg': 1771, 'cliqu': 1701, 'burden': 1304, 'sensibl': 7727, 'emerg': 2825, 'access': 233, 'allen': 414, 'piffl': 6513, 'airhead': 373, 'deserv': 2345, 'momentum': 5675, 'undetermin': 9272, 'intim': 4592, 'sensual': 7729, 'psycholog': 6869, 'self-rev': 7707, 'pass': 6344, 'hyster': 4320, 'irrit': 4642, 'soul-search': 8166, 'garbag': 3599, 'price': 6764, 'ticket': 8885, 'clariti': 1657, 'matter': 5442, 'code': 1750, 'comparison': 1822, 'thin': 8824, 'lower-class': 5257, 'london': 5199, 'main': 5337, 'south': 8174, 'korean': 4904, 'undemand': 9233, 'alacr': 381, 'counterpart': 1997, 'except': 3012, 'headi': 4063, 'jumbl': 4780, 'undertak': 9265, 'coher': 1756, 'sane': 7507, 'breathtak': 1208, 'creativ': 2045, 'toilet': 8936, 'seat': 7639, 'substant': 8490, 'coming-of-ag': 1801, 'concept': 1857, 'help': 4111, 'caught': 1467, 'logic': 5195, 'cohes': 1757, 'foreign': 3402, 'ignor': 4349, 'sea': 7628, 'interperson': 4583, 'ai': 364, 'half-bad': 3950, 'dread': 2628, 'passion': 6348, 'somewhat': 8143, 'flaw': 3322, 'treatment': 9051, 'guilti': 3903, 'dismiss': 2487, 'fals': 3124, 'fabric': 3094, 'relat': 7164, 'letdown': 5083, 'hey': 4129, 'arnold': 604, 'surfac': 8574, 'itch': 4654, 'explor': 3051, 'band': 802, 'drumlin': 2663, 'red': 7112, 'hot': 4252, 'mere': 5520, 'leigh': 5062, 'sham': 7790, 'raw-nerv': 7042, 'monument': 5695, 'practic': 6699, 'facet': 3101, 'joyless': 4763, 'idiot': 4344, 'annoy': 512, 'atroci': 671, 'misfortun': 5628, 'quit': 6960, 'stand-up': 8306, 'wane': 9615, 'roman': 7382, 'surgeon': 8581, 'meticul': 5537, 'wayn': 9664, 'empathi': 2831, 'spare': 8186, 'waydowntown': 9663, 'acknowledg': 255, 'silent': 7908, 'workaday': 9872, 'inertia': 4477, 'indulg': 4470, 'strive': 8428, 'solips': 8130, 'labour': 4931, 'good-natured': 3759, 'deed': 2257, 'embrac': 2823, 'sheer': 7813, 'goofi': 3765, 'cameo': 1371, 'certain': 1492, 'rais': 6992, 'sandler': 7503, 'attach': 672, 'fundament': 3543, 'level': 5087, 'grandeur': 3806, 'affair': 317, 'alway': 433, 'watchabl': 9649, 'uniform': 9323, 'especi': 2938, 'ballesta': 788, 'galan': 3575, 'first-tim': 3284, 'achero': 251, 'mana': 5365, 'schemat': 7563, 'obvious': 6036, 'resurrect': 7257, 'dead': 2215, 'copi': 1959, 'a-knock': 191, 'white': 9764, 'shore': 7849, 'wari': 9629, 'nativ': 5846, 'true': 9098, 'abhorr': 204, 'simplist': 7924, 'heaven': 4087, 'hell': 4104, 'holli': 4202, 'marina': 5395, 'hothous': 4256, 'teendom': 8741, 'inexplic': 4482, 'character': 1518, 'crassli': 2035, 'reduct': 7122, 'hour': 4260, 'neat': 5860, 'introduc': 4600, 'illumin': 4363, 'duti': 2700, 'purport': 6913, 'target': 8694, 'deeper': 2261, 'waterboy': 9654, 'motion': 5726, 'zip': 9990, 'gone': 3749, 'snazzi': 8085, 'establish': 2945, 'realist': 7071, 'ensur': 2885, 'invest': 4609, 'automat': 709, 'bypass': 1337, 'hip-hop': 4166, 'second': 7642, 'bigelow': 989, 'flashi': 3312, 'twist': 9158, 'turgid': 9132, 'fabl': 3093, 'stupid': 8459, 'infantil': 4485, 'redund': 7123, 'sloppi': 8031, 'over-the-top': 6208, 'resid': 7234, 'carpent': 1428, 'ghost': 3665, 'mar': 5384, 'elimin': 2800, 'behead': 917, 'resolut': 7236, 'situat': 7949, 'prom': 6820, 'destini': 2355, 'anyon': 545, 'hunger': 4294, 'cat': 1447, 'tasti': 8703, 'lift': 5115, 'cannib': 1392, 'lust': 5292, 'ordinari': 6150, 'laughter': 5008, 'obscen': 6031, 'funniest': 3549, 'depth': 2332, 'translat': 9027, 'frailti': 3451, 'campfir': 1379, 'willi': 9796, 'shape': 7795, 'two-hour': 9165, '1990': 86, 'ambiti': 443, 'shiner': 7826, 'organ': 6151, 'pull': 6882, 'effect': 2760, 'suck': 8507, 'beast': 877, 'brutal': 1270, 'honesti': 4223, 'respect': 7242, 'twenti': 9149, 'e.t': 2715, 'fantasi': 3142, 'apex': 553, 'misunderstood': 5643, 'desper': 2351, 'ingrati': 4502, 'trick': 9063, 'easier': 2732, 'enigmat': 2874, 'memento': 5504, 'hallucinatori': 3967, 'drug': 2658, 'requiem': 7225, 'individu': 4465, 'prism': 6782, 'belief': 924, 'prejudic': 6730, 'peac': 6392, 'flail': 3304, 'terribl': 8779, 'ill-conceiv': 4356, 'project': 6814, 'talent': 8672, 'thesp': 8820, 'slum': 8042, 'offens': 6062, 'piti': 6541, 'leguizamo': 5061, 'excel': 3011, 'superb': 8550, 'figur': 3249, 'rule': 7432, 'hairier': 3943, 'tax': 8711, 'einstein': 2774, 'brain': 1174, 'feardotcom': 3185, 'ether': 2953, 'internet': 4582, 'otherworld': 6168, 'energi': 2860, 'channel': 1509, 'rank': 7009, 'three': 8851, 'multilay': 5768, 'sympathet': 8642, 'femal': 3206, 'alexand': 392, 'payn': 6387, 'ode': 6046, 'everyman': 2992, 'town': 9001, 'authent': 702, 'stand': 8304, 'everybodi': 2990, 'background': 756, 'manufactur': 5382, 'artifici': 620, 'juli': 4775, 'davi': 2201, 'kathi': 4818, 'gifford': 3672, 'ego': 2764, 'must': 5792, 'water-camera': 9653, 'oper': 6125, 'king': 4865, 'sonni': 8150, 'miller': 5585, 'michael': 5549, 'stewart': 8358, 'caesar': 1350, 'not-quite-dead': 5990, 'ritchi': 7344, 'avers': 721, 'feel-good': 3199, 'follow-your-dream': 3383, 'mayb': 5451, 'well-craft': 9701, 'tuba-play': 9115, 'dwarf': 2704, 'hill': 4160, 'trash': 9035, 'vat': 9459, 'twitchi': 9160, 'general': 3632, 'boorish': 1130, 'southern': 8175, 'nostalgia': 5985, 'tread': 9047, 'sappi': 7512, 'mire': 5613, 'tear-drench': 8722, 'inde': 4446, 'abl': 207, 'porn': 6655, 'neglect': 5869, 'conspicu': 1903, 'write': 9912, 'notwithstand': 6003, 'half': 3947, 'secretari': 7648, 'spader': 8179, 'gyllenha': 3931, 'uniqu': 9334, 'girl': 3682, 'slick': 8013, 'yell': 9945, 'barbershop': 824, 'good-heart': 3756, 'ensembl': 2883, 'varieti': 9455, 'soulless': 8168, 'assembl': 647, '95-minut': 179, 'nba': 5855, 'properti': 6832, 'virtual': 9545, 'akin': 377, 'soderbergh': 8115, 'skim': 7970, 'fat': 3168, '1972': 76, 'hilari': 4159, 'mud': 5758, 'critic': 2078, 'suffer': 8512, 'box': 1167, 'candi': 1386, 'bearabl': 875, 'cremast': 2058, '3': 110, 'tough': 8991, 'pill': 6517, 'swallow': 8602, 'minor': 5605, 'miracl': 5610, 'kouyat': 4908, 'elicit': 2799, 'commentari': 1806, 'asylum': 663, 'grip': 3856, 'jia': 4727, 'moist': 5665, 'attal': 674, 'push': 6919, 'televis': 8755, 'guarante': 3891, 'lump': 5278, 'throat': 8863, 'reaffirm': 7065, 'washington': 9643, 'today': 8931, 'defeat': 2265, 'implaus': 4396, 'behavior': 915, 'hing': 4163, 'person': 6451, 'threshold': 8856, 'endear': 2851, 'unconvent': 9224, 'smack': 8046, 'cathart': 1460, 'truth': 9109, 'bart': 843, 'dysfunct': 2710, 'parent-child': 6323, 'graviti': 3823, 'crudup': 2099, 'anchor': 478, 'overplay': 6231, 'exagger': 3005, 'subtleti': 8499, 'trademark': 9008, 'stab': 8281, 'soccer': 8108, 'hooligan': 4230, 'double-barrel': 2584, 'rip-off': 7336, 'quentin': 6942, 'tarantino': 8691, 'climact': 1694, 'shootout': 7846, 'meat': 5476, 'loaf': 5183, 'explod': 3049, 'frustrat': 3522, 'refus': 7138, 'pinochet': 6528, 'crime': 2065, 'context': 1922, 'distanc': 2506, 'admir': 294, 'paul': 6373, 'bettani': 965, 'servic': 7754, 'euro-trash': 2962, 'extravaganza': 3075, 'plenti': 6582, 'boom': 1126, 'handgun': 3977, 'veteran': 9501, 'smirk': 8065, 'uneasili': 9283, 'nightmar': 5923, 'everyday': 2991, 'sex-in-the-c': 7770, 'misadventur': 5615, 'send': 7720, 'cheer': 1550, 'rollerbal': 7380, 'stagey': 8287, 'interview': 4589, 'assassin': 644, 'shake': 7784, 'blair': 1031, 'witch': 9830, 'real-tim': 7069, 'remark': 7185, 'scope': 7596, 'startl': 8323, 'intimaci': 4593, 'breadth': 1201, '21\\\\/2': 103, 'european': 2964, '20': 95, 'ago': 354, 'claim': 1649, 'damag': 2171, 'good-look': 3757, 'relentless': 7170, 'lowbrow': 5255, 'outing': 6188, 'clueless': 1725, 'fork': 3414, 'palpabl': 6291, 'disconnect': 2457, 'poignant': 6609, 'incess': 4427, 'cell': 1481, 'phone': 6487, 'hoot': 4231, 'award': 731, 'protect': 6843, 'merg': 5521, 'schaeffer': 7561, 'accomplish': 241, 'strict': 8421, 'speak': 8191, 'qualifi': 6935, 'revolutionari': 7291, 'obnoxi': 6030, 'didact': 2399, 'bald': 781, '50-year-old': 132, 'carv': 1437, 'log': 5194, 'anywher': 549, '$': 2, '50-million': 130, 'pinocchio': 6527, 'fanci': 3138, 'intens': 4563, 'jaglom': 4679, 'secondhand': 7646, 'maelstrom': 5322, 'deliber': 2289, 'unsteadi': 9386, 'mixtur': 5649, 'stylist': 8466, 'bot': 1145, 'alabama': 380, 'academi': 230, 'air': 370, 'onscreen': 6113, 'exposit': 3055, 'somber': 8135, 'cop': 1955, 'sand': 7499, 'titular': 8925, 'communiti': 1817, 'cute': 2148, 'ensu': 2884, 'blatant': 1042, 'conveni': 1937, 'quintessenti': 6955, 'bollywood': 1112, 'characterist': 1521, 'engorg': 2869, 'wri': 9909, 'affection': 319, 'delight': 2292, 'ramsay': 7002, 'improb': 4407, 'ear': 2718, 'telegraph': 8750, 'blith': 1057, 'exchang': 3014, 'linger': 5144, 'tug': 9119, 'foster': 3431, 'lavish': 5015, 'formal': 3416, 'auster': 694, 'edg': 2750, 'shape-shift': 7796, 'peril': 6436, 'calam': 1358, 'friday': 3501, 'next': 5909, 'african-american': 331, 'broad': 1234, 'racial': 6970, 'insensit': 4526, 'account': 243, 'seinfeld': 7663, 'deadpan': 2220, 'issu': 4649, 'overlook': 6227, 'women': 9852, 'seven': 7763, 'switch': 8627, 'nake': 5825, '1980s': 81, 'hearten': 4081, 'victori': 9514, 'unpleas': 9357, 'scari': 7545, 'jonah': 4751, 'so-so': 8101, 'biblic': 976, 'either': 2777, 'lessen': 5079, 'wide': 9777, 'debat': 2230, 'feroc': 3214, 'intellig': 4560, 'assign': 651, 'wahlberg': 9590, 'classi': 1661, 'pokepi': 6619, 'hat': 4041, 'dri': 2639, 'mental': 5511, 'warren': 9639, 'search': 7637, 'stay': 8334, 'pile': 6514, 'useless': 9422, 'mtv': 5752, 'four': 3438, 'sara': 7513, 'sugarman': 8517, 'drop': 2655, 'pant': 6301, 'provok': 6855, 'interpret': 4585, 'joan': 4733, 'prefeminist': 6726, 'plight': 6585, 'think': 8826, 'nuditi': 6016, 'directori': 2438, 'stamp': 8302, 'stylish': 8465, 'schizophrenia': 7570, 'step': 8345, 'sick': 7887, 'overproduc': 6232, 'dreck': 2635, 'unnecessari': 9351, 'saccharin': 7462, 'dispos': 2497, 'raw': 7041, 'flamboy': 3307, 'subtl': 8496, 'summertim': 8531, 'restless': 7249, 'digniti': 2413, 'motiv': 5728, 'pitch': 6537, 'despair': 2350, 'schmidt': 7575, 'closer': 1713, 'express': 3059, 'someplac': 8140, 'consum': 1910, 'self-absorpt': 7672, 'insist': 4533, 'glow': 3721, 'conniv': 1889, 'aspir': 641, 'thrown-togeth': 8873, 'summer-camp': 8529, 'hastili': 4040, 'underrehears': 9260, 'fill': 3253, 'crude': 2097, 'innuendo': 4518, 'rock-solid': 7364, 'gangster': 3593, 'bank': 810, 'robberi': 7355, 'plus': 6598, 'dose': 2580, 'father-and-son': 3172, 'dynam': 2708, 'degrad': 2280, 'liber': 5096, 'dispassion': 2494, 'gantz': 3595, 'brother': 1255, 'pasti': 6353, 'lumpen': 5279, 'innocu': 4516, 'jean-claud': 4705, 'van': 9445, 'damm': 2173, 'essenc': 2943, 'make-believ': 5348, 'promis': 6823, 'soar': 8105, 'realm': 7076, 'opposit': 6134, 'truli': 9103, 'listless': 5160, 'react': 7056, 'grand': 3804, 'locat': 5189, 'urgent': 9418, 'protagonist': 6842, 'merci': 5518, 'gasp': 3608, 'newcom': 5903, 'helmer': 4110, 'kevin': 4831, 'donovan': 2569, 'high-tech': 4150, 'tux': 9140, 'wearer': 9669, 'superman': 8558, 'photo': 6491, 'romanek': 7384, 'self-consci': 7680, 'scrutini': 7625, 'stanc': 8303, 'todd': 8932, 'correct': 1978, 'suburban': 8500, 'chop': 1598, 'simpl': 7919, 'self-reflect': 7706, 'trifl': 9071, 'pure': 6906, 'notic': 6000, 'straightforward': 8400, 'bride': 1217, 'multi-lay': 5767, 'profound': 6809, 'humanist': 4282, 'knowledg': 4895, 'educ': 2756, 'geograph': 3652, 'wors': 9888, 'r.': 6965, 'nebrida': 5861, 'gutless': 3925, 'lauric': 5014, 'guillen': 3900, 'r': 6964, 'peculiar': 6397, 'costum': 1985, 'renaiss': 7194, 'spain': 8181, 'event': 2978, 'somehow': 8138, 'santa': 7510, 'claus': 1667, '2': 93, 'streamlin': 8412, 'previous': 6762, 'jay': 4698, 'roach': 7351, 'taxicab': 8713, 'laugh-a-minut': 5003, 'crowd': 2092, 'pleaser': 6579, 'spirit': 8225, 'corner': 1971, 'mouth': 5736, 'engross': 2870, 'histor': 4174, 'contribut': 1932, 'raimi': 6987, 'matur': 5444, 'toast': 8929, 'arni': 603, 'musclefest': 5783, 'insult': 4553, 'unbeliev': 9206, 'forget': 3408, 'absurd': 223, 'ici': 4330, 'stunt': 8457, 'spout': 8255, 'mountain': 5734, 'gore': 3773, 'bullfight': 1293, 'comatos': 1785, 'ballerina': 787, 'kinki': 4868, 'bedsid': 894, 'vigil': 9530, 'undeni': 9234, 'subtlest': 8498, 'uncanni': 9210, 'lightweight': 5122, 'escapist': 2935, 'chick': 1571, 'answer': 517, 'seagal': 7629, 'animated-movi': 500, 'textbook': 8794, 'complain': 1832, 'clock': 1705, '90': 171, 'desir': 2348, 'freedom': 3478, 'fast-pac': 3165, 'meet': 5488, 'rustic': 7450, 'retreat': 7272, 'pee': 6401, 'tree': 9052, 'rocki': 7366, 'valuabl': 9443, 'forgotten': 3413, 'trombon': 9084, 'squar': 8275, 'iron': 4629, 'implic': 4398, 'low-key': 5251, 'done-to-death': 2566, 'melancholi': 5495, 'unhurri': 9320, 'control': 1934, 'barri': 839, 'sonnenfeld': 8149, 'frank': 3458, 'creator': 2046, 'unflinch': 9303, 'downfal': 2596, 'brought': 1259, 'self-awar': 7676, 'tedious': 8731, 'classroom': 1665, 'blue': 1079, 'crush': 2105, 'conflict': 1879, 'defi': 2270, 'classif': 1663, 'thought-provok': 8843, 'somewher': 8144, 'demm': 2308, 'harvest': 4037, 'field': 3237, 'ann': 505, 'rice': 7306, 'novel': 6007, 'queen': 6941, 'meander': 5469, 'goth-vampir': 3783, 'tortur': 8982, 'woe-is-m': 9847, 'lifestyl': 5113, 'color': 1776, 'stuart': 8440, 'immedi': 4377, 'count': 1992, 'calibr': 1360, 'terri': 8778, 'gilliam': 3678, 'press': 6747, 'kafka': 4802, 'grinder': 3855, 'fertil': 3219, 'treasur': 9048, 'planet': 6555, 'rival': 7346, 'top': 8966, 'japanes': 4690, 'vintag': 9539, 'chan': 1506, 'bore': 1137, 'whether': 9749, 'toler': 8939, 'leon': 5069, 'barlow': 832, 'thornberri': 8837, 'sibl': 7885, 'rivalri': 7347, 'chao': 1512, 'peralta': 6423, 'lumin': 5277, 'evoc': 2999, 'decad': 2236, 'dogtown': 2552, 'heard': 4069, 'voic': 9568, 'felt': 3205, 'exit': 3030, 'sign': 7900, 'appeal': 561, 'asian': 634, 'cult': 2119, 'fuss': 3556, 'ruin': 7430, 'wreak': 9902, 'euphoria': 2961, 'trope': 9087, 'motown': 5730, 'deplet': 2328, 'yesterday': 9948, 'brand-new': 1183, 'tomorrow': 8947, 'inexperienc': 4481, 'integr': 4557, 'separ': 7734, 'anthoni': 520, 'hopkin': 4235, 'nair': 5822, 'build': 1286, 'unexcept': 9291, 'fine': 3266, 'tini': 8907, 'nutti': 6022, 'audiard': 685, 'throughout': 8868, 'groupie\\\\/scholar': 3879, 'bogdanovich': 1101, 'took': 8961, 'broadsid': 1237, 'giant': 3667, 'randolph': 7006, 'hearst': 4070, 'excruci': 3017, '86': 164, 'dentist': 2321, 'drill': 2642, 'skill': 7969, 'undon': 9278, 'pretens': 6753, 'intern': 4581, 'type': 9173, 'terrorist': 8785, 'univac-lik': 9337, 'machin': 5307, 'india': 4454, 'popular': 6650, 'gulzar': 3910, 'jagjit': 4678, 'singh': 7934, 'percept': 6425, 'ponder': 6633, 'walter': 9611, 'parad': 6311, 'painter': 6280, 'confound': 1882, 'dealer': 2223, 'miscellan': 5620, 'boho': 1104, 'expound': 3058, 'explain': 3046, 'adrift': 303, 'sniffl': 8091, 'vain': 9435, 'movie-star': 5745, 'overcom': 6214, 'jean': 4704, 'resembl': 7231, 'sli': 8011, 'stallon': 8299, 'sake': 7481, 'half-sleep': 3958, 'heartbreak': 4080, 'older': 6084, 'wiser': 9826, 'ell': 2804, 'symbol': 8640, 'suppos': 8565, 'forthright': 3426, 'japan': 4689, 'bustl': 1322, 'atop': 669, 'undercurr': 9243, 'loneli': 5201, 'isol': 4646, 'rollick': 7381, 'adventur': 310, 'matey': 5435, 'regardless': 7142, 'content': 1919, 'pseudo-bio': 6859, 'dole': 2555, 'eisenstein': 2776, 'worship': 9889, 'spectacl': 8200, 'stun': 8456, 'lyric': 5298, 'babak': 745, 'payami': 6384, 'bold': 1109, 'iranian': 4621, 'secret': 7647, 'ballot': 793, 'ditti': 2518, 'side': 7889, 'eastern': 2735, 'easi': 2731, 'underdog': 9245, 'westbrook': 9734, 'foundat': 3436, 'dalrympl': 2170, 'earn': 2725, 'ne': 5856, 'undermin': 9255, 'realiti': 7072, 'stifl': 8362, 'passag': 6346, 'limp': 5137, 'along': 422, 'fish-out-of-wat': 3287, 'nowher': 6011, 'slowli': 8039, 'stretch': 8419, 'limit': 5136, 'otar': 6166, 'iosseliani': 4617, 'pleasant': 6578, 'factori': 3107, 'worker': 9873, 'venic': 9475, 'respit': 7243, 'grind': 3854, 'mechan': 5479, 'action-comedi': 264, 'purpos': 6914, 'market': 5401, 'charismat': 1525, 'jacki': 4669, 'younger': 9962, 'worst': 9890, 'hubrist': 4271, 'folli': 3380, 'hayn': 4055, 'ape': 552, 'period': 6437, 'allegori': 413, 'republ': 7221, 'russel': 7448, 'stomp': 8382, 'boot': 1132, 'natali': 5842, 'babbitt': 746, '1975': 78, 'black': 1022, 'inner': 4513, 'outer': 6185, 'action-pack': 267, 'ringsid': 7330, 'tough-man': 8992, 'contest': 1921, 'due': 2673, 'tongue-in-cheek': 8952, 'attitud': 679, 'ting': 8906, 'strain': 8401, 'difficulti': 2407, 'potenti': 6689, 'grief': 3846, 'impact': 4384, 'survivor': 8591, 'immers': 4380, 'outer-spac': 6186, 'space': 8177, 'station': 8331, '3d': 120, 'retread': 7271, 'excit': 3015, 'settl': 7761, 'warm': 9631, 'muccino': 5753, 'canni': 1391, 'kiss': 4874, 'catharsi': 1459, 'multiplex': 5770, 'challeng': 1502, 'nervi': 5887, 'odditi': 6045, 'lip': 5152, 'extraordinari': 3072, 'variat': 9454, 'halloween': 3966, 'gori': 3777, 'slash-fest': 7995, 'tepid': 8774, 'trek': 9053, 'pick': 6503, 'lint': 5147, 'borg': 1139, 'alic': 396, 'krige': 4912, 'cape': 1400, 'parsec': 6332, 'nose': 5982, 'ahead': 361, 'exploit': 3050, 'stereotyp': 8352, 'ad': 280, 'leaden': 5030, 'defin': 2274, 'close': 1710, 'vivid': 9565, 'darker': 2191, 'smooth': 8071, 'overwhelm': 6248, 'tide': 8888, 'cloy': 1722, 'averag': 720, 'stack': 8284, 'stagi': 8289, 'tripl': 9078, 'doubl': 2583, 'agent': 345, 'dude': 2672, 'romanc': 7383, 'mattei': 5440, 'chain': 1499, 'tragic': 9013, 'note': 5997, 'equal': 2914, 'chees': 1552, 'ham': 3969, 'cheek': 1548, 'debt': 2234, 'warrior': 9640, 'unreal': 9365, 'helluva': 4108, 'singer': 7932, 'premis': 6733, 'con': 1851, 'liar': 5095, 'convey': 1941, 'environ': 2904, 'wrap': 9900, 'classic': 1662, 'mother\\\\/daught': 5723, 'shini': 7827, 'bow': 1162, '88-minut': 166, 'confin': 1876, 'slo-mo': 8024, 'gun': 3913, 'glass-shatt': 3699, 'pander': 6296, 'basest': 849, 'payback': 6385, 'warmth': 9636, 'prospect': 6840, 'beck': 887, 'unapologet': 9199, 'bittersweet': 1017, 'decept': 2242, 'karen': 4814, 'bibl': 974, 'dime': 2420, 'regard': 7141, 'spend': 8209, '9': 169, 'buck': 1274, 'greasi': 3827, 'vidgam': 9524, 'pit': 6536, 'lobbi': 5185, 'centuri': 1489, 'lesson': 5081, 'dazzl': 2213, 'balk': 783, 'unusu': 9396, 'chief': 1574, 'dreami': 2630, 'lull': 5274, 'captiv': 1405, 'thoma': 8836, 'anderson': 482, 'inclin': 4432, 'adam': 282, 'heavyweight': 4091, 'joel': 4737, 'silver': 7913, 'zemecki': 9980, 'agre': 357, 'assum': 653, 'cavort': 1473, 'ladi': 4943, 'underwear': 9269, 'lost': 5230, 'jim': 4729, 'two-dimension': 9163, 'conjur': 1886, 'fume': 3537, 'paint': 6278, 'rembrandt': 7186, 'cacoyanni': 1346, 'vision': 9552, 'sympathi': 8643, 'anachronist': 469, 'phantasm': 6471, 'haunt': 4047, 'glori': 3715, 'word': 9864, 'badder': 769, 'wed': 9679, 'dong': 2567, 'dissect': 2504, 'contour': 1926, 'done': 2564, 'support': 8564, 'shtick': 7878, 'subvers': 8501, 'artwork': 625, 'rapport': 7019, 'behind': 918, 'angel': 489, 'anomi': 514, 'sum': 8527, 'statham': 8329, 'hardass': 4017, 'laps': 4971, 'unhidden': 9317, 'british': 1231, 'men': 5508, 'talk': 8673, 'tact': 8659, 'pretend': 6752, 'anti-erot': 523, 'spite': 8230, 'river': 7348, 'pour': 6692, 'rough': 7405, 'insid': 4528, 'inform': 4496, 'showtim': 7869, 'asset': 650, 'detriment': 2364, 'valiant': 9438, 'job': 4734, 'rile': 7328, 'candl': 1388, 'cake': 1356, 'fret': 3496, 'calori': 1366, 'substanc': 8488, 'birthday': 1010, 'treat': 9049, 'lesser': 5080, 'outshin': 6198, 'reflect': 7134, 'glorious': 3717, 'd.w.': 2161, 'griffith': 3849, 'methodolog': 5536, 'ring': 7329, 'harden': 4018, 'indie-head': 4458, 'jackson': 4670, 'enthusiast': 2893, 'literatur': 5165, 'kill': 4851, 'feat': 3189, 'bound': 1154, 'said': 7478, 'danc': 2180, 'old-fashion': 6079, 'woven': 9898, 'recal': 7084, 'sixti': 7955, 'rockumentari': 7367, 'mileston': 5578, 'flimsi': 3341, 'bar': 817, 'cox': 2014, 'behan': 913, 'yawn': 9940, 'huski': 4307, 'border': 1135, 'colli': 1772, 'genial': 3640, 'ought': 6169, 'scarier': 7546, 'genr': 3644, 'tumult': 9122, 'depend': 2326, 'likabl': 5124, 'cherish': 1563, 'bard': 825, 'prurient': 6857, 'tattoo': 8705, 'borrow': 1141, 'heavili': 4089, 'silenc': 7907, 'lamb': 4951, 'human-scal': 4281, 'compar': 1821, 'healthi': 4066, 'determin': 2362, 'fallibl': 3123, 'caricatur': 1420, 'delin': 2293, 'inevit': 4479, 'institut': 4545, 'concern': 1859, 'self-preserv': 7703, 'turntablist': 9138, 'juggler': 4771, 'schooler': 7581, 'current': 2136, 'innov': 4517, 'palestinian': 6286, 'balanc': 780, 'meaning': 5470, 'survey': 8589, 'student': 8444, 'came': 1370, 'astonish': 656, 'winner': 9814, 'greatest-hit': 3832, 'reel': 7128, 'subscript': 8486, 'espn': 2940, 'magazin': 5323, 'instinct': 4544, 'dilemma': 2415, 'writer-director': 9915, '1.8': 21, 'million': 5586, 'cutting-edg': 2152, 'requir': 7226, 'patienc': 6364, 'intermin': 4579, 'shapeless': 7797, 'subcultur': 8475, 'hear': 4068, 'georg': 3653, 'orwel': 6160, 'demograph': 2310, 'seduct': 7653, 'unrepent': 9370, 'trashi': 9037, 'instal': 4539, 'vampir': 9444, 'sat': 7519, 'score': 7599, 'calcul': 1359, 'magnific': 5329, 'clint': 1699, 'eastwood': 2736, 'effici': 2761, 'minimalist': 5600, 'reunion': 7277, 'baader-meinhof': 744, 'gang': 3590, 'harmless': 4028, 'prankster': 6704, 'activist': 269, 'ms.': 5751, 'zelda': 9979, 'fate': 3170, 'camp': 1375, 'taboo': 8655, 'pan-american': 6294, 'urban': 9415, 'vers': 9494, 'coulda': 1991, 'plotlin': 6589, 'water': 9650, 'exact': 3004, 'uninterest': 9331, 'crew': 2061, 'pact': 6265, 'burn': 1310, 'negat': 5868, 'grown': 3881, 'fond': 3384, 'maze': 5453, 'necessarili': 5863, 'sport': 8248, 'cranki': 2027, 'andrei': 484, 'tarkovski': 8695, 'solari': 8124, 'distil': 2509, 'blueprint': 1080, 'hundr': 4293, 'sell': 7712, 'bidder': 980, 'ident': 4339, 'theori': 8812, 'clayburgh': 1671, 'tambor': 8676, 'altogeth': 432, 'clownish': 1721, 'yorker': 9957, 'dwell': 2705, 'vagu': 9434, 'fog': 3374, 'enter': 2887, 'triangl': 9061, 'wilder': 9794, 'built-in': 1289, 'spring': 8262, 'ingest': 4501, 'commit': 1810, 'lend': 5065, 'teem': 8733, 'reef': 7126, 'junior': 4788, 'scientist': 7590, 'grown-up': 3882, 'fish': 3286, 'lover': 5246, 'lower': 5256, 'scooter': 7595, 'specul': 8204, 'drew': 2638, 'caddyshack': 1348, 'loyal': 5260, 'raccoon': 6967, 'awak': 728, 'tens': 8771, 'intent': 4564, 'zeal': 9975, 'all-too-familiar': 408, 'arc': 577, 'holocaust': 4208, 'drain': 2615, 'deni': 2313, 'probe': 6793, 'faith': 3119, 'argu': 592, 'herzog': 4126, 'invinc': 4612, 'astound': 657, 'holofcen': 4209, 'simplemind': 7921, 'shift': 7822, 'chair': 1501, 'pamela': 6292, 'roller': 7379, 'coaster': 1741, 'schlocki': 7572, 'cerebr': 1490, 'henc': 4114, 'howard': 4265, 'free': 3476, 'rein': 7155, 'chicago': 1569, 'transit': 9026, 'intact': 4555, 'fessenden': 3222, 'ownership': 6254, 'redefinit': 7114, 'domest': 2561, 'unit': 9335, 'sip': 7941, 'wine': 9810, 'ivori': 4658, 'glass': 3698, 'tea': 8717, 'jerri': 4715, 'bruckheim': 1263, 'disquiet': 2500, 'muddl': 5760, 'simpson': 7925, 'hitchcockian': 4182, 'gossip': 3780, 'distinct': 2510, 'musti': 5796, 'odour': 6048, 'expiri': 3045, 'layer': 5023, 'imageri': 4368, 'chiaroscuro': 1568, 'mad': 5313, 'charlott': 1529, 'sam': 7493, 'showcas': 7863, 'tom': 8942, 'hank': 3990, 'hit-man': 4179, 'bradi': 1173, 'squander': 8274, 'topnotch': 8971, 'foursom': 3442, 'upper': 9409, 'comedian': 1793, 'flop': 3352, 'steam': 8338, '1920': 58, 'trip': 9076, 'collect': 1770, 'naughti': 5850, 'aficionado': 327, '1971': 75, 'bedknob': 893, 'broomstick': 1252, 'dealt': 2224, 'rediscov': 7117, 'wartim': 9641, 'beer': 899, 'static': 8330, 'powerpuff': 6698, 'super-pow': 8545, 'super-simpl': 8548, 'super-dooper-ador': 8544, 'coal': 1739, 'wintri': 9816, 'sparkl': 8188, 'reparte': 7206, 'share': 7799, 'loose-joint': 5220, 'laugh-out-loud': 5005, 'ichi': 4329, 'takashi': 8668, 'miik': 5570, 'baggag': 774, 'batman': 862, 'cal': 1357, 'well-execut': 9707, 'stripped-down': 8427, 'abstract': 222, 'tumultu': 9123, 'musset': 5791, 'masculin': 5418, 'persona': 6452, 'accept': 232, 'ineleg': 4473, 'affabl': 316, 'maid': 5332, 'manhattan': 5370, 'jennif': 4712, 'lopez': 5222, 'storm': 8391, 'diva': 2519, 'shrewd': 7873, 'surround': 8587, 'a-list': 192, 'player': 6570, 'ribcag': 7304, 'ach': 250, 'kitschi': 4879, 'overlong': 6226, 'one-dimension': 6099, 'buffoon': 1282, 'no-brain': 5938, 'snobberi': 8094, 'middle-america': 5560, 'dana': 2179, 'immens': 4379, 'franc': 3454, '1790': 54, 'curious': 2132, 'leeri': 5052, 'devic': 2371, 'check': 1544, '6-year-old': 139, 'nephew': 5882, 'uncl': 9217, 'paulin': 6376, '&': 3, 'paulett': 6374, 'der': 2333, 'groen': 3867, 'belgium': 923, 'curl': 2133, 'broom': 1250, 'forrest': 3421, 'gump': 3912, 'metaphor': 5533, 'abound': 211, 'retool': 7270, 'orang': 6143, 'juic': 4772, 'fresh-squeez': 3492, 'avert': 722, 'unthink': 9395, 'unaccept': 9194, 'unmention': 9346, 'allur': 417, 'constrict': 1908, 'eisenhow': 2775, 'yearn': 9944, 'shatter': 7806, 'cheeri': 1551, 'tranquil': 9019, 'patchwork': 6358, 'uneasi': 9282, 'marriag': 5406, 'loui': 5235, 'begley': 908, 'late': 4991, 'tap': 8685, 'tardier': 8693, 'novelti': 6008, 'webcast': 9676, 'chai': 1497, 'slack': 7984, 'wink': 9813, 'steep': 8340, '50s': 133, 'sociolog': 8113, 'lore': 5225, 'decasia': 2237, 'newsreel': 5907, 'jessica': 4719, 'stein': 8342, 'held': 4103, 'hostag': 4250, 'sleepless': 8006, 'seattl': 7641, 'school-ag': 7579, 'build-up': 1287, 'payoff': 6388, 'messi': 5530, 'murki': 5779, 'unsatisfi': 9374, 'fare': 3153, 'season': 7638, 'grossli': 3872, 'underestim': 9248, 'well-develop': 9704, 'sacrif': 7465, 'fizzl': 3297, 'gear': 3620, 'maximum': 5449, 'comfort': 1798, 'crowd-pleas': 2093, 'vh1': 9503, 'grownup': 3883, 'whimsic': 9755, '30': 113, '90-minut': 172, 'smith': 8066, 'bai': 775, 'taken': 8670, 'blush': 1086, 'imamura': 4370, 'squirt': 8280, 'bridg': 1218, 'hanna-barbera': 3992, 'half-hour': 3955, 'solemn': 8127, 'complac': 1831, 'godard': 3731, 'piano': 6499, 'soundtrack': 8170, 'drown': 2656, 'tinni': 8909, 'self-right': 7708, 'dylan': 2707, 'aliv': 399, 'hawk': 4050, 'chelsea': 1559, 'wall': 9601, 'tempt': 8761, 'landmark': 4961, 'affirm': 320, 'on-camera': 6095, 'saga': 7477, 'chemistri': 1561, 'male': 5357, 'ralph': 6996, 'fienn': 3240, 'scribe': 7619, 'wade': 9588, 'mockumentari': 5654, 'suit': 8521, 'enact': 2842, 'inter-speci': 4567, 'parodi': 6329, 'lax': 5021, 'worn-out': 9886, 'sitcomish': 7948, 'rude': 7423, 'gut-bust': 3922, 'dig': 2408, 'puls': 6885, 'sword': 8632, 'auteuil': 700, 'enhanc': 2872, 'kaufman': 4819, 'jonz': 4754, 'risk': 7342, 'notion': 6001, 'god': 3730, 'bless': 1050, 'cash': 1440, 'surf': 8573, 'technolog': 8730, 'wave': 9660, 'daniel': 2184, 'day-lewi': 2207, 'wait': 9593, 'fruit': 3521, 'prais': 6701, 'epitaph': 2911, 'edgi': 2751, 'defianc': 2271, 'rose': 7395, 'low-budget': 5249, 'fifti': 3246, 'car': 1408, 'pileup': 6516, 'slapdash': 7993, 'disast': 2450, 'resist': 7235, 'erot': 2926, 'scottish': 7605, 'duval': 2701, 'peel': 6405, 'becam': 885, 'polici': 6623, 'irwin': 4644, 'adequ': 289, 'impli': 4397, 'tinseltown': 8911, 'audaci': 684, 'christian': 1612, 'lewi': 5091, 'reject': 7161, 'x-file': 9925, 'credibl': 2048, 'real-lif': 7068, 'trivial': 9083, 'expans': 3034, 'dead-end': 2216, 'distast': 2508, 'inhabit': 4504, 'sister': 7943, 'cope': 1957, 'polic': 6622, 'shoot': 7843, 'herring': 4125, 'regist': 7147, 'skip': 7975, 'gain': 3571, 'hush': 4306, 'welsh': 9723, 'whimsi': 9754, 'display': 2496, 'lifeless': 5111, 'rumbl': 7433, 'outstand': 6200, 'celluloid': 1484, 'litmus': 5166, 'test': 8786, 'backward': 762, 'subtitl': 8495, 'remot': 7192, 'african': 330, 'empir': 2835, 'combust': 1788, 'engin': 2865, 'thump': 8878, 'banter': 814, 'loos': 5219, 'ador': 299, 'resound': 7240, 'die': 2401, 'central': 1488, 'sorvino': 8163, 'princess': 6777, 'cartoonish': 1435, 'hermocr': 4120, 'leontin': 5072, 'pathet': 6360, 'amour': 464, 'grain': 3802, 'ami': 450, 'suffoc': 8514, 'senseless': 7726, 'grey': 3845, 'zone': 9996, 'morbid': 5706, 'lousi': 5237, 'spit': 8229, 'denzel': 2323, 'devoid': 2376, 'dub': 2667, 'hedonist': 4093, 'satin': 7520, 'roug': 7404, 'encourag': 2847, 'three-dimension': 8852, 'self-discoveri': 7687, 'sensit': 7728, 'pros': 6838, 'uncondit': 9223, 'blast': 1041, 'mexican': 5542, 'a-bornin': 190, 'insuffer': 4551, 'elizabeth': 2802, 'berkley': 946, 'dolphin-gasm': 2559, 'contrast': 1931, 'collater': 1769, 'extra': 3068, 'bielinski': 981, 'pack': 6263, 'burst': 1314, 'incid': 4429, 'skinni': 7974, 'dip': 2428, 'putrid': 6922, 'pond': 6632, 'twaddl': 9145, 'store': 8389, 'columbus': 1780, 'faster': 3167, 'liveli': 5175, 'flatul': 3317, 'refer': 7132, 'mother-daught': 5722, 'divin': 2526, 'ya-ya': 9932, 'sisterhood': 7944, 'sheridan': 7821, 'terrifi': 8782, 'irrever': 4639, 'bile': 994, 'ironi': 4630, 'ian': 4325, 'holm': 4207, 'napoleon': 5830, 'boob': 1124, 'fantasti': 3146, 'nicholson': 5914, 'lear': 5037, 'costner': 1984, 'known': 4896, 'sanctimoni': 7498, 'eager': 2716, 'slap': 7991, 'heartwarm': 4084, 'handiwork': 3982, 'seam': 7631, 'scenario': 7555, 'enterpris': 2888, 'psych': 6863, 'shark': 7800, 'skewer': 7965, 'outsid': 6199, 'alik': 398, 'broke': 1242, 'sandra': 7505, 'bullock': 1295, 'hugh': 4278, 'grant': 3814, 'worn': 9885, 'threadbar': 8848, 'slow': 8035, 'stilt': 8368, 'tabloid': 8654, 'embalm': 2818, 'percuss': 6428, 'brass': 1185, 'fierc': 3241, 'competit': 1830, 'march': 5386, 'footbal': 3393, 'dust-cak': 2696, 'stagnat': 8290, 'labor': 4928, 'gentil': 3648, 'punit': 6899, 'diminish': 2423, 'statur': 8332, 'oscar-win': 6164, 'lowli': 5259, 'studio': 8446, 'propaganda': 6828, 'serb': 7742, 'themselv': 8810, 'network': 5892, 'right-w': 7324, 'extremist': 3078, 'salma': 7486, 'hayek': 4054, 'taymor': 8715, 'infus': 4498, 'frida': 3500, 'inher': 4506, 'curv': 2141, 'empower': 2837, 'sleev': 8007, 'harangu': 4002, 'ferrera': 3216, 'ontivero': 6114, 'heap': 4067, 'coming-of-age\\\\/coming-out': 1802, 'rug': 7427, 'sympath': 8641, 'exquisit': 3061, 'realiz': 7073, 'makeup': 5350, 'italian-languag': 4652, 'worthless': 9893, 'render': 7195, 'pixar': 6543, 'industri': 4471, 'unfunni': 9311, 'went': 9728, 'frat': 3465, 'includ': 4433, 'emperor': 2832, 'club': 1723, 'placid': 6549, 'conserv': 1896, 'hidebound': 4138, 'movie-mak': 5743, 'tradit': 9009, 'textur': 8795, 'relev': 7171, 'half-an-hour': 3948, 'nineti': 5933, 'trial': 9060, 'sap': 7511, 'refin': 7133, 'model': 5656, 'medicin': 5484, 'suspend': 8595, 'washout': 9644, 'dey': 2380, 'splice': 8236, '48': 125, 'shrek': 7871, 'cain': 1355, 'whip': 9758, 'dirti': 2440, 'stomach': 8379, 'ground': 3875, 'turf': 9131, 'hippopotamus': 4170, 'exud': 3080, 'woodi': 9860, 'bitter': 1016, 'forsaken': 3422, 'dim-wit': 2419, 'teen-speak': 8738, 'gibberish': 3669, 'cedar': 1475, 'submerg': 8482, 'hoari': 4188, 'lunaci': 5282, 'mel': 5493, 'brook': 1248, '70s': 148, 'heyday': 4130, 'lame': 4952, 'overstay': 6239, 'incred': 4445, 'thorough': 8839, 'embodi': 2822, 'excess': 3013, 'nouvell': 6005, 'vanish': 9447, 'raunchi': 7036, 'breakthrough': 1204, 'undo': 9277, 'stone': 8383, 'knack': 4884, 'blanket': 1038, 'tyco': 9171, 'muy': 5800, 'loco': 5191, 'ridicul': 7316, 'dragonfli': 2614, 'discomfort': 2456, 'pad': 6266, 'jon': 4750, 'purdi': 6905, 'sledgehamm': 8001, 'loopi': 5218, 'vote': 9577, 'estrang': 2948, 'cheesi': 1554, 'future-world': 3561, 'holograph': 4211, 'librarian': 5100, 'orlando': 6155, 'unadulter': 9196, 'hybrid': 4311, 'profil': 6808, 'reward': 7293, 'flabbi': 3299, 'avant-gard': 715, 'craze': 2039, 'alleg': 411, 'deft': 2278, 'cobbl': 1743, 'mass': 5423, 'pop-induc': 6643, 'conundrum': 1936, 'huston': 4310, 'larger': 4977, 'fragil': 3448, 'ill': 4355, 'unabl': 9193, 'eh': 2771, 'inconsist': 4442, 'margarita': 5389, 'el': 2779, 'cheapo': 1542, 'spousal': 8254, 'abus': 226, 'stephen': 8348, 'earnhart': 2727, 'optim': 6139, 'group': 3877, 'cagney': 1354, 'replac': 7211, 'sorri': 8160, 'aaliyah': 196, 'flame': 3308, 'scroog': 7622, 'baffl': 771, 'platter': 6564, 'hard-to-swallow': 4015, 'laudabl': 5001, 'hot-button': 4254, 'sky': 7982, 'alert': 391, 'literari': 5163, 'multipl': 5769, 'strand': 8402, 'controversi': 1935, 'wrote': 9920, 'stink': 8371, 'ordin': 6149, 'dullest': 2679, 'impostor': 4404, 'unfulfil': 9310, 'pbs': 6390, 'night': 5922, 'soprano': 8156, 'doing-it-for': 2553, 'the-cash': 8801, 'vast': 9458, 'casual': 1446, 'filmgoer': 3259, 'talki': 8674, 'crystal': 2109, 'de': 2214, 'niro': 5935, 'sing': 7931, '71': 149, 'gender': 3628, 'label': 4927, 'crimen': 2067, 'del': 2284, 'padr': 6267, 'amaro': 435, 'anti-cathol': 522, 'chilli': 1584, 'elect': 2784, 'impos': 4402, 'infecti': 4487, 'section': 7649, 'local': 5188, 'valley': 9440, 'doll': 2556, 'irony-fre': 4631, 'bale': 782, 'reduc': 7121, 'bat': 855, 'eyelid': 3088, 'fumbl': 3536, 'accumul': 244, 'crucial': 2095, 'third': 8828, 'miscalcul': 5618, 'presum': 6750, 'howev': 4266, 'trot': 9089, 'science-fict': 7588, 'bug-ey': 1284, 'futurist': 3562, 'skimpi': 7971, 'cloth': 1717, 'loquaci': 5223, 'nail': 5820, 'spirit-crush': 8226, 'ennui': 2878, 'denud': 2322, 'arduous': 586, 'mother': 5721, 'clash': 1659, 'naturalist': 5848, 'jagger': 4677, 'stoppard': 8388, 'apt': 572, 'jacquot': 4674, 'preserv': 6745, 'tosca': 8983, 'ardor': 585, 'jazz': 4699, 'margin': 5390, 'compet': 1829, 'ship': 7828, 'landbound': 4960, 'subzero': 8502, 'inc.': 4424, 'latter': 5000, '1960s': 71, 'rebellion': 7083, 'dollar': 2557, 'reap': 7078, 'spiffi': 8219, 'techniqu': 8729, 'weaponri': 9667, 'neurosi': 5893, 'digit': 2411, 'communic': 1816, 'ill-construct': 4358, 'degener': 2279, 'pious': 6530, 'charli': 1528, 'twinkl': 9155, 'repress': 7217, 'dickensian': 2395, 'measur': 5475, 'like-them': 5126, 'oscar-sweep': 6163, 'brian': 1216, 'alfr': 394, 'hitchcock': 4181, 'drink': 2643, 'twelv': 9148, 'asleep': 637, 'hawaiian': 4049, 'trim': 9073, 'rowdi': 7416, 'lilo': 5132, 'tear-stain': 8724, 'shirley': 7830, 'templ': 8759, 'raucous': 7033, 'ethnic': 2955, 'sitcom': 7946, 'wise': 9820, 'regret': 7148, 'pride': 6767, 'staci': 8283, 'jell': 4710, 'sean': 7635, 'penn': 6416, 'monoton': 5685, 'nonstop': 5970, 'artific': 619, 'histrion': 4176, 'compens': 1828, 'paper-thin': 6305, 'facil': 3104, 'fervent': 3220, 'self-absorb': 7671, 'lohman': 5196, 'kosminski': 4906, 'erect': 2921, 'nachtwey': 5816, 'revit': 7288, 'clung-to': 1728, 'belong': 929, 'marvel': 5413, 'verdu': 9486, 'earth': 2729, 'mourn': 5735, 'assur': 655, 'glossi': 3719, 'brittl': 1233, 'bewild': 969, 'artsi': 624, 'charl': 1527, 'iii': 4352, 'lap': 4969, 'kick': 4836, 'labut': 4932, 'perri': 6446, 'fluff': 3364, 'anem': 487, 'nervous': 5888, 'spin': 8222, 'hopeless': 4234, 'kane': 4809, 'gender-provok': 3629, 'fax': 3183, 'melang': 5497, 'buoyant': 1303, 'friendship': 3504, 'alli': 415, 'mcbeal-styl': 5455, 'sundanc': 8537, 'festiv': 3224, 'descend': 2341, 'utah': 9427, 'januari': 4688, 'ferret': 3217, 'slyli': 8045, 'discoveri': 2464, 'contin': 1923, 'rose-color': 7396, 'matthew': 5443, 'lillard': 5131, 'born': 1140, 'shaggi': 7782, 'colour': 1777, 'chekhov': 1558, 'self-import': 7697, 'succumb': 8506, 'repel': 7208, 'notabl': 5994, 'seesaw': 7660, 'italian': 4651, 'beginn': 907, 'aimless': 369, 'continu': 1924, 'guilt': 3901, 'nobl': 5943, 'justifi': 4796, 'ararat': 575, 'astray': 658, 'etc': 2951, 'justic': 4795, 'necessari': 5862, 'grin': 3853, 'choke': 1594, 'wish': 9827, 'longer': 5208, 'matrix': 5438, 'erupt': 2932, 'tougher': 8993, 'kafka-inspir': 4803, 'eleg': 2790, 'six': 7951, 'dreamlik': 2631, 'ecstasi': 2747, 'exhilar': 3025, 'tasteless': 8702, 'unendur': 9285, 'ultra-provinci': 9187, 'rees': 7131, 'witherspoon': 9833, 'melani': 5498, 'carmichael': 1424, 'massiv': 5425, 'richard': 7308, 'pryor': 6858, 'mine': 5596, 'fool': 3389, 'gold': 3738, 'quicki': 6950, 'slender': 8009, '80-minut': 157, 'reminisc': 7190, 'destroy': 2356, 'dear': 2226, 'begun': 911, 'split': 8237, 'whodunit': 9768, 'stranger': 8404, 'befuddl': 903, 'delet': 2287, 'daili': 2168, 'activ': 268, 'fuel': 3526, 'appetit': 564, 'guard': 3892, 'resent': 7232, 'betti': 968, 'needi': 5866, 'front': 3513, 'idiosyncrat': 4343, '2000': 98, 'shanghai': 7793, 'noon': 5971, 'slacker': 7985, 'childish': 1579, 'jealousi': 4703, 'deniro': 2315, 'travi': 9044, 'bickl': 978, 'off-kilt': 6055, 'half-bak': 3951, 'setup': 7762, 'sluggish': 8041, 'asid': 635, 'explicit': 3048, 'two-drink-minimum': 9164, 'underst': 9262, 'jack': 4665, 'anonym': 515, 'falter': 3125, 'action-ori': 266, 'enemi': 2857, 'straight': 8396, 'wow': 9899, 'knew': 4887, 'dicken': 2394, 'light-heart': 5118, 'anyway': 548, 'peek': 6403, 'skateboard': 7958, 'revolut': 7290, 'abil': 205, 'kirshner': 4872, 'yellow': 9946, 'lodg': 5192, 'eyr': 3089, 'sweat': 8610, 'clarifi': 1655, 'creation': 2044, 'trickster': 9066, 'spider': 8215, 'musician': 5788, 'regalia': 7140, 'system': 8648, 'toe': 8934, 'spi': 8212, '12-year-old': 39, 'unmemor': 9345, 'lengthi': 5067, 'inhal': 4505, 'gutter': 3927, 'suaviti': 8469, 'prevail': 6758, 'nuclear': 6015, 'milk': 5581, 'lika': 5123, 'da': 2162, 'biggest': 992, 'nymphett': 6024, 'juliett': 4779, 'salt-of-the-earth': 7488, 'mommi': 5676, 'name': 5827, 'minni': 5604, 'slim': 8018, 'incognito': 4435, 'wig': 9788, 'shop': 7847, 'timid': 8905, 'soggi': 8120, 'similar': 7915, 'frothi': 3518, 'laden': 4942, 'underton': 9267, 'pedestrian': 6399, 'comment': 1805, 'rob': 7354, 'schneider': 7576, 'prissi': 6784, 'loud': 5234, 'special-effects-laden': 8196, 'struck': 8435, 'precis': 6717, 'bother': 1147, 'spot': 8251, 'laid': 4946, 'acid': 254, 'stark': 8320, 'made-for-tv': 5318, 'pose': 6667, 'philosoph': 6481, 'plympton': 6601, 'bread': 1200, 'redneck-versus-blueblood': 7118, 'trade': 9007, 'divert': 2523, 'jeff': 4707, 'foxworthi': 3446, 'oh': 6069, 'angl': 494, 'communal': 1814, 'yesteryear': 9949, 'inabl': 4417, 'e': 2714, 'bill': 996, 'paxton': 6382, 'stench': 8344, 'hang': 3987, 'co-written': 1738, 'mattel': 5441, 'lobbyist': 5186, 'tinsel': 8910, 'energ': 2858, 'turntabl': 9137, 'shelf': 7816, 'brooklyn': 1249, 'hood': 4227, 'capit': 1402, 'vin': 9536, 'diesel': 2404, 'seth': 7759, 'mcadam': 5454, 'scarili': 7549, 'sorrow': 8161, 'kieran': 4849, 'culkin': 2117, 'pitch-perfect': 6538, 'holden': 4194, 'son': 8146, 'wife': 9787, 'acumen': 278, 'cari': 1419, 'dover': 2591, 'kosashvili': 4905, 'eat': 2737, 'brussel': 1269, 'sprout': 8267, 'snap': 8081, 'small-scal': 8049, 'boast': 1092, 'eye-catch': 3083, 'freud': 3497, 'sade': 7471, 'kinnear': 4869, 'portray': 6665, 'loser': 5228, 'fantast': 3145, 'vital': 9558, 'mojo': 5666, 'notori': 6002, 'c.h.o': 1340, 'tall': 8675, 'carlin': 1422, 'murphi': 5780, 'surefir': 8570, 'nomin': 5950, 'best-foreign-film': 956, 'oscar': 6161, 'folk': 3377, 'nonchalleng': 5960, 'life-affirm': 5107, 'architectur': 582, 'method': 5535, 'assumpt': 654, 'grave': 3820, 'framework': 3453, 'mistak': 5639, 'academ': 229, 'brit': 1230, 'choic': 1593, 'upset': 9413, 'shred': 7870, 'glamour': 3695, 'hectic': 4092, 'homilet': 4217, 'exhaust': 3023, 'mayhem': 5452, 'simon': 7917, 'rental': 7203, 'reluct': 7181, 'irrespons': 4638, 'latch': 4990, 'onto': 6115, 'churn': 1624, 'unpretenti': 9361, 'janic': 4685, 'beard': 876, 'aspect': 639, 'sag': 7476, 'jelli': 4711, 'belli': 926, 'flow': 3358, 'pipelin': 6532, 'hitch': 4180, 'unexplor': 9294, 'punch-drunk': 6892, 'crack': 2015, 'buckaroo': 1275, 'banzai': 816, 'witless': 9838, 'ford': 3398, 'fairlan': 3116, 'glitter': 3708, 'wisegirl': 9824, 'gate': 3609, 'barb': 819, 'scorpion': 7601, 'conan': 1852, 'barbarian': 822, 'rodrigu': 7370, 'backdrop': 755, 'heel': 4095, 'gore-fre': 3774, 'allus': 418, 'serial': 7746, 'unsympathet': 9393, 'someon': 8139, 'auto': 705, 'junki': 4792, 'abridg': 215, 'impati': 4387, 'strenuous': 8417, 'discov': 2463, 'presenc': 6743, 'regain': 7139, 'ebulli': 2738, 'tunisian': 9126, 'tradition-bound': 9010, 'widow': 9785, 'mishmash': 5631, 'careen': 1415, 'bartlebi': 844, 'chef': 1557, 'recip': 7092, 'canada': 1383, 'inner-c': 4514, 'reagan': 7066, 'haywir': 4057, 'manifesto': 5376, 'listen': 5159, 'tori': 8973, 'amo': 459, 'gleefulli': 3702, 'compendium': 1827, 'jade': 4675, 'phoni': 6489, 'baloney': 797, 'biz': 1018, 'sweetest': 8616, 'leak': 5033, 'flatten': 3315, '1957': 67, 'laid-back': 4947, 'aloof': 423, 'cruel': 2100, 'misanthrop': 5616, 'float': 3348, 'butterfli': 1326, 'styx': 8468, 'sting': 8370, 'bee': 896, 'thumb': 8877, 'top-notch': 8968, 'slightest': 8017, 'everywher': 2995, 'forgiv': 3410, 'command': 1803, 'sole': 8126, 'lampoon': 4955, 'tomcat': 8944, 'rescu': 7229, 'funk': 3545, 'berg': 943, 'j.': 4661, 'wilson': 9799, 'looney': 5214, 'tune': 9125, 'j': 4660, 'cia': 1626, 'ryan': 7453, 'ideolog': 4341, 'fizz': 3296, 'categori': 1457, 'feather': 3190, 'enrich': 2882, 'unforc': 9306, 'grand-scal': 3805, 'larger-than-lif': 4978, 'status': 8333, 'howler': 4268, 'feminist': 3210, 'bugsi': 1285, 'cater': 1458, 'renner': 7199, 'revuls': 7292, 'pop-cyb': 6642, 'feed': 3196, 'bjork': 1020, 'western': 9735, 'overbear': 6211, 'north': 5977, 'korea': 4903, 'futur': 3560, 'schumach': 7583, 'hopkins\\\\/rock': 4236, 'collis': 1775, 'triniti': 9074, 'ratliff': 7031, 'aw': 727, 'dot': 2581, 'spell': 8207, 'racism': 6971, 'homophobia': 4220, 'titus': 8926, 'brio': 1228, 'frontal': 3514, 'nationwid': 5845, 'classifi': 1664, 'movie-industri': 5742, 'inclus': 4434, 'disingenu': 2478, 'manhood': 5371, 'salvag': 7491, 'meant': 5473, 'existenti': 3029, 'savvi': 7533, 'delv': 2301, 'passive-aggress': 6349, 'co-depend': 1732, 'self-esteem': 7689, 'flashback': 3310, 'trite': 9080, 'out-of-field': 6175, 'collag': 1766, 'polem': 6621, 'tract': 9006, 'princip': 6778, 'tenor': 8770, 'tacki': 8657, 'nonsens': 5969, 'wist': 9828, 'testosterone-charg': 8790, 'wizardri': 9842, 'wal-mart': 9595, 'print': 6780, 'ile': 4353, 'sight': 7899, 'launch': 5010, 'dimens': 2422, 'astronaut': 660, 'cabin': 1342, 'hannib': 3993, 'friend': 3503, 'dinner': 2426, 'queasi': 6940, 'infatu': 4486, 'ultra-viol': 9188, 'wannab': 9618, '1': 19, 'thirti': 8834, 'eas': 2730, 'pasta-fagioli': 6351, 'orgi': 6153, 'afterlif': 334, 'm.': 5300, 'incis': 4431, 'unabash': 9192, 'brace': 1172, 'elabor': 2780, 'conceit': 1854, 'blood-soak': 1067, 'nixon': 5937, 'ghetto': 3664, 'janklowicz-mann': 4687, 'amir': 456, 'mann': 5379, '1940s': 62, 'redeem': 7113, 'ahem': 362, 'waterlog': 9657, 'plumb': 6594, 'unchart': 9214, 'sub-sophomor': 8472, 'interplay': 4584, 'hewitt': 4128, 'tribut': 9062, 'braveri': 1191, 'poster': 6679, 'hint': 4164, 'simplic': 7923, 'masoch': 5420, 'kids-cut': 4847, 'composit': 1841, 'buzz': 1331, 'whir': 9761, 'click': 1690, 'ravel': 7039, 'bolero': 1110, 'crescendo': 2059, 'encompass': 2845, 'unwatch': 9399, 'dawn': 2204, 'crise': 2071, 'ceremoni': 1491, 'sceneri': 7558, 'cotswold': 1986, 'dish': 2474, 'goliath': 3746, 'hammi': 3972, 'mehta': 5492, 'languid': 4966, 'caffein': 1352, 'brillianc': 1223, 'disciplin': 2455, 'grade-grubb': 3796, 'shame': 7791, 'gaudi': 3611, 'shirt': 7831, 'fisher': 3288, 'poignanc': 6608, 'co-winn': 1735, 'inappropri': 4421, 'birot': 1009, 'well-defin': 9702, '15': 48, 'torment': 8974, 'angst': 496, 'operat': 6129, 'morph': 5712, 'mundan': 5775, '20th': 101, 'stamina': 8300, 'choreographi': 1604, 'two-third': 9167, 'scorses': 7602, '168-minut': 52, 'entranc': 2897, 'numb': 6017, 'econom': 2746, 'subtext': 8494, 'wendigo': 9727, 'art-hous': 613, 'trap': 9034, 'pretent': 6754, 'ten-year-old': 8764, 'steadfast': 8335, 'dualist': 2666, 'suggest': 8519, 'albeit': 386, 'perdit': 6429, 'languag': 4965, 'k-19': 4800, 'twenty-som': 9150, 'sour': 8172, 'underlay': 9253, 'gaieti': 3570, 'decod': 2249, 'door': 2572, 'frequent': 3489, 'footag': 3392, 'dynamit': 2709, 'stick': 8359, 'built': 1288, 'ala': 379, 'breathless': 1207, 'wholli': 9772, 'heart-wrench': 4078, 'opinion': 6130, 'laughabl': 5006, 'unbear': 9205, 'wretch': 9908, 'inan': 4420, 'well-pac': 9712, 'pierc': 6512, 'spike': 8220, 'feebl': 3195, 'poke-mania': 6617, 'preced': 6715, 'permeat': 6440, 'stortel': 8392, 'oftentim': 6068, 'coward': 2012, 'autocritiqu': 708, 'road-trip': 7353, 'veggi': 9466, 'optimist': 6140, 'scott': 7604, 'lothario': 5232, 'overwrought': 6251, 'bodice-ripp': 1097, 'streak': 8410, 'warm-blood': 9632, 'dispar': 2493, 'denizen': 2316, '\\\\': 186, '*': 10, 'iraqi': 4623, 'pois': 6615, 'receiv': 7087, 'un': 9190, 'inspector': 4536, 'jeffrey': 4708, 'extermin': 3067, 'oscar-worthi': 6165, 'moralist': 5704, 'consequ': 1895, 'gimmicki': 3681, 'eclips': 2744, 'disgrac': 2471, 'vehicl': 9467, 'doltish': 2560, 'unev': 9289, 'skunk': 7981, 'odor': 6047, 'crap': 2028, 'leash': 5039, 'scale': 7537, 'height': 4100, 'joe': 4736, 'dant': 2187, 'gremlin': 3841, 'zing': 9988, 'vibranc': 9507, 'botch': 1146, 'droll': 2652, 'tank': 8683, 'broomfield': 1251, 'manifest': 5375, 'institution': 4546, 'slaveri': 7999, 'black-own': 1024, 'white-empow': 9765, 'wertmul': 9731, 'decor': 2253, 'hallmark': 3965, 'coffe': 1753, 'ooz': 6117, 'vibrant': 9508, 'countless': 1999, 'weighti': 9687, '170': 53, 'photographi': 6493, 'parochi': 6328, 'nicest': 5911, '50-year': 131, 'workshop': 9878, 'malais': 5353, 'liberti': 5097, 'goofiest': 3766, 'surest': 8572, 'all-around': 400, 'anakin': 470, 'lustrous': 5294, 'polish': 6624, 'kline': 4883, 'undercut': 9244, 'primarili': 6772, 'perki': 6439, 'first-rat': 3283, 'over-blown': 6205, 'bruce': 1262, 'scar': 7540, 'anyplac': 546, 'visit': 9554, 'travail': 9038, 'hal': 3946, 'function': 3542, 'screed': 7612, 'discours': 2462, 'reserv': 7233, 'nonjudgment': 5968, 'out-bad-act': 6173, 'fluid': 3366, 'clyde': 1731, 'barrow': 841, 'sturm': 8462, 'und': 9231, 'decis': 2246, 'nicol': 5918, 'kidman': 4843, 'superstar': 8561, 'quirkili': 6959, 'floppi': 3353, 'self-deprec': 7684, 'stammer': 8301, 'envelop': 2902, 'breath': 1206, 'geriatr': 3656, 'harri': 4031, 'wherein': 9747, 'tend': 8766, 'ital': 4650, 'brusqu': 1268, 'stray': 8409, 'mummi': 5774, 'fritter': 3511, 'middle-of-the-road': 5563, 'entri': 2900, 'oh-those-wacky-brit': 6072, 'usher': 9424, 'smash': 8058, 'whini': 9757, 'life-alt': 5108, 'nolan': 5949, 'penetr': 6415, 'cinemant': 1630, 'stimul': 8369, 'suprem': 8567, 'cautionari': 1471, 'grate': 3817, 'bruis': 1266, 'par': 6308, 'puff': 6880, 'gawki': 3614, 'spall': 8182, 'rang': 7008, 'chateau': 1536, 'rudd': 7422, 'therapy-depend': 8816, 'flakebal': 3306, 'malaprop': 5354, 'pizazz': 6545, 'adult': 305, 'sudsi': 8511, 'encomia': 2844, 'sheet': 7814, 'hackney': 3938, 'fenc': 3211, 'emin': 2828, 'concert': 1860, 'session': 7756, 'patch': 6357, 'miami': 5547, 'vice': 9510, 'elev': 2795, 'ilk': 4354, 'compass': 1823, 'privi': 6787, 'misconstru': 5622, 'boil': 1105, 'simmer': 7916, 'orgasm': 6152, 'outcom': 6183, 'globetrotters-gener': 3712, 'juwanna': 4798, 'ludicr': 5269, 'guy-in-a-dress': 3929, 'ray': 7043, 'liotta': 5151, 'splendid': 8233, 'farc': 3151, 'high-mind': 4145, 'irrelev': 4634, 'adventu': 309, 'steve': 8354, 'brown': 1261, 'snake': 8080, 'per': 6422, 'altar': 426, 'hip': 4165, 'in-jokey': 4416, 'abrupt': 217, 'iq': 4619, 'race': 6968, 'discourag': 2461, 'slide': 8015, 'workout': 9876, 'ram': 6997, 'dass': 2197, 'up-and-com': 9401, 'documentarian': 2538, 'pitfal': 6539, 'endeavour': 2853, 'sun-drench': 8535, 'parlor': 6327, 'immatur': 4376, '110': 36, 'claustrophob': 1669, 'sleeper': 8005, 'femin': 3208, 'sunni': 8540, 'disposit': 2498, 'rapid-fir': 7017, 'deliveri': 2298, 'toback': 8930, 'heidegg': 4098, 'nietzsche-referenc': 5920, 'rubbo': 7420, 'harsh': 4034, 'i.q': 4323, 'disgust': 2473, '8': 154, 'patriot': 6368, 'wallop': 9607, 'video-shot': 9518, 'repres': 7215, 'nadir': 5818, 'thriller\\\\/horror': 8861, 'frozen': 3520, 'winter': 9815, 'landscap': 4962, 'grenobl': 3843, 'geneva': 3638, 'mount': 5733, 'expert': 3043, 'gradual': 3798, 'worthwhil': 9894, 'reveri': 7283, 'goodwil': 3762, 'creep': 2053, '3\\\\/4th': 119, 'spri': 8260, '2001': 99, 'sequel-for-the-sak': 7739, 'of-a-sequel': 6051, 'ingenu': 4500, 'turmoil': 9135, 'conduct': 1870, 'perpetu': 6445, 'urgenc': 9417, 'unspool': 9385, 'deriv': 2337, 'workman': 9875, 'grasp': 3816, 'pun': 6889, 'entendr': 2886, 'attend': 676, 'attent': 677, 'cellophane-pop': 1482, 'punk': 6900, 'gentlemen': 3650, 'fabul': 3095, 'stain': 8292, 'crossroad': 2091, 'inconsequenti': 4441, 'runner': 7441, 'transport': 9031, 'repeat': 7207, 'vertic': 9499, 'downtim': 2601, 'class': 1660, 'would-b': 9896, 'servant': 7753, 'craven': 2036, 'elm': 2807, 'street': 8413, 'schlock': 7571, 'inquiri': 4521, 'twice': 9152, 'gussi': 3919, 'shriek': 7874, 'imogen': 4383, 'kimmel': 4857, 'franklin': 3461, 'afloat': 328, 'concoct': 1864, 'scorn': 7600, 'impuls': 4412, 'commend': 1804, 'physic': 6495, 'disintegr': 2479, 'boyd': 1170, 'patient': 6365, 'seren': 7743, 'shockwav': 7838, 'gratifi': 3818, 'overrun': 6234, 'corrupt': 1979, 'weasel': 9671, 'absurdist': 224, 'thoroughfar': 8840, 'sailor': 7480, 'juvenil': 4797, 'paus': 6378, 'acquir': 258, 'brash': 1184, 'excus': 3019, 'wan': 9613, 'nari': 5836, 'pollut': 6628, 'phonc': 6486, 'subplot': 8484, 'irk': 4627, 'hodgepodg': 4189, 'decid': 2244, 'flimsier': 3342, 'out-siz': 6179, 'porous': 6659, 'monsoon': 5687, 'gel': 3624, 'quaid': 6932, 'fearless': 3187, 'moor': 5699, 'underplay': 9258, 'long-suff': 5206, 'heroin': 4123, 'unflapp': 9301, 'jane': 4684, 'wyman': 9923, 'june': 4785, 'cleaver': 1682, 'graduat': 3799, 'signific': 7903, 'cutting-room': 2153, 'floor': 3351, 'daytim': 2211, 'brisk': 1229, 'rever': 7282, 'honor': 4226, 'ol': 6077, 'ball-and-chain': 785, 'ball': 784, 'irresist': 4637, 'baran': 818, 'amass': 436, 'craftsmanship': 2021, 'intergalact': 4574, 'smell': 8062, 'greas': 3826, 'nichola': 5913, 'nicklebi': 5917, 'bright': 1222, 'sporad': 8247, 'four-hour': 3439, 'cricket': 2064, 'elvi': 2814, 'mope': 5701, 'plotless': 6588, 'whimper': 9753, 'convers': 1939, 'assaya': 646, 'gallic': 3579, 'fusti': 3558, 'circular': 1640, 'minkoff': 5603, 'updat': 9403, 'laundri': 5011, 'shortcom': 7851, 'numer': 6019, 'admiss': 295, 'turd': 9130, 'squash': 8276, 'truck': 9094, 'prefer': 6727, 'semi': 7716, 'marshal': 5407, 'strongest': 8434, 'mcmullen': 5463, 'n.m.': 5814, 'interchang': 4569, 'backwat': 763, 'wryli': 9921, 'twentysometh': 9151, 'hotsi': 4257, 'hard-driv': 4007, 'narciss': 5833, 'argento': 590, 'nerv': 5884, 'zani': 9972, 'downhil': 2597, 'unentertain': 9286, 'piss': 6535, 'b.s': 742, 'chocol': 1592, 'eclair': 2743, 'waltz': 9612, 'somebodi': 8136, 'tabl': 8653, 'fring': 3509, 'underground': 9252, 'upbeat': 9402, 'suitabl': 8522, 'chiller': 1583, 'follow-up': 3382, '1953': 66, 'wherev': 9748, 'x-men': 9926, 'stiff': 8361, 'departur': 2325, 'schmaltzi': 7574, 'clear-ey': 1678, 'quinn': 6954, 'leather': 5041, 'grunge-pir': 3889, 'hairdo': 3942, 'gandalf': 3587, 'wind-tunnel': 9806, 'cor-blimey-luv-a-duck': 1965, 'cockney': 1746, 'brazen': 1197, 'stinker': 8372, 'fleet': 3328, 'oppress': 6135, 'newcastl': 5902, 'drip': 2645, 'blood': 1064, 'dad': 2163, 'picture-perfect': 6508, 'gave': 3613, 'volletta': 9573, 'matern': 5434, 'furi': 3551, 'crackl': 2017, 'tango': 8682, 'pari': 6324, 'rosemari': 7398, 'babi': 748, 'benefit': 938, 'suppli': 8563, 'epp': 2913, 'improvis': 4410, 'yield': 9953, 'blind': 1053, 'crippl': 2070, 'amish': 457, 'soldier': 8125, 'food': 3387, 'advanc': 307, 'mail': 5335, 'shapiro': 7798, 'goldman': 3743, 'bolado': 1108, 'intoler': 4594, 'hard-edg': 4008, 'street-smart': 8414, 'retold': 7269, 'racket': 6973, 'idioci': 4342, 'ignit': 4348, 'reput': 7224, 'tissu': 8917, 'naipaul': 5821, 'possess': 6669, 'languor': 4968, 'psychodrama': 6868, 'advantag': 308, 'rough-around-the-edg': 7406, 'constraint': 1907, 'espionag': 2939, 'giggl': 3676, 'boost': 1131, 'distant': 2507, 'self-control': 7681, 'chouraqui': 1609, 'documentary-lik': 2539, 'barbar': 820, 'cleans': 1675, 'letterman': 5086, 'onion': 6110, 'proven': 6848, 'freudian': 3498, 'notch': 5996, 'kiddi': 4841, 'pablum': 6260, 'astring': 659, 'taut': 8708, 'sober': 8106, 'far-fetch': 3148, 'themat': 8808, 'mumbo': 5772, 'jumbo': 4781, 'redempt': 7115, 'roundelay': 7411, 'partner': 6339, 'partnership': 6340, 'behold': 920, 'finess': 3269, 'england': 2866, 'mitchel': 5645, 'handili': 3981, 'heft': 4096, 'nemesi': 5877, 'paunchi': 6377, 'midsect': 5566, 'wick': 9776, 'undramat': 9280, 'lucki': 5266, 'drab': 2609, 'inert': 4476, 'kao': 4812, 'verg': 9488, 'ash': 631, 'wednesday': 9680, 'widget': 9784, 'jar-jar': 4692, 'bink': 1000, 'rattl': 7032, 'bike': 993, 'motorcycl': 5729, 'steal': 8337, 'rigid': 7326, 'witch-styl': 9831, 'format': 3418, 'grandios': 3809, 'backmask': 759, 'bio-pic': 1004, 'problemat': 6795, 'specif': 8198, 'brainless': 1178, 'deuc': 2365, 'machismo': 5309, 'rough-trad': 7408, 'homo-erotic': 4218, 'inimit': 4508, 'discont': 2458, 'boat': 1093, 'characteris': 1520, 'introduct': 4601, 'influenc': 4493, 'derrida': 2339, 'inquisit': 4522, 'invalu': 4606, 'pastri': 6355, 'lag': 4944, 'clockstopp': 1706, 'crazi': 2040, 'mixed-up': 5647, 'com': 1782, 'modem': 5657, 'exceed': 3010, 'goldbach': 3739, 'laurenc': 5013, 'coriat': 1969, 'coinag': 1758, 'water-bound': 9652, 'land-bas': 4958, 'recreat': 7109, 'papin': 6307, 'pumpkin': 6888, 'pawn': 6380, 'disabl': 2442, 'purposeless': 6915, 'tadpol': 8662, 'declar': 2248, 'prone': 6825, 'indign': 4462, 'appli': 567, 'suscept': 8593, 'profan': 6803, 'crisp': 2073, 'unaffect': 9197, 'cann': 1390, 'bubbl': 1273, 'morrison': 5714, 'uncompromis': 9222, 'goose-pimpl': 3770, 'evelyn': 2974, 'marvin': 5414, 'medium': 5487, 'saddl': 7470, 'unwieldi': 9400, 'cleaner': 1674, 'disassoci': 2449, 'showgirl': 7866, '\\\\/': 187, 'profund': 6810, 'funer': 3544, 'length': 5066, '84': 161, 'sentenc': 7732, 'devast': 2367, 'relianc': 7174, 'sharper': 7803, 'len': 5064, 'tuxedo': 9141, 'tailor': 8665, 'alter': 427, 'video-view': 9519, 'savor': 7530, 'intersect': 4588, 'biopic': 1007, 'crane': 2025, 'olivi': 6087, 'fashion': 3159, 'provinci': 6852, 'bourgeoi': 1159, 'nifti': 5921, 'traffic': 9011, 'tykwer': 9172, 'kieslowski': 4850, 'pessim': 6462, 'contradict': 1928, 'kapur': 4813, 'o.k': 6026, 'appet': 563, 'slipperi': 8022, 'foot': 3391, 'metal': 5532, 'moan': 5651, 'antwon': 540, 'obstacl': 6035, 'exasper': 3009, 'tick': 8884, 'kahlo': 4805, 'lifetim': 5114, 'insignific': 4530, 'whiffle-bal': 9752, 'unfamiliar': 9297, 'mormon': 5709, 'ward': 9626, 'clumsili': 1727, 'toss-up': 8985, 'warden': 9627, 'flee': 3327, 'friel': 3502, 'english': 2867, 'round': 7410, 'sexist': 7773, 'racist': 6972, 'brow': 1260, 'courtroom': 2006, 'top-bil': 8967, 'unorigin': 9354, 'flirt': 3347, 'verdict': 9485, 'holofcent': 4210, 'stagger': 8288, 'well-produc': 9713, 'whoosh': 9773, 'emptili': 2839, 'detach': 2358, 'doofus': 2570, 'hot-blood': 4253, 'task': 8700, 'inconceiv': 4439, 'brosnan': 1254, 'finest': 3270, 'pueril': 6879, 'pin': 6523, 'ransack': 7010, 'rework': 7294, 'bratti': 1187, 'texan': 8792, 'unlimit': 9344, 'church': 1621, 'maiden': 5333, 'foolish': 3390, 'phoenix': 6485, 'charisma': 1524, 'esther': 2947, 'awaken': 729, 'audac': 683, 'discuss': 2467, 'smoochi': 8070, 'train': 9015, 'luck': 5265, 'staid': 8291, 'martial': 5409, 'gunplay': 3916, 'zero': 9982, 'puppi': 6904, 'neck': 5864, 'graffiti': 3800, 'fetish': 3226, 'remov': 7193, 'copycat': 1963, 'sieg': 7896, 'enchant': 2843, 'weekend': 9682, 'upload': 9407, 'minim': 5599, 'bruin': 1265, 'sulki': 8524, 'overcoming-obstacl': 6215, 'sports-movi': 8249, 'choppi': 1599, 'surface-effect': 8575, 'wash': 9642, 'ocean': 6041, 'stockwel': 8376, 'warmed-ov': 9634, 'sucker': 8508, 'expand': 3033, 'telescop': 8754, 'high-profil': 4148, 'shoot-out': 7845, 'fistfight': 3291, 'phlegmat': 6483, 'vs.': 9580, 'ben': 934, 'affleck': 321, 'spawn': 8190, 'branch': 1181, 'pseudo-witti': 6862, 'hitler': 4184, 'ringu': 7331, 'lightheart': 5121, 'impud': 4411, 'snicker': 8090, 'humankind': 4283, 'cinematographi': 1633, 'point-of-view': 6612, 'fewer': 3229, 'slow-mot': 8036, 'quick-cut': 6948, 'detract': 2363, 'athletic': 666, 'cross-sect': 2088, 'taverni': 8709, 'rat-a-tat': 7026, 'unsubtl': 9388, 'lisa': 5156, 'rinzler': 7332, 'liza': 5179, 'collaps': 1767, 'blackout': 1027, 'callow': 1364, 'taylor': 8714, 'ill-consid': 4357, 'doug': 2587, 'liman': 5133, 'boom-bam': 1127, 'sacrific': 7466, 'gulpilil': 3909, 'abund': 225, 'modern-day': 5660, '19th-centuri': 91, 'glean': 3700, 'offend': 6061, 'analyt': 473, 'surrend': 8586, 'illog': 4362, 'permit': 6442, 'antonia': 537, 'newfangl': 5904, 'compuls': 1847, 'guilty-pleasur': 3904, 'daytime-drama': 2212, 'enigma': 2873, 'agenda': 344, 'silberl': 7905, 'pratfal': 6705, 'calvin': 1367, 'jr.': 4766, 'jr': 4765, 'warn': 9637, 'glimps': 3706, 'last-plac': 4989, 'basketbal': 853, 'zhang': 9985, 'fort': 3424, 'famuyiwa': 3134, 'picnic': 6505, 'esteem': 2946, 'writer-actor': 9914, 'sub-mus': 8471, 'h': 3932, 'cheaper': 1541, 'op': 6118, 'kwan': 4921, 'timeless': 8903, 'predica': 6720, 'fanat': 3136, 'advic': 312, 'scoobi': 7592, 'blanchett': 1034, 'ribisi': 7305, 'endors': 2855, 'pale': 6285, 'four-year-old': 3441, 'recount': 7106, 'piscopo': 6534, 'priceless': 6765, 'uner': 9288, 'wholesom': 9771, 'cut-and-past': 2147, 'action-movi': 265, 'repetit': 7209, 'rag': 6982, 'twohi': 9170, 'yarn-spinn': 9938, 'bewitch': 970, 'clooney': 1709, 'tonto': 8956, 'stepdad': 8347, 'adjust': 292, 'quaint': 6933, 'romantic': 7386, 'smarter': 8056, 'gone-to-se': 3750, 'hotel': 4255, 'flavor': 3319, 'gutsi': 3926, 'oili': 6074, 'arm': 598, 'squad': 8272, 'pile-up': 6515, 'requisit': 7227, 'captain': 1404, 'animatron': 502, 'puppet': 6903, 'shortest': 7853, 'jacobson': 4672, 'dahmer': 2167, 'anguish': 497, 'elus': 2812, 'overblown': 6212, 'tie-in': 8890, 'bump': 1298, 'nobodi': 5944, 'unguard': 9314, '95': 178, 'riff': 7318, 'versus': 9498, 'swung': 8635, 'cram': 2024, 'ingredi': 4503, 'pot': 6684, 'chaplin': 1514, 'ant': 518, 'negoti': 5871, 'pars': 6331, 'barn-sid': 834, 'breach': 1199, 'gap': 3596, 'forgiven': 3411, 'spent': 8210, 'particip': 6335, 'z-boy': 9970, 'frantic': 3462, 'undeserv': 9271, 'gourd': 3787, 'energet': 2859, 'enorm': 2880, 'lingeri': 5145, 'dancer': 2181, 'australian': 697, 'gile': 3677, 'too-hot-for-tv': 8959, 'direct-to-video\\\\/dvd': 2434, 'one-star': 6107, 'half-dimension': 3952, 'limb': 5134, 'tower': 9000, 'conquer': 1891, 'onlin': 6112, 'laptop': 4972, 'sketchi': 7962, 'plan': 6553, 'lord': 5224, 'messian': 5531, 'franz': 3463, 'hippie-turned-yuppi': 4169, 'eddi': 2749, 'nevertheless': 5899, 'german': 3657, 'occup': 6038, 'selv': 7714, 'melanchol': 5494, 'noir': 5947, 'christma': 1613, 'expos': 3054, 'ourselv': 6172, 'proof': 6827, 'wladyslaw': 9844, 'szpilman': 8650, 'kuri': 4919, 'paradigm': 6312, 'well-worn': 9720, 'window': 9807, 'electrocut': 2788, 'imit': 4374, 'freakshow': 3473, 'best-sel': 958, 'self-help': 7695, 'dystopian': 2713, 'fahrenheit': 3109, '451': 124, 'tunney': 9128, 'brim': 1225, 'neurot': 5894, 'freaki': 3471, 'gadget': 3565, 'genit': 3642, 'bought': 1151, 'telemarket': 8751, 'hardheart': 4020, 'respond': 7244, '#': 1, 'normat': 5975, 'gourmet': 3788, 'stuf': 8449, 'modus': 5664, 'operandi': 6128, 'crucifixion': 2096, 'juxtaposit': 4799, 'hottest': 4259, 'hippest': 4167, 'outdat': 6184, 'swagger': 8601, 'shameless': 7792, 'shuck-and-j': 7880, 'picpus': 6506, 'reactionari': 7058, 'soap-opera': 8103, 'scath': 7552, 'entiti': 2896, 'strangl': 8406, 'button': 1329, 'poverti': 6693, 'strip': 8425, 'church-wari': 1622, 'hide': 4136, 'coppola': 1962, 'daft': 2166, 'unruli': 9373, 'jump': 4782, 'backstag': 761, 'ancient': 479, 'sugari': 8516, 'after-school': 333, 'viscer': 9550, '60-second': 141, 'shrill': 7876, 'temper': 8757, 'soft': 8116, 'closet': 1715, 'skeleton': 7960, 'two-wrongs-make-a-right': 9169, 'joli': 4747, 'conform': 1881, 'benigni': 939, 'mind-numb': 5593, 'xerox': 9927, 'rorschach': 7393, 'glum': 3724, 'fontain': 3385, 'male-ridden': 5358, 'blockag': 1061, 'accompani': 240, 'unmistak': 9347, 'author': 703, 'vietnames': 9526, 'etern': 2952, 'devot': 2378, 'intermitt': 4580, 'adject': 291, 'graini': 3803, 'sin': 7928, 'annex': 509, 'behav': 914, 'lung': 5286, 'throwback': 8871, 'bottom-of-the-bil': 1150, 'chicken': 1573, 'lucrat': 5268, 'self-caricatur': 7677, '1999': 90, 'later': 4995, 'lieuten': 5105, 'infidel': 4489, 'standout': 8311, 'dian': 2386, 'glamor': 3694, 'thrust': 8874, 'ten': 8763, 'razzle-dazzl': 7047, 'recoveri': 7108, 'simultan': 7927, 'unsentiment': 9379, 'crimin': 2068, 'conspiraci': 1905, 'greek': 3835, 'apartheid': 551, 'span': 8183, 'cinderella': 1628, 'grade': 3795, 'libertin': 5098, 'agit': 351, 'sunshin': 8542, 'assess': 649, 'tremor': 9056, 'prime': 6773, 'autist': 704, 'ice-t': 4327, 'cool-j': 1950, 'rotten': 7403, 'california': 1361, 'cheat': 1543, 'torpedo': 8979, 'harm': 4027, 'maudlin': 5445, 'fuzzi': 3563, 'brendan': 1214, 'brogu': 1240, 'muster': 5795, 'nastier': 5841, 'fudg': 3525, 'purer': 6907, 'crisper': 2074, 'punchier': 6894, 'hanki': 3991, 'overwritten': 6250, 'ton': 8948, 'hypermasculin': 4314, 'watt': 9659, 'rachel': 6969, 'petit': 6467, 'vulner': 9584, 'giddi': 3671, 'longest': 5209, 'yard': 9936, 'rez': 7298, 'flag': 3301, 'legal': 5057, 'investig': 4610, 'presson': 6748, 'well-written': 9721, 'half-dozen': 3953, 'pregnant': 6729, 'restat': 7248, 'valid': 9439, 'eloqu': 2808, 'symbiot': 8639, 'dress': 2637, 'peekaboo': 6404, 'immacul': 4375, 'compos': 1840, 'self-congratul': 7679, 'extraordinarili': 3073, 'flavorless': 3320, 'basi': 850, 'meyj': 5545, 'homework': 4215, 'jazzi': 4700, 'revisionist': 7286, 'nazi': 5854, 'aesthet': 315, 'slobber': 8026, 'lovabl': 5239, 'run-on': 7439, 'gothic': 3784, 'rabbit-proof': 6966, 'angri': 495, 'cook': 1946, 'smoki': 8069, 'invit': 4614, 'passabl': 6345, '12': 38, 'secondari': 7645, 'channel-styl': 1510, 'antholog': 519, 'address': 288, 'medic': 5483, 'avail': 712, 'banter-fil': 815, 'airi': 374, 'bon': 1118, 'extens': 3064, 'grumbl': 3888, 'skew': 7964, 'exotic': 3032, 'sweep': 8613, 'jostl': 4757, 'hudlin': 4273, 'slur': 8044, 'shadowi': 7779, 'samurai': 7496, 'wen': 9726, 'devil': 2372, 'doorstep': 2573, 'gut-wrench': 3924, 'joseph': 4756, 'heller': 4106, 'kurt': 4920, 'vonnegut': 9576, 'likeabl': 5127, 'cuisin': 2116, 'statement': 8328, 'dime-stor': 2421, 'rumin': 7434, 'vaniti': 9448, 'worri': 9887, 'wisdom': 9819, 'sermon': 7749, 'actorish': 272, 'notat': 5995, 'working-class': 9874, 'spous': 8253, 'bolt': 1114, 'ardent': 584, 'grandkid': 3810, 'grandpar': 3812, 'edward': 2757, 'sidewalk': 7895, 'hungry-man': 4296, 'portion': 6662, 'splashi': 8232, 'nasti': 5840, 'boll': 1111, 'blurri': 1085, 'step-print': 8346, 'dopey': 2575, 'inadequ': 4418, 'self-destruct': 7685, 'exploratori': 3052, 'autopsi': 711, 'frost': 3516, 'bowl': 1165, 'via': 9504, 'kirsten': 4873, 'dunst': 2689, 'generos': 3635, 'diplomaci': 2429, 'duck': 2669, 'self-mutil': 7701, 'sideshow': 7892, 'geek': 3623, 'elysian': 2815, 'doom': 2571, 'sought': 8164, 'unfaith': 9295, 'whatsoev': 9741, 'la': 4925, 'sall': 7484, 'stutter': 8463, 'stitch': 8374, 'crime-land': 2066, 'catherin': 1461, 'breillat': 1212, 'rain': 6989, 'firm': 3279, 'shoddi': 7839, 'girl-on-girl': 3685, 'park': 6325, 'schizo': 7569, 'spread': 8257, 'evalu': 2967, 'meaningless': 5471, 'sew': 7767, 'head-trip': 4061, 'immediaci': 4378, 'stanley': 8314, 'stripe': 8426, '80': 156, 'kang': 4810, 'tack': 8656, 'ankle-deep': 504, 'irrepar': 4635, 'no-fril': 5939, '129-minut': 41, 'flower-pow': 3360, 'sinist': 7939, 'menac': 5509, 'nois': 5948, 'punish': 6898, 'chainsaw': 1500, 'sauci': 7527, 'sadist': 7473, 'vittorio': 9560, 'sica': 7886, 'uncov': 9228, 'conceal': 1853, 'incongru': 4440, 'nelson': 5876, '9-11': 170, 'attack': 673, 'scotland': 7603, 'pa': 6259, 'cassavet': 1441, 'afternoon': 336, 'wallow': 9608, 'sitcom-worthi': 7947, 'darl': 2193, 'wilco': 9790, 'brood': 1247, 'impenetr': 4389, 'widowmak': 9786, 'loyalti': 5261, 'freeli': 3479, 'sliver': 8023, 'condens': 1866, 'trait': 9017, 'mick': 5552, 'gloomi': 3714, 'select': 7669, 'acut': 279, 'acquaint': 257, 'testament': 8787, 'rejigg': 7162, 'led': 5050, 'infami': 4484, 'jumpsuit': 4784, 'shout': 7857, 'kool-aid': 4902, 'agil': 350, 'leagu': 5032, 'irrat': 4632, 'promin': 6822, 'rugrat': 7429, 'silver-hair': 7914, 'leonin': 5071, 'savag': 7528, 'full-bodi': 3532, 'cun': 2126, 'sandeman': 7501, 'hormon': 4238, 'fulfil': 3529, 'psychopath': 6870, 'whale': 9738, 'tar': 8689, 'lawmen': 5017, 'tootsi': 8965, 'pooti': 6639, 'tang': 8679, 'punchlin': 6895, 'gari': 3604, 'larson': 4983, 'multitud': 5771, 'simple-mind': 7920, 'yahoo-': 9933, 'gigant': 3674, 'lunar': 5283, 'mission': 5636, 'ambigu': 441, 'imperson': 4392, 'visionari': 9553, 'three-hour': 8853, 'patho': 6361, '72-year-old': 151, 'evan': 2968, 'chaotic': 1513, 'precoci': 6718, 'wayward': 9665, 'rebel': 7081, 'propriety-obsess': 6837, 'societ': 8110, 'gall': 3577, 'puddl': 6878, 'vietnam': 9525, 'rah-rah': 6985, 'strateg': 8407, 'neverland': 5898, 'straddl': 8395, 'shafer': 7781, 'pray': 6706, 'contain': 1914, 'graze': 3825, 'bone': 1121, 'macdowel': 5305, 'norwegian': 5981, 'folktal': 3379, 'villeneuv': 9535, 'inauthent': 4423, 'twinkly-ey': 9156, 'close-up': 1711, 'humorless': 4291, 'underscor': 9261, 'slather': 7997, 'burger': 1306, 'undertaken': 9266, 'rerun': 7228, 'shekhar': 7815, 'schiffer': 7567, 'hossein': 4248, 'amini': 455, 'reconceptu': 7101, 'barrier': 840, 'in-jok': 4415, 'verbal': 9484, 'poke': 6616, 'harvey': 4038, 'weinstein': 9690, 'bluff': 1082, 'rigor': 7327, 'denmark': 2318, 'dogma': 2549, 'grim': 3850, 'splendour': 8235, 'philip': 6478, 'dick': 2393, 'sugar': 8515, 'curs': 2137, 'huppert': 4300, 'volatil': 9571, 'owen': 6253, 'myer': 5802, 'prescient': 6740, 'refract': 7135, 'midst': 5567, 'morn': 5710, 'jaw-drop': 4697, 'palett': 6287, 'boffo': 1099, 'happili': 4000, 'slap-happi': 7992, 'swift': 8619, 'deterior': 2361, 'rough-hewn': 7407, 'andi': 483, 'clean-cut': 1673, 'jeremi': 4713, 'fiendish': 3239, 'cage': 1353, 'appl': 565, 'samira': 7495, 'makhmalbaf': 5352, 'bruckheimeresqu': 1264, 'emul': 2840, 'unconvinc': 9225, 'tornator': 8977, 'valley-girl': 9441, 'lookin': 5213, 'old-school': 6082, 'crafti': 2020, 'irrevoc': 4641, 'articul': 618, 'isra': 4647, 'circuit': 1639, 'by-the-numb': 1333, 'intellect': 4558, 'inhuman': 4507, 'uncinemat': 9216, 'high-octan': 4146, 'jolli': 4748, 'soft-porn': 8118, 'em': 2816, 'chines': 1589, 'latin': 4998, 'kouri': 4907, 'unorthodox': 9355, 'strangest': 8405, 'unwari': 9398, '1984': 82, 'uncut': 9230, 'sergio': 7744, 'choreograph': 1603, 'kitchen': 4876, 'misfir': 5626, 'childlik': 1580, 'retail': 7259, 'clerk': 1684, 'wheel': 9743, 'mermaid': 5524, 'aladdin': 382, 'dismal': 2484, 'farcic': 3152, 'bawdi': 867, 'regener': 7143, 'watercolor': 9655, 'dumbo': 2683, 'shock-you-into-laught': 7836, 'dadaist': 2164, 'dens': 2320, 'musket': 5790, 'duma': 2680, 'deviant': 2370, 'behaviour': 916, 'hypnot': 4316, 'ascertain': 630, 'pessimist': 6463, 'dougla': 2589, 'mcgrath': 5461, 'halfheart': 3960, '8th': 168, 'infuri': 4497, 'piccoli': 6502, 'stoke': 8377, 'happenst': 3998, 'toss': 8984, 'overladen': 6224, 'gooey': 3763, 'dough': 2588, 'fastbal': 3166, 'grotesqu': 3873, 'too-conscienti': 8957, 'island': 4645, 'scooby-doo': 7593, 'retro-refit': 7275, 'campi': 1380, 'nickelodeon-esqu': 5916, 'toro': 8978, 'longtim': 5210, 'tolkien': 8940, 'movie-go': 5741, 'neophyt': 5880, 'spade': 8178, 'clam': 1650, 'broil': 1241, 'sun': 8534, 'roy': 7418, '1973': 77, 'gunfight': 3914, 'waters-lik': 9658, 'pete': 6465, 'even-flow': 2976, 'third-person': 8829, 'brat': 1186, 'arcan': 578, 'area': 587, 'persuas': 6457, 'exposur': 3057, 'tight': 8892, 'tit': 8919, 'pacino': 6262, 'precari': 6714, 'exil': 3027, 'aristocraci': 596, 'didactic': 2400, 'laissez-pass': 4949, 'unblink': 9207, 'norton': 5980, 'gosl': 3779, 'magnet': 5328, 'siegel': 7897, 'cleav': 1680, 'nourish': 6004, 'potenc': 6687, 'brew': 1215, 'persever': 6448, 'hark': 4026, 'research': 7230, 'hors': 4245, 'sandbox': 7500, 'peski': 6461, 'smartest': 8057, '1933': 59, 'aftertast': 338, 's1m0ne': 7458, 'quota': 6962, 'anticip': 532, 'split-screen': 8238, 'pompous': 6631, 'wittgenstein': 9839, 'kirkegaard': 4871, 'titil': 8922, 'meow': 5515, 'ley': 5092, 'climb': 1697, 'ladder': 4941, 'frankenstein-lik': 3459, 'shoot-em-up': 7844, 'mib': 5548, 'milder': 5575, 'genre-curl': 3646, 'reviv': 7289, 'free-wheel': 3477, 'dave': 2200, 'overlap': 6225, 'fire-breath': 3275, 'pic': 6500, 'wallet': 9605, 'jonathan': 4752, 'parker': 6326, 'be-all-end-al': 868, 'modern-offic': 5661, 'ozpetek': 6255, 'all-inclus': 402, 'uptight': 9414, 'literarili': 5164, 'hail': 3940, 'synthet': 8646, 'descript': 2343, 'well-mean': 9711, 'high-pow': 4147, 'disbelief': 2452, 'underbelli': 9240, 'fame': 3126, 'astut': 662, 'anne-sophi': 508, 'dement': 2306, 'kura': 4917, 'veloc': 9470, 'intric': 4597, 'swath': 8607, 'retain': 7260, 'insipid': 4532, 'painkil': 6275, 'lili': 5129, 'chou-chou': 1608, 'foremost': 3404, 'mothman': 5725, 'propheci': 6833, 'swept': 8618, 'thirty-thre': 8835, 'paean': 6268, 'circa': 1637, '1958': 68, 'strategi': 8408, 'knockout': 4893, 'insinu': 4531, 'burrito': 1313, 'all-night': 404, 'tequila': 8775, 'bender': 936, 'jackass': 4667, 'english-languag': 2868, 'long-wind': 5207, 'cleti': 1685, 'tout': 8998, 'not-at-all-good': 5987, 'off-beat': 6052, 'elbow': 2781, 'one-lin': 6102, 'incorpor': 4443, 'rotoscop': 7402, 'stuffi': 8451, 'testud': 8791, 'viva': 9561, 'le': 5028, 'child': 1576, 'matine': 5436, 'rueful': 7425, 'heighten': 4101, 'spontan': 8241, 'rumor': 7435, 'opera-ish': 6127, 'teleprompt': 8753, 'cherri': 1564, 'orchard': 6145, 'ick': 4331, 'pyrotechn': 6924, 'avari': 716, 'pulchritud': 6881, 'unimpress': 9326, 'restraint': 7252, 'day-old': 2208, 'portugues': 6666, 'manoel': 5381, 'oliviera': 6088, 'asparagus': 638, 'gayton': 3617, 'gloss': 3718, 'single-mind': 7937, '1950': 63, 'dori': 2577, 'undernourish': 9257, 'fairy-tal': 3117, 'pipe': 6531, 'viabil': 9505, 'special-effect': 8195, 'hall': 3964, 'berri': 949, 'carl': 1421, 'hierarchi': 4140, 'underutil': 9268, 'epiphani': 2909, 'darn': 2194, 'radar': 6974, 'plethora': 6583, 'mind-bend': 5591, 'antidot': 533, 'clearasil': 1679, 'blemish': 1047, 'chafe': 1496, 'puberti': 6873, 'soften': 8119, 'substanti': 8491, 'archiv': 583, 'quick-buck': 6947, 'spici': 8214, 'footnot': 3394, 'rapt': 7020, '4ever': 126, 'gangster\\\\/crim': 3594, 'wore': 9867, 'cutesi': 2149, 'kiosk': 4870, 'pink': 6525, 'homosexu': 4221, 'lan': 4956, 'yu': 9966, 'igbi': 4347, 'philipp': 6479, 'oliv': 6086, 'sarandon': 7515, 'wasp': 9645, 'matron': 5439, 'diatrib': 2389, 'member': 5503, 'household': 4264, 'sneer': 8088, 'uncertain': 9211, 'brink': 1227, 'virtuos': 9546, 'harvard': 4036, 'paranoia': 6317, 'morton': 5718, 'sunbak': 8536, 'summeri': 8530, 'lucia': 5264, 'girls-behaving-bad': 3688, 'fallen': 3122, 'post-feminist': 6673, 'condescend': 1867, 'fault': 3176, 'surfeit': 8578, 'floweri': 3361, 'horn': 4239, 'interact': 4568, 'stronger': 8433, 'contend': 1918, 'prey': 6763, 'afflict': 322, 'argot': 591, 'accuraci': 246, 'woefulli': 9848, 'whiff': 9751, 'iwai': 4659, 'vaunt': 9461, 'royal': 7419, 'screw': 7616, 'misguid': 5629, 'gross': 3870, 'moron': 5711, 'campus': 1382, 'pushi': 6920, 'decibel': 2243, 'volum': 9574, 'overly-familiar': 6228, 'poorly-construct': 6638, 'pie': 6509, 'discreet': 2465, 'mini': 5598, 'dv': 2702, 'car-wreck': 1409, 'void': 9570, 'jackal': 4666, 'sprinkl': 8266, 'highbrow': 4152, '102-minut': 30, 'infomerci': 4495, 'entrepreneuri': 2899, 'testimoni': 8788, 'custom': 2144, 'potboil': 6686, 'ron': 7389, 'apollo': 557, '13': 43, 'packag': 6264, 'tuck': 9117, 'everlast': 2987, 'experienc': 3041, 'palat': 6283, 'agreeabl': 358, 'slave': 7998, 'humili': 4288, 'heal': 4064, 'welt': 9724, 'johnni': 4739, 'knoxvill': 4897, 'riot-control': 7334, 'projectil': 6815, 'interfer': 4573, 'text': 8793, 'discord': 2459, 'toppl': 8972, 'too-long': 8960, 'spoofi': 8243, 'macbeth': 5303, 'diss': 2503, 'snack': 8078, 'east': 2734, 'retel': 7264, 'thousand': 8845, 'jewish': 4724, 'refuge': 7137, 'democraci': 2309, 'shadyac': 7780, 'perpetr': 6444, 'sixth': 7953, 'unassum': 9202, 'sneak': 8086, 'moratorium': 5705, 'treac': 9045, 'prep-school': 6736, 'professor': 6806, 'paradox': 6314, 'unspeak': 9384, 'ream': 7077, 'loung': 5236, 'chanukah': 1511, 'scandal': 7538, 'disori': 2491, 'disarm': 2448, 'wonderland': 9854, 'stalker': 8297, 'flippant': 3346, 'lock': 5190, 'moodi': 5697, 'well-act': 9697, 'tear': 8721, 'gaze': 3619, 'seventy-minut': 7765, 'interviewe': 4590, 'old-hat': 6081, 'set-up': 7758, 'stardom': 8318, 'email': 2817, 'point-to-point': 6613, 'drive': 2646, 'overus': 6245, 'invas': 4607, 'asphalt': 640, 'crummi': 2103, 'wannabe-hip': 9619, 'climat': 1695, 'tremend': 9055, 'norm': 5972, 'koepp': 4898, 'kenneth': 4828, 'branagh': 1180, 'contradictori': 1929, 'super': 8543, 'trooper': 9086, '103-minut': 31, 'heroic': 4122, 'tortuous': 8981, 'illustr': 4365, 'lioness': 5149, 'cub': 2110, 'incap': 4425, 'word-of-mouth': 9865, 'lament': 4953, 'self-cent': 7678, 'buff': 1281, 'costar': 1983, 'pauli': 6375, 'chou': 1607, 'shed': 7812, 'robot': 7360, 'italic': 4653, 'baird': 777, 'editor': 2753, 'imaxi': 4372, 'rancor': 7004, 'suffici': 8513, 'winger': 9812, '1995': 88, 'celeb-strewn': 1476, 'strung-togeth': 8438, 'daydream': 2210, 'bake': 778, 'cardboard': 1411, 'doc': 2533, 'steadi': 8336, 'saturday': 7525, 'sword-and-sorceri': 8633, 'undoubt': 9279, 'goyer': 3790, 'mordant': 5707, 'unhappi': 9315, '51st': 135, 'artefact': 614, 'drabli': 2610, 'character-ori': 1519, 'bull': 1291, 'menu': 5513, 'ripper': 7340, 'spectat': 8202, 'open-mouth': 6124, 'mute': 5798, 'unattract': 9203, 'arguabl': 593, 'versatil': 9496, 'opaqu': 6119, 'qatsi': 6930, 'trilog': 9072, 'perenni': 6430, 'humbl': 4284, 'fragment': 3449, 'uni-dimension': 9321, 'eyebal': 3087, 'evapor': 2971, 'crypt': 2108, 'mist': 5638, 'mike': 5572, 'starter': 8322, 'malkovich': 5360, 'swoon': 8629, 'jersey': 4716, 'uma': 9189, 'glorifi': 3716, 'quintet': 6956, 'nonetheless': 5965, '112-minut': 37, '51': 134, 'soliloqui': 8129, 'max': 5447, 'two-hour-and-fifteen-minut': 9166, 'aggrav': 348, 'capra': 1403, 'sabotag': 7461, 'bomb': 1115, 'hollywood-act': 4206, 'goodfella': 3761, 'dozen': 2606, 'trouble-in-the-ghetto': 9092, 'durat': 2693, 'schedul': 7562, 'pokemon': 6618, 'induc': 4469, 'steami': 8339, 'off-cent': 6053, 'outright': 6196, 'fincher': 3264, 'above-averag': 213, 'sear': 7636, 'album': 387, 'remembr': 7188, 'palav': 6284, 'hypocrit': 4318, 'sexism': 7772, 'wet': 9736, 't-shirt': 8651, 'shower': 7865, 'great-grandson': 3829, 'jar': 4691, 'tawdri': 8710, 'drum': 2661, '5': 128, 'crappola': 2030, 'digg': 2410, 'lathan': 4997, 'zhao': 9986, 'benshan': 941, 'jie': 4728, 'anymor': 544, 'nich': 5912, 'plummer': 6595, 'complexli': 1837, 'minimum': 5601, 'metro': 5538, 'undead': 9232, 'common-man': 1812, 'cooper': 1953, 'multi-charact': 5766, 'flourish': 3357, 'bergmanesqu': 944, 'bisset': 1012, 'radiant': 6975, 'copout': 1961, 'happily-ev': 4001, 'spangl': 8184, 'reynold': 7297, 'melt': 5501, 'slime': 8019, 'stuck': 8442, 'cylind': 2156, 'mushi': 5786, 'whitak': 9763, 'misfit': 5627, 'prescrib': 6741, 'muzak': 5801, 'cushion': 2142, 'legaci': 5056, 'bronz': 1246, 'larami': 4973, 'shepard': 7820, 'mainten': 5341, 'celibaci': 1480, 'bone-chil': 1122, 'enforc': 2862, 'macho': 5310, 'assert': 648, 'derri': 2338, 'rail': 6986, 'larri': 4982, 'finger': 3271, 'two-way': 9168, 'time-switch': 8902, 'myopic': 5803, 'stall': 8298, 'lacklust': 4937, 'irrevers': 4640, 'potter': 6691, 'chamber': 1503, 'j.k.': 4662, 'rowl': 7417, 'ingeni': 4499, 'uncommon': 9220, 'well-deserv': 9703, 'omiss': 6092, 'dishonor': 2477, 'teen-pop': 8737, 'decenc': 2240, 'cutoff': 2150, 'stubborn': 8441, 'resort': 7239, 'sirk': 7942, 'rhetor': 7301, 'wacki': 9587, 'clobber': 1704, 'scarlet': 7550, 'letter': 5085, 'patriarch': 6366, 'compassion': 1824, 'health': 4065, 'boundless': 1157, '11': 35, 'reprehens': 7214, 'bestow': 961, 'unequivoc': 9287, 'stake': 8294, 'intacto': 4556, 'riot': 7333, 'jaw': 4696, 'facad': 3096, 'uncreat': 9229, 'unhibit': 9316, 'evid': 2997, 'hardship': 4023, 'palma': 6290, 'junk-calori': 4791, 'nerve-rak': 5885, 'hardwar': 4024, 'robust': 7361, 'tightrop': 8895, 'loathsom': 5184, 'lenienc': 5068, 'cyber': 2154, '21st': 104, 'veneer': 9472, 'enlighten': 2876, 'billi': 997, 'hurri': 4302, 'uncompel': 9221, 'confess': 1873, 'bio': 1002, 'architect': 581, 'nicola': 5919, 'marqui': 5404, 'dullard': 2678, 'golden': 3741, 'sprung': 8268, 'sticki': 8360, 'critic-proof': 2079, 'stanford': 8313, 'bebe': 883, 'neuwirth': 5896, 'seduc': 7652, 'founder': 3437, 'milieu': 5579, 'intelligentsia': 4561, 'batho': 859, 'oprahf': 6137, 'wesley': 9732, 'snipe': 8092, 'claustroph': 1668, 'attic': 678, 'consign': 1900, 'unexplain': 9293, 'filter': 3261, 'fetch': 3225, 'galinski': 3576, 'hawley': 4051, 'rope': 7392, 'taint': 8666, 'collinwood': 1774, 'light-hearted': 5119, 'gunfir': 3915, 'firework': 3278, 'normal': 5974, 'co-writer\\\\/director': 1737, 'brazil-lik': 1198, 'hyper-r': 4313, 'novak': 6006, 'prolong': 6819, 'barn-burn': 833, 'afterschool': 337, 'gianni': 3666, 'versac': 9495, 'clare': 1654, 'peplo': 6420, 'marivaux': 5398, 'mira': 5609, 'confirm': 1877, 'larki': 4981, 'everlyn': 2988, 'molli': 5671, 'craig': 2023, 'corpus': 1977, 'jerk': 4714, 'duplic': 2691, 'bela': 921, 'lugosi': 5270, 'now-clich': 6009, 'loophol': 5217, 'fli': 3334, 'hem': 4112, 'combat': 1786, 'hatr': 4045, 'spew': 8211, 'uncheck': 9215, 'divis': 2527, 'nonfict': 5967, 'devious': 2373, 'robin': 7358, 'demeanor': 2304, 'nonconformist': 5962, 'imperfect': 4390, 'allegi': 412, 'vex': 9502, 'handicap': 3980, 'angela': 490, 'gheorghiu': 3663, 'prima': 6769, 'donna': 2568, 'floria': 3354, 'roberto': 7357, 'alagna': 383, 'mario': 5397, 'cavaradossi': 1472, 'ruggero': 7428, 'lecher': 5046, 'scarpia': 7551, 'customarili': 2145, 'jovial': 4761, 'deficit': 2273, 'flim-flam': 3340, 'teas': 8726, 'bravura': 1193, 'consumm': 1912, 'bug': 1283, 'reliabl': 7173, 'cup': 2128, '1.2': 20, 'gaza': 3618, 'hard-heart': 4010, 'truncat': 9106, 'ill-tim': 4360, 'antitrust': 536, 'fraction': 3447, 'die-hard': 2402, 'connoisseur': 1890, 'entic': 2894, 'look-se': 5212, 'egoyan': 2768, '3-d': 111, 'vista': 9556, 'orbit': 6144, 'chime': 1585, 'globe': 3711, 'awe-inspir': 734, 'publicist': 6876, 'ran': 7003, 'on-screen': 6096, 'melancholia': 5496, 'gut': 3921, 'gerardo': 3654, 'vera': 9482, 'drench': 2636, 'swooni': 8630, 'fever-pitch': 3228, 'unpersuas': 9356, 'perfervid': 6432, 'warfar': 9628, 'prologu': 6818, 'obligatori': 6029, 'pearc': 6395, 'semi-st': 7718, 'all-mal': 403, 'eve': 2973, 'intermezzo': 4578, 'phenomen': 6473, 'weigh': 9685, 'champagn': 1504, 'slalom': 7987, 'poo-poo': 6635, 'waster': 9647, 'all-star': 406, 'salut': 7490, 'frontman': 3515, 'warner': 9638, 'bros.': 1253, 'fluffi': 3365, 'hum': 4279, 'moulin': 5732, 'overdo': 6217, 'corpor': 1975, 'fiji': 3250, 'diver': 2521, 'rusi': 7447, 'vulakoro': 9582, 'marri': 5405, 'michell': 5551, 'disjoint': 2481, 'pasolini': 6343, 'almodovar': 419, 'fantasma': 3144, 'charad': 1522, 'spotlight': 8252, 'estrogen-fre': 2949, 'gon': 3747, 'na': 5815, 'big-tim': 987, 'blasphem': 1040, 'genius': 3643, 'haphazard': 3995, 'transgress': 9025, 'auteil': 699, 'ordeal': 6147, 'tonal': 8949, 'afford': 324, 'downer': 2595, 'over-dramat': 6206, 'meal': 5466, 'squirm': 8279, 'guffaw': 3898, 'hospit': 4247, 'trailer': 9014, 'ballist': 790, 'eck': 2742, 'hole-ridden': 4196, 'anniversari': 511, 'nimbl': 5929, 'drunken': 2664, 'desol': 2349, 'reconcili': 7103, 'hoffman': 4190, 'eileen': 2773, 'walsh': 9609, 'charmless': 1532, 'vacant': 9431, 'debilit': 2231, 'aftermath': 335, 'satisfactori': 7523, 'carnag': 1425, 'weepi': 9684, 'paint-by-numb': 6279, '163': 51, 'partisan': 6338, 'duke': 2675, 'rohmer': 7374, 'borscht': 1142, 'belt': 932, 'schtick': 7582, 'pb': 6389, 'sandwich': 7506, 'bravado': 1188, 'boss': 1143, 'beachcomb': 871, 'verismo': 9491, 'indistinct': 4464, 'ambros': 446, 'extra-dri': 3069, 'offic': 6064, '83': 160, 'hour-and-a-half': 4261, 'marine\\\\/leg': 5396, 'sublimin': 8480, 'provinc': 6851, 'anybodi': 543, 'bloodsh': 1070, 'puriti': 6912, 'etho': 2958, 'coordin': 1954, 'tighter': 8894, 'editori': 2754, 'firmer': 3280, 'idl': 4345, 'neutral': 5895, '65th': 145, 'mixer': 5648, 'elegiac': 2792, 'teach': 8718, 'disease-of': 2470, 'the-week': 8804, 'infinit': 4491, 'wrench': 9905, 'seldahl': 7667, 'wollter': 9850, 'dubious': 2668, 'xxx': 9930, 'thinker': 8827, 'ballast': 786, 'piment': 6521, 'farrelli': 3156, 'rap': 7013, 'nihilist': 5926, 'summon': 8532, 'quadrangl': 6931, 'kinetically-charg': 4864, 'bucket': 1276, 'cultiv': 2121, 'stuffiest': 8452, 'goer': 3736, 'woodland': 9861, 'afraid': 329, 'snappi': 8082, 'stumblebum': 8455, 'maik': 5334, 'firebrand': 3277, 'envious': 2903, 'sale': 7483, 'ouija': 6170, 'board': 1090, 'dispens': 2495, 'woodard': 9858, 'franki': 3460, 'fieri': 3242, 'pocket': 6602, 'keel': 4822, 'unsolv': 9383, 'unresolv': 9371, 'jockey': 4735, 'jam': 4681, 'prefabr': 6725, 'scriptwrit': 7621, 'uninvent': 9332, 'jordan': 4755, 'bust': 1321, 'comfi': 1797, 'randal': 7005, 'bitten': 1015, 'driver': 2649, 'turkey': 9134, 'gobbl': 3728, 'dolbi': 2554, 'stereo': 8351, 'culture-clash': 2123, 'bumbl': 1297, 'europ': 2963, 'trenchant': 9057, 'dani': 2183, '7th-centuri': 153, 'oral': 6142, 'suppl': 8562, 'athlet': 665, 'indomit': 4467, 'collabor': 1765, 'rohypnol': 7375, 'elegi': 2791, 'side-by-sid': 7890, 'successor': 8505, 'kept': 4829, 'jettison': 4721, 'sloven': 8034, 'primit': 6775, 'balm': 796, 'sayl': 7536, 'forward': 3430, 'workplac': 9877, 'comedy\\\\/drama': 1795, 'bolster': 1113, 'curio': 2130, 'holi': 4197, 'cutthroat': 2151, 'je-gyu': 4701, 'limerick': 5135, 'scrawl': 7609, 'restroom': 7254, 'gondri': 3748, 'under-inspir': 9237, 'buddi': 1278, 'anarchist': 476, 'arrest': 608, 'self-promot': 7704, 'virul': 9549, 'drivel': 2647, 'glimmer': 3705, 'hindsight': 4162, 'rothman': 7401, 'unrel': 9367, 'foreman': 3403, 'barking-mad': 831, 'thewli': 8821, 'freddi': 3475, 'bettany\\\\/mcdowel': 966, 'hard-ey': 4009, 'mild-mann': 5574, 'been-ther': 897, 'aris': 595, 'feminin': 3209, 'readili': 7063, 'rant': 7012, 'midway': 5568, 'stillborn': 8366, 'conceptu': 1858, 'therapeut': 8814, 'zap': 9973, 'digress': 2414, 'submarin': 8481, 'das': 2195, 'undercov': 9242, 'cimarron': 1627, 'camaraderi': 1369, 'love-h': 5242, 'muck': 5756, 'heritag': 4119, 'faceless': 3099, 'hysteria': 4321, 'playstat': 6573, 'cocktail': 1747, 'column': 1781, 'j.r.r': 4663, 'middle-earth': 5562, 'privileg': 6788, 'kitsch': 4878, 'mcdonald': 5458, 'mctiernan': 5464, 'lighter': 5120, 'sober-mind': 8107, 'tap-danc': 8686, 'rhino': 7302, 'digest': 2409, 'klein': 4882, 'dead-on': 2217, 'saddest': 7469, 'braini': 1177, 'equilibrium': 2916, 'thirteen-year-old': 8833, 'totalitarian': 8988, 'farenheit': 3154, 'harder': 4019, 'swill': 8620, 'toy': 9003, 'half-heart': 3954, 'stroll': 8430, 'kilt': 4854, 'golf': 3745, 'hustler': 4309, 'franco': 3457, 'dean': 2225, 'driven': 2648, 'dual': 2665, 'lark': 4980, 'resourc': 7241, 'geneviev': 3639, 'leplouff': 5073, 'sub': 8470, 'nowaday': 6010, 'failur': 3112, 'half-nak': 3957, 'fast-mov': 3164, 'hard-hit': 4011, 'unveil': 9397, 'wheedl': 9742, 'smear': 8060, 'windshield': 9808, 'hanek': 3986, 'tendenc': 8767, 'nettelbeck': 5891, 'flavour': 3321, 'p.c': 6257, 'abysm': 227, 'oblig': 6028, 'guessabl': 3896, 'echo': 2741, 'aristocrat': 597, 'fineri': 3268, 'deflat': 2276, 'eardrum-d': 2720, 'screeching-met': 7611, 'smashup': 8059, 'flaccid': 3300, 'conrad': 1892, 'l.': 4922, 'straight-ahead': 8397, 'undisput': 9275, 'anti-semit': 528, 'neo-fasc': 5879, 'gather': 3610, 'dust': 2695, 'mgm': 5546, 'freshman': 3495, 'fluke': 3368, 'slump': 8043, 'derail': 2334, 'post-product': 6675, 'throe': 8866, 'flush': 3369, 'testosteron': 8789, 'garcia': 3600, 'wobbl': 9846, 'vengeanc': 9474, 'lisp': 5157, 'reptilian': 7220, 'bask': 852, 'adopt': 298, 'signpost': 7904, '4': 121, '1989': 85, 'self': 7670, 'butt': 1324, 'bluster': 1087, 'greenfing': 3837, 'denial': 2314, 'extract': 3071, 'byatt': 1334, 'calm': 1365, 'glee': 3701, 'lobotomi': 5187, 'scoop': 7594, 'discard': 2453, 'luca': 5262, 'played-out': 6569, 'so-cal': 8099, 'lina': 5140, 'eroti-comedi': 2927, 'husband-and-wif': 4305, 'derek': 2335, 'attun': 681, 'maxim': 5448, 'iconoclast': 4333, 'graham': 3801, 'pop-up': 6646, 'dishonest': 2475, 'fleder': 3325, 'girlish': 3687, 'duct': 2670, 'besid': 951, 'raptur': 7021, 'wider': 9783, 'knee-jerk': 4886, 'upheav': 9405, 'prelud': 6732, 'dreamscap': 2632, 'adroit': 304, 'galvan': 3582, 'campion': 1381, 'rudimentari': 7424, 'python': 6926, 'havoc': 4048, 'graceless': 3793, 'curtsi': 2140, 'china': 1588, 'advertis': 311, 'memoir': 5505, 'brawni': 1195, 'lugubri': 5271, 'one-hour': 6100, 'marcken': 5387, 'marilyn': 5393, 'freeman': 3480, 'freewheel': 3481, 'trash-cinema': 9036, 'impart': 4385, 'bludgeon': 1078, 'greenlight': 3839, 'miniseri': 5602, 'caton-jon': 1463, 'soft-cor': 8117, 'shoe': 7840, 'diari': 2388, 'besson': 954, 'krawczyk': 4911, 'second-r': 7644, 'ripe': 7337, 'growth': 3884, 'ninth': 5934, 'principl': 6779, 'unleash': 9341, 'pandora': 6297, 'gamut': 3586, 'cheesier': 1555, 'cheesiest': 1556, 'devito': 2374, 'undistinguish': 9276, 'joker': 4744, 'kidnap': 4844, 'unbridl': 9208, 'she-cut': 7809, 'homicid': 4216, 'treatis': 9050, 'in-depth': 4414, 'voice-ov': 9569, 'columbia': 1778, 'uppiti': 9410, 'yourselv': 9964, 'gadzook': 3566, 'open-end': 6121, 'cinephil': 1634, 'feast': 3188, 'blubber': 1077, 'sequin': 7741, 'flashbulb': 3311, 'blare': 1039, 'back-stab': 752, 'babe': 747, 'infiltr': 4490, 'sadism': 7472, 'stew': 8357, 'leaki': 5034, 'anti-virus': 529, 'kahn': 4806, 'monotoni': 5686, 'fuddy-duddi': 3524, 'weari': 9670, 'connect-the-dot': 1888, 'shade': 7777, 'elsewher': 2810, 'moder': 5658, 'abras': 214, 'scarifi': 7548, 'burlap': 1309, 'sack': 7463, 'gloom': 3713, 'cannier': 1393, 'doppelgang': 2576, 'flex-a-thon': 3332, 'exxon': 3081, 'mortarboard': 5717, 'hunt': 4298, 'super-seri': 8547, 'n': 5812, 'fold': 3376, 'unamus': 9198, 'unreward': 9372, 'saigon': 7479, '1952': 65, 'cheapen': 1540, 'circus': 1643, 'merger': 5522, 'downsiz': 2600, '94': 177, 'peak': 6393, 'bombast': 1116, 'one-not': 6103, 'boatload': 1094, 'freighter': 3484, 'inescap': 4478, 'hitchen': 4183, 'kissing': 4875, 'flower': 3359, 'purg': 6908, 'tooth': 8963, 'claw': 1670, 'binoch': 1001, 'vivaci': 9562, 'powerhous': 6697, 'ganesh': 3589, 'thunder': 8879, 'cadenc': 1349, 'dilut': 2417, 'awe': 733, 'uh': 9182, 'pork': 6654, 'distinguish': 2511, 'maggi': 5324, 'gas': 3607, 'deport': 2329, 'blight': 1052, 'antiqu': 534, 'loveabl': 5244, 'lilia': 5130, 'neil': 5874, 'freight': 3483, 'aniston': 503, 'stellar': 8343, 'accommod': 238, 'argument': 594, 'immort': 4382, 'brave': 1189, 'pearl': 6396, 'harbor': 4003, 'cumul': 2125, 'repuls': 7223, 'thirteen': 8832, 'seed': 7655, 'ambival': 444, 'savour': 7532, 'filler': 3254, 'equip': 2917, 'grab': 3791, 'aisl': 376, 'walker': 9599, 'kerrigan': 4830, 'platinum-blond': 6561, 'chen': 1562, 'downbeat': 2594, 'religion': 7178, 'unasham': 9201, 'teen-exploit': 8736, 'playbook': 6567, 'bemus': 933, 'contempt': 1917, 'clone': 1707, 'weav': 9673, 'ancillari': 480, 'acerb': 249, 'h.g': 3933, 'kin': 4858, 'completist': 1835, 'checklist': 1545, 'cultist': 2120, 'vein': 9469, 'drumbeat': 2662, 'pornograph': 6657, 'swank': 8604, 'best-sustain': 959, 'sardon': 7516, 'manic': 5374, 'orthodox': 6159, 'jew': 4723, 'unshap': 9381, 'neighbor': 5872, 'winc': 9803, 'clutch': 1730, 'recharg': 7091, 'boozi': 1134, 'temptat': 8762, 'salvat': 7492, 'cogent': 1754, 'superhuman': 8556, 'capac': 1399, 'withstand': 9837, 'appal': 558, 'crawl': 2037, 'wang': 9616, 'forefront': 3400, 'genteel': 3647, 'go-for-brok': 3726, 'herald': 4117, 'bailli': 776, 'fine-look': 3267, 'bounci': 1153, 'punctuat': 6896, 'stepmom': 8349, '2455': 106, 'messeng': 5529, 'postmodern': 6682, 'ye': 9941, 'petri': 6468, 'well-character': 9699, 'telephon': 8752, 'replet': 7212, 'quandari': 6937, 'raindrop': 6991, 'greater': 3830, 'evolut': 3001, 'month': 5693, 'decomposit': 2251, 'delusion': 2300, 'sven': 8600, 'stricken': 8420, 'viveka': 9563, 'violinist': 9542, 'yiddish': 9952, 'compliment': 1839, 'court': 2004, 'welfar': 9695, 'bacon': 765, 'theron': 8818, 'protract': 6845, 'borderlin': 1136, 'cri': 2062, 'teacher': 8719, 'rodriguez': 7371, 'reproduc': 7219, 'self-crit': 7682, 'behind-the-scen': 919, 'navel-gaz': 5852, 'orlean': 6156, 'insecur': 4525, 'f': 3090, 'blaze': 1044, 'tongue-ti': 8953, 'amateur': 437, 'asquith': 642, 'acclaim': 237, 'shenanigan': 7819, 'lascivious-mind': 4984, 'modesti': 5663, 'topless': 8970, 'tutori': 9139, 'schwarzenegg': 7584, 'physiqu': 6497, 'ahola': 363, 'wooden': 9859, 'forg': 3407, 'still-raw': 8365, 'post': 6671, 'lyne': 5297, 'erod': 2925, '40': 122, 'reinvigor': 7160, '93': 176, 'unrecover': 9366, 'errat': 2929, 'participatori': 6336, 'condescens': 1868, 'lofti': 5193, 'perch': 6426, 'metropolitan': 5540, 'faceti': 3102, 'net': 5890, 'atlant': 667, 'grizzl': 3862, 'char': 1516, 'northwest': 5979, 'bermuda': 947, 'bliss': 1056, 'panach': 6295, 'sommer': 8145, 'title-bout': 8924, 'screwbal': 7617, 'antonio': 538, 'banderas-luci': 804, 'liu': 5170, 'faceoff': 3100, 'non-stop': 5956, 'morvern': 5719, 'callar': 1363, 'woolf': 9862, 'clarissa': 1656, 'dalloway': 2169, 'divorc': 2528, 'hard-press': 4012, 'fatter': 3175, 'sweetheart': 8617, 'autobiograph': 707, 'one-room': 6105, 'ruse': 7445, 'tactic': 8660, 'nonexist': 5966, 'bean': 873, 'mush': 5785, 'glare': 3697, 'servitud': 7755, 'skirt': 7977, 'mind-destroy': 5592, 'give-me-an-oscar': 3691, 'egomaniac': 2767, 'breakdown': 1203, 'run-of-the-filth': 7437, 'recognis': 7096, 'map': 5383, 'freshen': 3493, 'counti': 1998, 'sleep-induc': 8004, 'unfinish': 9300, 'minus': 5606, 'plato': 6563, 'therefor': 8817, 'stepmoth': 8350, 'greedi': 3834, 'hands-off': 3984, 'greengrass': 3838, 'tad': 8661, 'grit': 3859, 'favorit': 3180, 'monologu': 5682, 'well-balanc': 9698, 'crappi': 2029, 'joie': 4740, 'vivr': 9566, 'thesi': 8819, 'catalog': 1449, 'bodili': 1098, 'clone-gag': 1708, 'despic': 2352, 'pluto': 6599, 'nash': 5839, 'grisli': 3858, 'adorn': 300, 'family-film': 3129, 'cheeki': 1549, 'debrauw': 2232, 'out-of-kilt': 6176, 'tearjerk': 8725, 'ana': 468, 'danni': 2186, 'veret': 9487, 'gestalt': 3659, 'outlin': 6191, 'zealous': 9977, 'puritan': 6911, 'brand': 1182, 'relish': 7179, 'quirk': 6957, 'wire': 9817, 'fu': 3523, 'raison': 6993, \"d'etr\": 2159, 'fresh-fac': 3491, 'young-gun': 9961, 'haul': 4046, 'websit': 9678, 'accident-pron': 236, 'stainton': 8293, 'tongu': 8951, 'canadian': 1384, 'smorgasbord': 8073, 'barrymor': 842, 'slickest': 8014, 'slow-mov': 8037, 'defec': 2266, 'bed': 890, 'urin': 9419, 'plant': 6556, 'gestur': 3660, 'hammer': 3971, 'groceri': 3866, 'snowbal': 8097, 'coat': 1742, 'pursuer': 6918, 'relax': 7166, 'rekindl': 7163, 'gedeck': 3622, 'hawn': 4052, 'banger': 809, 'vari': 9452, 'deafen': 2221, 'quieter': 6952, 'telegram': 8749, 'morsel': 5715, 'marmit': 5402, 'conceiv': 1855, 'shearer': 7811, 'radio': 6977, 'shrug': 7877, 'chatti': 1538, 'embellish': 2821, 'direct-to-video': 2433, 'kangaroo': 4811, 'awesom': 735, 'tit-for-tat': 8920, 'retaliatori': 7262, 'plug': 6593, 'conspir': 1904, 'american-russian': 449, 'armageddon': 599, 'desert': 2344, 'tchaikovski': 8716, 'underdramat': 9247, 'overst': 6238, 'transcript': 9021, 'humdrum': 4285, 'schoolboy': 7580, 'cring': 2069, 'salt': 7487, 'arbitrari': 576, 'pie-lik': 6510, 'altman': 430, 'villai': 9533, 'paranoid': 6318, 'cgi': 1494, 'truffaut': 9102, 'middle-class': 5561, 'gait': 3573, 'exuber': 3079, 'indoor': 4468, 'motionless': 5727, 'scrutin': 7624, 'cipher': 1635, 'frown': 3519, 'enthral': 2890, 'blunt': 1084, 'clean': 1672, 'madcap': 5314, 'boister': 1107, 'old-fashioned-movi': 6080, 'unburden': 9209, 'signatur': 7902, 'fetishist': 3227, 'courtesi': 2005, 'pogu': 6607, 'yale': 9934, 'grad': 3794, 'skull': 7979, 'highway': 4156, 'entrap': 2898, 'rag-tag': 6983, 'taught': 8706, 'environment': 2905, 'rewritten': 7295, '127': 40, 'spook': 8244, '1\\\\/2': 92, 'indec': 4447, 'propos': 6836, 'stolid': 8378, 'lolita': 5198, 'cornpon': 1974, 'cosa': 1981, 'nostra': 5986, 'corn': 1970, 'inter-famili': 4565, 'explan': 3047, 'odyssey': 6049, 'resuscit': 7258, 'fun-lov': 3540, 'handbag-clutch': 3976, 'stomach-turn': 8381, 'largest-ev': 4979, 'canva': 1396, 'dope': 2574, 'cold-heart': 1762, 'curmudgeon': 2135, 'indict': 4457, 'indiffer': 4459, 'spanish': 8185, 'crash': 2032, 'lion': 5148, 'redon': 7120, 'bryan': 1271, 'sprawl': 8256, 'surehand': 8571, 'scheme': 7564, 'too-extreme-for-tv': 8958, 'rendit': 7196, 'sicken': 7888, 'sidesplit': 7893, '295': 109, 'preview': 6761, 'air-condit': 371, 'uproari': 9411, 'scenic': 7559, '105': 33, 'yosuk': 9958, 'saeko': 7474, 'recov': 7107, 'abroad': 216, 'exterior': 3066, 'liabil': 5094, 'musker': 5789, 'clement': 1683, 'retina': 7266, '13th': 44, 'incarn': 4426, 'higher': 4153, 'plateau': 6560, 'interrog': 4586, 'bounc': 1152, 'wrist': 9911, 'tummi': 9121, 'hugger': 4277, 'twirl': 9157, 'bastard': 854, 'scant': 7539, 'nick': 5915, 'yank': 9935, 'pristin': 6785, 'overs': 6235, 'bedtim': 895, 'expediti': 3037, 'kumbl': 4914, 'dump': 2685, 'bang-the-drum': 807, 'riddl': 7313, 'gargantuan': 3603, 'three-minut': 8854, 'wolf': 9849, 'uninvolv': 9333, 'pender': 6414, 'folksi': 3378, 'binari': 998, 'all-too-human': 409, 'breed': 1210, 'annie-mari': 510, 'squaddi': 8273, 'burkina': 1308, 'faso': 3160, 'crocodil': 2082, 'hunter': 4299, 'righteous': 7325, 'block': 1060, 'neglig': 5870, 'guilt-trip': 3902, 'aircraft': 372, 'carrier': 1432, 'name-cal': 5828, 'fiend': 3238, 'reconstruct': 7104, 'lean': 5035, 'bloat': 1058, 'segal': 7661, 'gruel': 3886, 'time-consum': 8900, 'illus': 4364, 'litter': 5167, 'jab': 4664, 'egocentr': 2766, 'lin': 5139, 'chung': 1620, 'impetus': 4394, 'tart': 8696, 'guest': 3897, 'doctor': 2534, 'work-hour': 9869, 'insur': 4554, 'carmen': 1423, 'djeinaba': 2531, 'diop': 2427, 'gai': 3569, 'ditsi': 2517, 'mob': 5653, 'tnt': 8927, 'stud': 8443, 'knockabout': 4892, 'speci': 8193, 'balzac': 799, 'seamstress': 7634, 'blah': 1030, 'gere': 3655, 'bona': 1119, 'fide': 3234, 'groaner': 3865, 'rey': 7296, 'processor': 6799, 'agoni': 356, 'ever-rumin': 2982, 'smokey': 8068, 'worm': 9884, 'kitchen-sink': 4877, 'durabl': 2692, 'flip-flop': 3345, 'courtship': 2007, 'ut': 9426, 'parachut': 6310, 'unstopp': 9387, 'interdepend': 4571, 'accomod': 239, 'jammi': 4683, 'creepy-scari': 2057, 'fixat': 3295, 'rout': 7413, 'low-lif': 5252, 'outburst': 6182, 'sore': 8158, 'tunnel': 9127, 'evad': 2966, 'surveil': 8588, 'unapp': 9200, 'reenact': 7130, 'hippi': 4168, 'lake': 4950, '1986': 83, 'ace': 248, 'ventura': 9479, 'pollak': 6627, 'wrestler': 9907, 'chyna': 1625, 'dolli': 2558, 'parton': 6341, 'elv': 2813, 'pimp': 6522, 'ho': 4186, 'earplug': 2728, 'pillowcas': 6519, '87': 165, 'bloodsuck': 1072, 'jag': 4676, 'viterelli': 9559, 'right-hand': 7322, 'goombah': 3768, 'speedi': 8206, 'swan': 8603, 'dive': 2520, 'grew': 3844, 'plung': 6597, 'celebratori': 1479, 'sturdi': 8460, 'self-knowledg': 7699, 'specimen': 8199, 'lab': 4926, 'feisti': 3201, 'kafkaesqu': 4804, 'overnight': 6230, 'persecut': 6447, 'genial-rogu': 3641, 'zealand': 9976, 'kingdom': 4866, 'porcelain': 6652, 'chomp': 1595, 'biographi': 1006, 'fourteen-year': 3443, 'ferri': 3218, 'bueller': 1280, 'deja': 2283, 'vu': 9581, 'hype': 4312, 'forum': 3429, 'bargain-bas': 828, 'pickup': 6504, 'swipe': 8625, 'bambi': 800, 'favourit': 3182, '146': 47, 'grandstand': 3813, 'rocky-lik': 7368, 'mutat': 5797, 'frenet': 3487, 'leaven': 5044, 'blowout': 1076, 'dampen': 2177, 'arthous': 615, '101': 29, '4w': 127, 'petrovich': 6469, 'comeupp': 1796, 'avant': 714, 'gard': 3601, 'broadway': 1238, 'enliven': 2877, 'cardoso': 1413, 'dictat': 2396, 'auspici': 692, 'chaiken': 1498, 'xtc': 9929, 'unremark': 9369, 'neoreal': 5881, 'war-torn': 9624, 'keenest': 4824, 'bombay': 1117, 'dunno': 2688, 'laboratori': 4929, 'underneath': 9256, 'anti-harri': 526, 'gryffindor': 3890, 'scarf': 7543, 'becalm': 884, 'nubil': 6014, 'trace': 9004, 'artistri': 622, 'barber': 823, 'streetwis': 8415, 'mclaughlin': 5462, 'buscemi': 1317, 'rosario': 7394, 'travel-ag': 9040, 'independent-commun': 4451, 'hollywood-': 4205, '1970': 73, 'patholog': 6362, 'hideous': 4139, 'inferior': 4488, 'empath': 2830, 'underdon': 9246, 'potato': 6685, 'oh-so-hollywood': 6071, 'contrapt': 1930, 'kid-friend': 4838, 'no-nonsens': 5940, 'phifer': 6476, 'cam': 1368, 'seal': 7630, 'hispan': 4172, 'teeth-clench': 8746, 'gusto': 3920, 'molina': 5670, 'jimmi': 4730, 'anger': 493, 'dead-undead': 2218, 'shrieki': 7875, 'shreve': 7872, 'torn': 8976, 'less-compel': 5078, 'civil': 1647, 'freak-out': 3470, 'ditch': 2516, 'bicentenni': 977, 'favour': 3181, 'fourth': 3444, 'termin': 8777, 'videotap': 9523, 'kaig': 4807, 'chosen': 1606, 'cube': 2113, 'rictur': 7312, 'oscar-calib': 6162, 'howl': 4267, 'forgo': 3412, 'misogyni': 5632, 'sassi': 7518, 'backyard': 764, 'climax': 1696, 'abli': 208, 'so-five-minutes-ago': 8100, 'barf': 827, 'moviehous': 5747, 'affluent': 323, 'damsel': 2178, 'distress': 2514, 'bulli': 1294, 'repar': 7205, 'extreme-sport': 3077, 'creaki': 2041, 'self-empow': 7688, 'schmaltz': 7573, 'big-wav': 988, 'afterthought': 339, 'off-hand': 6054, 'adrian': 302, 'sleazi': 8000, 'overmanipul': 6229, 'soul-strip': 8167, 'zombi': 9995, 'exhibit': 3024, 'entwin': 2901, 'intercut': 4570, 'pledg': 6581, 'lacey': 4934, '18': 55, 'bushel': 1319, 'caruso': 1436, 'miser': 5624, 'plummet': 6596, 'anatom': 477, 'blood-curdl': 1065, 'stalk': 8296, 'guis': 3905, 'rat': 7025, 'skeev': 7959, 'bridget': 1219, 'cattl': 1465, 'transplant': 9030, 'newfoundland': 5905, 'soil': 8121, 'intrus': 4604, 'subsequ': 8487, 'reinvent': 7159, 'hide-and-seek': 4137, 'fart': 3157, 'grandfath': 3807, 'plate': 6559, 'varmint': 9457, 'ricochet': 7311, 'weightless': 9688, 'draft': 2611, 'auditorium': 687, 'showdown': 7864, 'synagogu': 8644, 'troubadour': 9090, 'acolyt': 256, 'licens': 5102, 'heart-warm': 4077, 'cat-and-mous': 1448, 'plaintiv': 6552, 'weep': 9683, 'mandel': 5368, 'holland': 4201, 'standoffish': 8310, '80s': 159, 'bedevil': 891, 'labori': 4930, 'whine': 9756, 'bellyach': 928, '15th': 50, 'annal': 507, 'aureli': 690, 'christell': 1611, 'nightmarish': 5924, 'fairytal': 3118, 'jaunt': 4695, 'alcatraz': 388, 'corps': 1976, 'craftsmen': 2022, 'surrealist': 8585, 'setpiec': 7760, 'demeanour': 2305, 'truth-tel': 9110, 'sascha': 7517, 'couch': 1988, 'dr.': 2608, 'dr': 2607, 'faint': 3113, 'san': 7497, 'francisco': 3456, 'must-se': 5794, 'quibbl': 6945, 'cackl': 1345, 'work-in-progress': 9870, 'campaign-trail': 1377, 'candid': 1387, 'overstuf': 6241, 'dirty-jok': 2441, 'post-tarantino': 6676, 'pop-cultur': 6641, 'taiwanes': 8667, 'ming-liang': 5597, 'weaver': 9674, 'tyson': 9176, 'miscast': 5619, 'so-bad-it': 8098, 'pop-influenc': 6644, 'prank': 6703, 'sublim': 8479, 'derring-do': 2340, 'buri': 1307, 'impass': 4386, 'p.o.w': 6258, 'french-produc': 3486, 'gaghan': 3568, 'thrown': 8872, 'glover': 3720, 'irrepress': 4636, 'accord': 242, 'low-rent': 5253, 'lower-wit': 5258, 'counter-cultur': 1995, 'razzi': 7046, 'facial': 3103, 'yi': 9951, 'nohe': 5946, 'gullibl': 3908, 'co-op': 1733, 'studio-produc': 8447, 'suitcas': 8523, '1938': 61, 'wreck': 9903, 'catastroph': 1452, 'clamor': 1651, 'cumbersom': 2124, 'simper': 7918, 'electr': 2786, 'unknow': 9339, 'misconceiv': 5621, 'clue': 1724, 'digital-effects-heavi': 2412, 'family-friend': 3130, 'vapor': 9450, 'flatter': 3316, 'fifteen-year-old': 3244, 'suicid': 8520, 'near-fat': 5858, 'moat': 5652, 'spice': 8213, 'penalti': 6410, 'preoccup': 6734, 'computer': 1849, 'yoda': 9954, 'ascend': 628, 'kinet': 4863, 'quiver': 6961, '89': 167, 'immigr': 4381, 'virtuoso': 9547, 'throat-sing': 8864, 'lumpish': 5281, 'panoram': 6299, 'mid': 5554, 'ali': 395, 'over-amor': 6204, 'terrier': 8780, 'tape': 8687, 'heretofor': 4118, 'unfathom': 9298, 'amor': 462, 'pursu': 6917, 'charg': 1523, 'lip-read': 5155, 'deep-seat': 2260, 'shmear': 7834, 'goo': 3752, 'artless': 623, 'sytl': 8649, 'pin-lik': 6524, 'underlin': 9254, 'finn': 3273, 'edmund': 2755, 'mcwilliam': 5465, 'jfk': 4726, 'star-stud': 8317, 'friggin': 3505, 'high-buf': 4142, 'foul-natur': 3434, 'mid-rang': 5555, 'jet': 4720, 'li': 5093, 'low-brow': 5248, 'disregard': 2501, 'everett': 2984, 'wildean': 9793, 'firth': 3285, 'millenni': 5583, 'undi': 9273, 'politess': 6626, 'prim': 6768, 'accus': 247, 'les': 5075, 'maryam': 5417, 'israel': 4648, 'legendari': 5059, 'kuni': 4916, 'rocket': 7365, 'rifkin': 7319, 'ever-watch': 2983, 'charit': 1526, 'castrat': 1444, 'tripe': 9077, 'groundbreak': 3876, 'full-fledg': 3533, 'spook-a-rama': 8245, 'barney': 835, 'orchestr': 6146, 'ripen': 7338, 'under-10': 9235, 'di': 2381, 'napoli': 5831, 'melvill': 5502, 'quick-wit': 6949, 'lit': 5161, 'whirl': 9762, 'age-inspir': 342, 'sociopath': 8114, 'exhum': 3026, 'circumstanti': 1642, 'tangent': 8680, 'fix': 3294, 'megaplex': 5491, 'brothers-styl': 1257, 'down-and-dirti': 2592, 'laugher': 5007, 'clown': 1720, 'gang-rap': 3592, 'besot': 952, 'valentin': 9437, 'first-class': 3282, 'belov': 930, 'aragorn': 574, 'fellowship': 3204, 'unbalanc': 9204, 'interlud': 4576, 'wing': 9811, 'has-been': 4039, 'castl': 1443, 'ohling': 6073, 'croak': 2081, 'bravo': 1192, 'castro': 1445, 'predomin': 6723, 'popul': 6648, 'nike': 5928, 'rebelli': 7082, 'shimmer': 7823, 'wateri': 9656, 'salton': 7489, 'darkest': 2192, 'batter': 863, 'straight-to-video': 8398, 'bigger-nam': 991, 'beavi': 882, 'butthead': 1328, 'wither': 9832, 'hiatus': 4131, 'util': 9428, 'catapult': 1451, 'pastel': 6352, 'soaper': 8104, 'skid-row': 7967, 'money-ori': 5679, 'hardi': 4021, 'mettl': 5541, 'goofbal': 3764, 'smeari': 8061, 'ambienc': 440, 'placement': 6548, 'claptrap': 1653, 'period-piec': 6438, 'movie-of-the-week': 5744, 'si': 7884, 'por': 6651, 'sharpli': 7805, 'florid': 3355, 'a.s.': 195, 'head-on': 4060, 'nadia': 5817, 'mail-ord': 5336, 'kittenish': 4881, 'trickeri': 9064, 'overkil': 6223, 'omnisci': 6094, 'pilot': 6520, 'teen-target': 8739, 'pertin': 6458, 'analysi': 472, 'motherhood': 5724, 'defer': 2269, 'catcher': 1455, 'rye': 7454, 'dyslexia': 2711, 'insati': 4524, '3-year-old': 112, 'dramedi': 2620, 'oversimplif': 6237, 'must-own': 5793, 'myriad': 5804, 'confect': 1872, 'flawless': 3323, 'fathom': 3174, 'lazier': 5025, 'misdemeanor': 5623, 'misus': 5644, 'morgan': 5708, 'ashley': 632, 'judd': 4767, 'gimmick': 3680, 'mulan': 5762, 'tarzan': 8698, 'indescrib': 4452, 'leroy': 5074, 'delus': 2299, 'uncoordin': 9226, 'vector': 9462, 'zest': 9984, 'boundary-hop': 1156, 'backhand': 757, 'pen': 6409, 'confluenc': 1880, 'cursori': 2138, 'bett': 964, 'rife': 7317, 'cockett': 1744, 'lactat': 4939, 'thirst': 8831, 'sacr': 7464, 'bleu': 1051, 'dirgelik': 2439, 'fang-bar': 3139, 'lullabi': 5275, 'rip': 7335, 'kitten': 4880, 'mask': 5419, 'blob': 1059, 'cellular': 1483, '7th': 152, 'frat-boy': 3466, 'soror': 8159, 'bowser': 1166, 'ambl': 445, 'rariti': 7024, 'shiri': 7829, 'wide-angl': 9778, 'cheese-lac': 1553, 'subcontin': 8474, 'mull': 5764, 'travers': 9042, 'disobedi': 2490, 'anti-war': 530, 'teen-driven': 8735, 'toilet-humor': 8937, 'codswallop': 1751, 'bias': 972, 'pencil': 6413, 'sharpen': 7802, 'kid-pleas': 4839, 'engulf': 2871, 'oleand': 6085, 'non-fan': 5952, 'done-that': 2565, 'erotic': 2928, 'pardon': 6320, 'goth': 3782, 're-work': 7053, 'indoctrin': 4466, 'miracul': 5611, 'dreamwork': 2633, 'tour': 8995, 'pivot': 6542, 'tenet': 8769, 'letharg': 5084, 'hinder': 4161, 'juri': 4793, 'gordi': 3772, 'waldo': 9596, 'actress-produc': 275, 'subtler': 8497, 'fun-seek': 3541, 'avalanch': 713, 'holiday-season': 4199, 'made-for-movi': 5317, 'diaz': 2390, 'high-end': 4144, 'elder': 2782, 'companionship': 1820, 'dictum': 2398, 'near-hypnot': 5859, 'heart-break': 4072, 'white-on-black': 9767, 'fanboy': 3137, 'septemb': 7735, 'devote': 2379, 'minutia': 5608, 'glide': 3704, 'fluiditi': 3367, 'agon': 355, 'bate': 857, 'helm': 4109, 'not-so-funni': 5992, 'bouquet': 1158, 'spiritless': 8227, 'ultra-loud': 9186, 'blunder': 1083, 'skyscrap': 7983, '1959': 69, 'godzilla': 3734, 'raymond': 7044, 'kennedi': 4827, 'smaller': 8052, 'gabbiest': 3564, 'giant-screen': 3668, 'barrag': 837, 'aptitud': 573, 'abdul': 201, 'malik': 5359, 'abbott': 199, 'ernest': 2924, 'tron': 9085, 'atroc': 670, '65-minut': 143, 'vacat': 9432, 'stoneheng': 8384, 'teeny-bopp': 8742, 'iota': 4618, 'hunk': 4297, 'feardotcom.com': 3186, 'improp': 4408, 'rea': 7054, 'disdain': 2468, 'naiv': 5823, 'self-imag': 7696, 'drool': 2654, 'mytholog': 5811, 'heroism': 4124, 'abject': 206, 'dognini': 2551, 'alan': 384, 'irvin': 4643, 'trainspot': 9016, 'eagl': 2717, 'carpet': 1429, 'creepiest': 2055, 'development': 2369, 'small-town': 8051, 'bang': 805, 'julia': 4776, 'humil': 4287, 'strut': 8439, 'huckster': 4272, 'lapel': 4970, 'bernard': 948, 'byzantin': 1338, 'pseudo-educ': 6860, 'cad': 1347, 'oomph': 6116, 'shawn': 7808, 'levi': 5088, 'apparatus': 560, 'hibern': 4132, 'l.a.': 4924, 'power-lunch': 6696, 'l.a': 4923, 'head-turn': 4062, 'contract': 1927, 'youngster': 9963, 'smother': 8074, 'diabol': 2382, 'cow': 2011, 'vivi': 9564, '85-minut': 163, 'tub': 9113, 'butter': 1325, 'knit': 4890, 'chicaneri': 1570, 'self-delus': 7683, 'elit': 2801, 'implod': 4399, 'demean': 2303, 'zippi': 9992, 'hitman': 4185, 'shorti': 7854, 'caustic': 1469, 'reactiv': 7059, 'argentin': 588, 'fabian': 3092, 'pithi': 6540, 'wai': 9591, 'ka': 4801, 'fai': 3110, 'action-adventur': 263, 'narrow': 5838, 'crossov': 2090, 'chore': 1602, 'engend': 2864, 'probat': 6792, 'persnicketi': 6450, 'serrault': 7751, 'disastr': 2451, 'face-to-fac': 3098, 'ok': 6075, 'ransom': 7011, 'trajectori': 9018, 'releg': 7169, 'salli': 7485, 'jess': 4718, 'raphael': 7015, 'philadelphia': 6477, 'missiv': 5637, 'nijinski': 5927, 'elizabethan': 2803, 'amic': 452, 'categor': 1456, 'smutti': 8077, 'crank': 2026, 'ages-old': 346, 'soire': 8122, 'clive': 1702, 'barker': 830, 'unemot': 9284, 'be-bop': 869, 'nighttim': 5925, 'videologu': 9522, 'cocoon': 1748, 'unqualifi': 9363, 'pungent': 6897, 'show-biz': 7860, 'media': 5481, 'tedium': 8732, 'stevenson': 8356, 'kingsley': 4867, 'copmovieland': 1960, 'neighborhood': 5873, 'cross-countri': 2087, 'ear-pleas': 2719, 'co-star': 1734, 'heart-felt': 4073, 'lovable-los': 5240, 'tundra': 9124, 'inuit': 4605, 'small-screen': 8050, 'smart-aleck': 8055, 'android': 485, 'criterion': 2077, 'surface-obsess': 8576, 'typifi': 9175, 'delirium': 2295, 'pre': 6707, 'extant': 3062, 'grandmoth': 3811, 'fleshed-out': 3331, 'hickenloop': 4134, 'voyeurist': 9579, 'pallid': 6288, 'leblanc': 5045, 'baseball-play': 847, 'overtur': 6244, 'pathos-fil': 6363, 'lout': 5238, 'stadium-seat': 8285, 'tail': 8664, 'bromid': 1244, 'slogan': 8028, 'preachy-keen': 6713, 'tub-thump': 9114, 'chump': 1619, 'preteen': 6751, 'out-shock': 6178, 'out-outrag': 6177, 'out-depress': 6174, 'luke': 5272, 'dim': 2418, 'evict': 2996, 'boredom': 1138, 'blake': 1032, 'mcfarlan': 5460, 'superhero': 8555, 'dystopia': 2712, 'arrog': 610, 'lure': 5288, 'prepackag': 6737, 'hard-sel': 4013, 'image-mong': 4367, 'slope': 8030, 'dishonesti': 2476, 'elud': 2811, 'hack-and-slash': 3936, 'mutter': 5799, 'nine': 5931, 'afghan': 325, 'byler': 1336, 'groan-to-guffaw': 3864, 'ratio': 7030, 'ving': 9538, 'rhame': 7299, 'outsel': 6197, 'guitar': 3906, 'debri': 2233, 'four-star': 3440, 'rapper': 7018, 'suge': 8518, 'knight': 4889, 'purr': 6916, 'gape': 3597, 'olymp': 6089, 'brain-deaden': 1175, 'hangov': 3989, 'substandard': 8489, 'stunt-hungri': 8458, 'dimwit': 2424, 'heather': 4086, 'merciless': 5519, 'fourth-rat': 3445, 'carrey': 1430, 'amidst': 454, 'forbidden': 3396, 'war-movi': 9622, 'tamer': 8678, 'show-don': 7861, 't-tell': 8652, 'reconcil': 7102, '20th-centuri': 102, 'ballroom': 795, 'pantheon': 6302, 'australia': 696, 'every-joke-ha': 2989, 'been-told-a': 898, 'thousand-tim': 8846, 'antisept': 535, 'desicc': 2346, 'tickl': 8886, 'girl-buddi': 3683, 'rock-n-rol': 7363, 'trend': 9058, 'overdu': 6218, 'shakesperean': 7788, 'unprovok': 9362, 'spars': 8189, 'chick-flick': 1572, 'breitbart': 1213, 'hanussen': 3994, 'outward': 6202, 'star-mak': 8316, 'machineri': 5308, 'tapestri': 8688, 'throwaway': 8870, 'chasm': 1534, 'beguil': 910, 'non-narr': 5954, 'analges': 471, 'overstimul': 6240, 'revisit': 7287, 'self-mock': 7700, 'expositori': 3056, 'prostitut': 6841, 'client': 1691, 'epilogu': 2908, 'siev': 7898, 'heart-rate-rais': 4075, 'altman-esqu': 431, 'animaton': 501, 'seldhal': 7668, 'recess': 7090, 'unearth': 9281, 'quak': 6934, 'marin': 5394, 'drug-rel': 2659, 'dispossess': 2499, 'blacklight': 1026, 'floyd': 3362, 'eye-rol': 3086, 'muddi': 5759, 'dialog': 2383, 'oh-so': 6070, 'interrupt': 4587, 'hurley': 4301, 'bath': 858, 'patron': 6371, 'untal': 9394, 'dog-paddl': 2546, 'burgeon': 1305, 'crib': 2063, 'lang': 4964, 'metropoli': 5539, 'disappear': 2445, 'fervid': 3221, 'truncheon': 9107, 'flux': 3371, 'fright': 3506, 'spellbind': 8208, 'anti-': 521, 'bray': 1196, 'garden': 3602, 'resum': 7256, 'clarke-william': 1658, 'dilettant': 2416, 'expend': 3038, 'catch-22': 1454, 'comprehend': 1843, 'caretak': 1418, 'halfwit': 3963, 'standup': 8312, 'icon': 4332, 'orson': 6158, 'solomon': 8131, 'turbul': 9129, 'restag': 7247, 'tv-insid': 9144, 'counter': 1994, 'cruditi': 2098, 'cancer': 1385, 'zeitgeist': 9978, 'balto': 798, 'quarter': 6938, 'grub': 3885, 'nakata': 5824, 'downtown': 2602, 'out-to-change-the-world': 6180, 'bled': 1046, 'centr': 1487, 'advis': 313, 'squint': 8278, 'egregi': 2769, 'lip-non-synch': 5154, 'punch-and-judi': 6891, 'karim': 4815, 'dridi': 2640, 'cuban': 2112, 'evas': 2972, 'erin': 2923, 'brockovich': 1239, 'eleven': 2796, 'pro': 6789, 'meddl': 5480, 'kibbitz': 4834, 'lacon': 4938, 'half-step': 3959, 'commiser': 1809, 'spright': 8261, 'unreligi': 9368, 'escort': 2936, 'gibson': 3670, 'shudder': 7881, 'groan': 3863, 'hiss': 4173, 'juliann': 4777, 'guei': 3894, 'wind-in-the-hair': 9805, 'pronounc': 6826, 'kok': 4899, 'ampl': 466, 'commerc': 1807, 'bandera': 803, 'luci': 5263, 'crossing-ov': 2089, 'marker': 5400, 'essayist': 2942, 'straight-up': 8399, 'occupi': 6039, '72': 150, 'lecter': 5047, 'pint-siz': 6529, 'amp': 465, 'phantom': 6472, 'anxious': 542, 'briefli': 1221, 'slam-bang': 7988, 'wild-and-woolli': 9792, 'wall-to-wal': 9602, 'rafael': 6980, 'absent': 219, 'cliff': 1692, 'vow': 9578, 'dungeon': 2686, 'militari': 5580, 'labyrinthin': 4933, 'sterl': 8353, 'deliver': 2297, 'directionless': 2435, 'dull-wit': 2677, 'understat': 9264, 'goofili': 3767, 'well-lens': 9709, 'gorefest': 3775, 'battlefield': 866, 'chiefli': 1575, 'lo': 5181, 'zaidan': 9971, 'paycheck': 6386, 'persist': 6449, 'woozi': 9863, 'personifi': 6453, 'prettiest': 6757, 'glucos': 3723, 'ravish': 7040, 'baroqu': 836, 'nobil': 5942, 'fun-for-fun': 3539, 'raffish': 6981, 'self-aggrand': 7673, 'documentary-mak': 2540, 'wankeri': 9617, 'lifelong': 5112, 'formalist': 3417, 'wireless': 9818, 'ba': 743, 'murdock': 5777, 'a-team': 193, 'in-between': 4413, 'majest': 5342, 'burnt': 1311, 'marathon': 5385, 'sweet-and-sour': 8615, 'forbear': 3395, 'child-rear': 1577, 'los': 5226, 'werewolf': 9729, 'heidi': 4099, 'mai': 5331, 'thi': 8822, 'shapabl': 7794, 'fragmentari': 3450, 'ze': 9974, 'blond': 1063, 'inter-raci': 4566, 'live-styl': 5173, 'divid': 2525, 'savori': 7531, 'fluent': 3363, 'flatula': 3318, 'denlopp': 2317, 'er': 2919, 'deckhand': 2247, 'parrot': 6330, 'mimic': 5589, 'blender': 1049, 'blood-drench': 1066, 'norrington-direct': 5976, 's.': 7455, 'overinfl': 6222, '30-year': 114, 'porridg': 6660, 'chewi': 1567, 'atyp': 682, 'fast-edit': 3162, 'hopped-up': 4237, 'tv-cop': 9143, 'colgat': 1764, 'u': 9177, 'lizard': 5180, 'cheech': 1547, 'chong': 1596, 'chip': 1590, 'ugly-look': 9181, 'phoney-feel': 6488, 'sharpi': 7804, 'mullan': 5765, 'socio-polit': 8112, 'northern': 5978, 'ireland': 4624, 'pulsat': 6886, 'wide-smil': 9782, 'recept': 7089, 'snatch': 8084, 'synergist': 8645, 'creepy-crawli': 2056, '91-minut': 175, 'preval': 6759, 'fast-forward': 3163, 'stringent': 8424, 'laissez': 4948, 'passer': 6347, 'pornographi': 6658, 'ghandi': 3662, 'quasi-shakespearean': 6939, 'misogynist': 5633, 'sleight-of-hand': 8008, 'ill-wrought': 4361, 'hypothesi': 4319, 'laugther': 5009, 'kazan': 4820, 'revers': 7284, 'absenc': 218, 'riski': 7343, 'ventur': 9478, 'cotton': 1987, 'junk': 4790, 'unforgett': 9307, 'impervi': 4393, 'heartach': 4079, 'someday': 8137, 'disservic': 2505, 'wholesal': 9770, 'ineptitud': 4475, 'excurs': 3018, 'epicent': 2907, 'percol': 6427, 'instabl': 4538, 'often-funni': 6067, 'ongo': 6109, 'unpreced': 9358, 'hallucinogen': 3968, 'coutur': 2009, 'spine': 8223, 'kubrick': 4913, 'jargon': 4693, 'year-end': 9943, 'q.': 6929, 'archibald': 580, 'pedest': 6398, 'lioniz': 5150, 'renegade-cop': 7197, 'kidnapp': 4845, 'pluck': 6591, 'hairpiec': 3945, 'lai': 4945, 'instruct': 4547, 'lad': 4940, 'zen': 9981, 'prick': 6766, 'misanthropi': 5617, 'propel': 6829, 'echelon': 2740, 'injustic': 4512, 'graveyard': 3821, 'encumb': 2848, 'dodg': 2541, 'prophet': 6834, 'landau': 4959, 'autopilot': 710, 'meatier': 5478, 'and\\\\/or': 481, 'tip': 8912, '+': 11, 'long-liv': 5204, 'track': 9005, 'blip': 1055, 'matchmak': 5432, 'tiniest': 8908, 'segment': 7662, 'marxian': 5415, 'harmoni': 4030, 'join': 4741, 'song-and-dance-man': 8148, 'pasach': 6342, 'ke': 4821, 'burstein': 1315, 'pizza': 6546, 'uncouth': 9227, 'vicious': 9512, 'cycl': 2155, 'auto-critiqu': 706, 'censur': 1485, 'mankind': 5378, 'food-for-thought': 3388, 'anecdot': 486, 'seizur': 7665, 'little-known': 5169, 'commonplac': 1813, 'seami': 7632, 'thandi': 8796, 'newton': 5908, 'hepburn': 4116, 'galor': 3581, 'moldy-oldi': 5668, 'not-near': 5989, 'as-nasti': 627, 'as-it': 626, 'pent': 6417, 'lumber': 5276, 'wheezi': 9745, 'guardian': 3893, 'avon': 725, 'jealous': 4702, 'bowel': 1164, 'long-on-the-shelf': 5205, 'point-and-shoot': 6611, 'groov': 3869, 'kibosh': 4835, 'greed': 3833, 'kids-in-peril': 4848, 'primal': 6770, 'manhunt': 5372, 'water-born': 9651, 'hen': 4113, 'drama\\\\/charact': 2617, 'yvan': 9969, 'fee': 3194, 'rave': 7038, 'horror\\\\/act': 4244, 'drawback': 2624, 'world-renown': 9882, 'expir': 3044, 'cafeteria': 1351, 'goulash': 3786, 'masturb': 5429, 'hare': 4025, 'cunningham': 2127, 'plex': 6584, 'predispos': 6722, 'eleph': 2794, 'intrepid': 4596, 'pet': 6464, 'unifi': 9322, 'thornier': 8838, 'nature\\\\/nurtur': 5849, 'bestial': 960, 'accident': 235, 'skippabl': 7976, 'hayseeds-v': 4056, 'brawn': 1194, 'restor': 7250, 'praiseworthi': 6702, 'low-grad': 5250, 'porno': 6656, 'semi-amus': 7717, 'tonight': 8955, 'program': 6812, 'boom-box': 1128, 'veget': 9465, 'batch': 856, 'fishi': 3289, 'self-amus': 7674, 'proverbi': 6849, 'dismantl': 2485, 'verac': 9483, 'croze': 2094, 'bibi': 973, 'slog': 8027, 'well-trod': 9719, 'bumper': 1300, 'diamond': 2385, 'trudg': 9097, 'rode': 7369, 'zipper': 9991, 'extra-larg': 3070, 'unsavori': 9375, 'conscienc': 1893, 'euphem': 2960, 'potshot': 6690, 'w.': 9586, 'bush': 1318, 'henri': 4115, 'et': 2950, 'al': 378, 'laugh-fre': 5004, 'w': 9585, 'conveyor': 1942, 'drowsi': 2657, 'self-examin': 7690, 'smuggl': 8076, 'danish': 2185, 'crispin': 2075, 'funnybon': 3550, 'mora': 5702, 'hokey': 4191, 'cruelti': 2101, 'caucasian': 1466, '90s': 174, 'silberstein': 7906, 'meanspirit': 5472, 'stasi': 8325, 'nerd': 5883, '140': 46, 'anti-kieslowski': 527, 'director\\\\/co-writ': 2437, 'jacqu': 4673, 'walt': 9610, 'becker': 888, 'glu': 3722, 'deer': 2264, 'elfried': 2797, 'jelinek': 4709, 'waif': 9592, 'lip-gloss': 5153, 'sweati': 8611, 'wander': 9614, 'jeunet': 4722, 'trier': 9068, 'sedat': 7651, 'large-screen': 4976, 'swoop': 8631, 'flutter': 3370, '53': 137, 'pump': 6887, 'overwork': 6249, 'user-friend': 9423, 'underachiev': 9238, 'seller': 7713, 'spoil': 8239, 'not-b': 5988, 'gaug': 3612, 'punni': 6901, '6': 138, 'grade-school': 3797, 'molest': 5669, 'murk': 5778, 'patrolman': 6369, 'dizzi': 2529, 'disorient': 2492, 'libretto': 5101, 'piqu': 6533, '1937': 60, 'groggi': 3868, 'alchem': 389, 'transmogrif': 9028, 'austen': 693, 'playwrit': 6575, 'unsuccess': 9389, 'hefti': 4097, 're-fri': 7049, 'tomato': 8943, 'big-heart': 985, 'concess': 1861, 'lukewarm': 5273, 'unnatur': 9350, 'shaken': 7785, 'rage': 6984, 'galleri': 3578, 'scent': 7560, 'alexandr': 393, '9\\\\/11': 181, 'gosford': 3778, 'jump-in-your-seat': 4783, 'backseat': 760, 'trifecta': 9070, 'writer-producer-director': 9916, 'countercultur': 1996, 'evangel': 2970, 'wrath': 9901, 'khan': 4833, 'nag': 5819, 'sordid': 8157, 'one-of-a-kind': 6104, 'sillifi': 7912, 'theolog': 8811, 'toughest': 8994, 'leonard': 5070, 'deem': 2258, 'oprah': 6136, 'bankruptci': 812, 'fell': 3202, 'panic': 6298, 'misplac': 5634, 'ralli': 6995, 'protestor': 6844, 'salaci': 7482, 'columbin': 1779, 'muckrak': 5757, 'sydow': 8638, 'luckiest': 5267, 'twilight': 9153, 'preordain': 6735, 'self-satisfi': 7711, '22-year-old': 105, 'girlfriend': 3686, '18-year-old': 56, 'mistress': 5642, 'emigr': 2826, 'same-sex': 7494, 'shoplift': 7848, 'farewell-to-innoc': 3155, 'bronx': 1245, 'dawdl': 2203, 'disaffected-indie-film': 2443, 'mode': 5655, 'late-in': 4992, 'outgag': 6187, 'whippersnapp': 9760, 'death-defi': 2229, 'iceberg': 4328, 'cue': 2115, 'blacken': 1025, 'veng': 9473, 'maci': 5311, 'thanksgiv': 8799, 'balloon': 792, 'docu-dogma': 2535, 'invis': 4613, 'psychic': 6866, 'diplomat': 2430, 'tweak': 9146, 'statecraft': 8327, 'c.': 1339, 'gruesom': 3887, 'scariest': 7547, 'plucki': 6592, 'tommi': 8946, 'peep': 6406, 'booth': 1133, 'mop': 5700, 'molder': 5667, 'big-budget': 983, 'zero-dimension': 9983, 'uninhibit': 9328, 'frazzl': 3468, 'fray': 3467, 'boomer': 1129, 'silent-movi': 7909, 'sucker-punch': 8509, 'beaus': 880, 'cudd': 2114, 'non-threaten': 5957, 'nurtur': 6020, 'plasma': 6557, 'conduit': 1871, 'brain-slap': 1176, 'phenomenon': 6475, 'toddler': 8933, 'bisexu': 1011, 'lawyer': 5020, 'stomach-knot': 8380, 'unsung': 9390, 'spaghetti': 8180, 'sportsmen': 8250, 'hat-in-hand': 4042, 'homogen': 4219, 'rose-tint': 7397, 'innumer': 4519, 'deris': 2336, 'abc': 200, 'wordless': 9866, 'ethnograph': 2956, 'well-shap': 9715, 'famin': 3132, 'butler': 1323, 'disappearing\\\\/reappear': 2446, 'dour': 2590, 'jacobi': 4671, 'pee-rel': 6402, 'grimac': 3851, 'stultifi': 8453, 'collar': 1768, 'walled-off': 9604, 'adher': 290, 'bloodstream': 1071, 'credul': 2050, 'subordin': 8483, 'foreground': 3401, 'forest': 3405, 'hue': 4274, 'drastic': 2622, 'iconographi': 4334, 'antsi': 539, 'bling-bl': 1054, 'aplenti': 554, 'gotten': 3785, 'merchandised-to-the-max': 5516, 'recruit': 7110, 'playlist': 6571, 'mill': 5582, 'transpos': 9032, 'vanessa': 9446, 'redgrav': 7116, 'big-fist': 984, 'jez': 4725, 'butterworth': 1327, 'smallest': 8053, 'sub-tarantino': 8473, '104': 32, 'kindr': 4862, 'bio-drama': 1003, 'decay': 2238, 'collid': 1773, 'hang-up': 3988, 'fresher': 3494, 'accid': 234, 'dismay': 2486, 'twin': 9154, 'solac': 8123, 'conflagr': 1878, 'nesbitt': 5889, 'vibe': 9506, 'hug': 4275, 'futil': 3559, 'keg': 4826, 'world-class': 9881, 'fencer': 3212, 'nyc': 6023, 'braveheart': 1190, 'film-cultur': 3257, 're-inv': 7051, 'girl-meets-girl': 3684, 'cuba': 2111, 'indigen': 4460, 'eke': 2778, 'commune': 1815, 'kurd': 4918, 'ailment': 367, 'dearth': 2227, 'uninflect': 9327, 'recompens': 7100, 'repetiti': 7210, 'bloodlet': 1069, 'wreckag': 9904, 'tried-and-tru': 9067, 'xmas': 9928, 'virtuous': 9548, 'influenti': 4494, 'to-do': 8928, 'remors': 7191, 'rape': 7014, 'self-sacrific': 7709, 'prepar': 6738, 'itiner': 4656, 'gene': 3631, 'badly-rend': 770, 'psychedelia': 6865, 'truckzilla': 9096, 'cryin': 2107, 'hrs': 4269, 'anti-establish': 524, 'whip-crack': 9759, 'flight': 3339, 'sneez': 8089, 'arrow': 611, 'unscath': 9376, 'overflow': 6221, 'well-real': 9714, 'embroil': 2824, 'intro': 4599, 'donald': 2563, 'susan': 8592, 'chatter': 1537, 'rampant': 7001, 'devalu': 2366, 'half-asleep': 3949, 'flexibl': 3333, 'brother-man': 1256, 'uhf': 9183, 'firebal': 3276, 'implos': 4400, 'inexpress': 4483, 'wide-ey': 9780, 'glint': 3707, 'enabl': 2841, 'aplomb': 555, 'sure-fir': 8569, 'prescript': 6742, 'regimen': 7145, 'stress-reduc': 8418, 'backlash': 758, 'lemon': 5063, 'dodger': 2542, 'intermediari': 4577, 'hour-and-a-half-long': 4262, 'sensate': 7723, 'ate': 664, 'peanut': 6394, 'often-cut': 6066, 'judici': 4770, 'invulner': 4616, 'playoff': 6572, 'boardwalk': 1091, 'goosebump': 3771, 'hypertim': 4315, 'tissue-thin': 8918, 'hijink': 4157, 'siuation': 7950, 'hypocrisi': 4317, 'kid-vid': 4840, 'lash': 4986, 'ballplay': 794, 'beloved-major': 931, 'laser': 4985, 'flag-wav': 3302, 'unhing': 9318, 'punchi': 6893, 'slowest': 8038, 'mika': 5571, 'anna': 506, 'mouglali': 5731, 'thurman': 8881, 'career-best': 1417, 'grouchi': 3874, 'ayatollah': 738, 'mosqu': 5720, 'drang': 2621, 'fuhrman': 3528, 'posthum': 6681, 'shut': 7882, 'inexcus': 4480, 'agitprop': 352, 'foo': 3386, 'yung': 9968, 'fisk': 3290, 'verisimilitud': 9490, 'patronis': 6372, 'sunset': 8541, 'awri': 737, 'off-the-wal': 6058, 'outlandish': 6189, 'ecolog': 2745, 'pro-wildlif': 6790, 'insouci': 4535, 'embed': 2820, 'demis': 2307, 'toni': 8954, 'd.j': 2160, 'grimi': 3852, 'kilmer': 4853, 'gravit': 3822, 'runteldat': 7442, 'luster': 5293, 'pillag': 6518, 'inciner': 4430, 'full-blood': 3531, 'thread': 8847, 'pregnanc': 6728, 'slot': 8033, 'mall': 5361, 'sander': 7502, 'picaresqu': 6501, 'monday': 5677, 'b-12': 740, 'vicari': 9509, 'no-surpris': 5941, 'bankrupt': 811, 'unnot': 9353, 'underappreci': 9239, 'fil': 3251, 'shabbi': 7776, 'array': 607, 'gum': 3911, 'sensuous': 7730, 'belly-danc': 927, 'angeliqu': 492, 'karmen': 4816, 'enthron': 2891, 'legend': 5058, 'sixth-grad': 7954, 'lewd': 5090, 'hardscrabbl': 4022, 'margaret': 5388, 'thatcher': 8800, 'ruinous': 7431, 'ia': 4324, 'frisson': 3510, 'tangl': 8681, 're-imagin': 7050, 'tenth': 8773, 'actori': 271, 'handheld': 3978, 'video-cam': 9516, 'mid-seventi': 5557, 'eudora': 2959, 'welti': 9725, 'post-adolesc': 6672, 'electra': 2787, 'nod': 5945, 'tome': 8945, 'hire': 4171, 'closed-off': 1712, 'nationalist': 5844, '90-plus': 173, 'dustin': 2699, 'slant': 7990, 's\\\\/m': 7459, 'enerv': 2861, 'deaden': 2219, 'drawn-out': 2627, 'drift': 2641, 'ever-grow': 2981, 'recognit': 7097, 'resolv': 7237, 'outr': 6194, 'dorkier': 2578, 'insepar': 4527, 'super-s': 8546, 'majidi': 5344, 'smoother': 8072, 'flabbergast': 3298, '14-year-old': 45, 'macnaughton': 5312, '10-year-old': 26, 'wizen': 9843, 'visitor': 9555, 'faraway': 3150, 'anomali': 513, 'identif': 4340, 'all-tim': 407, 'genesi': 3637, 'disneyland': 2489, 'bark': 829, 'pupil': 6902, 'addam': 285, 'amalgam': 434, 'fugit': 3527, 'deform': 2277, 'breast': 1205, 'neo-augustinian': 5878, 'best-known': 957, 'microscop': 5553, 'interior': 4575, 'bullwinkl': 1296, 'ha': 3934, 'riviera': 7350, 'spree': 8259, 'flesh': 3329, 'painstak': 6277, 'unholi': 9319, 'crummy-look': 2104, 'swashbuckl': 8606, 'idemoto': 4338, 'blossom': 1073, 'septuagenarian': 7737, 'crusti': 2106, 'frightfest': 3508, 'humor-seek': 4290, 'comin': 1800, 'ya': 9931, 'molto': 5672, 'superficial': 8553, 'travelogu': 9041, 'faulti': 3177, 'rarest': 7023, 'family-ori': 3131, 'non-disney': 5951, 'message-mong': 5528, 'asia': 633, 'shu': 7879, 'insuffici': 4552, 'exclam': 3016, 'seep': 7659, 'drawer': 2625, 'finch': 3263, 'margolo': 5391, 'unread': 9364, 'bang-bang': 806, 'pare': 6321, 'reader': 7061, 'panorama': 6300, 'gay-nich': 3616, 'wiseacr': 9821, 'hokum': 4192, 'churlish': 1623, 'begrudg': 909, 'warlord': 9630, 'dustbin': 2697, 'starv': 8324, 'souvlaki': 8176, 'indigest': 4461, 'loop': 5216, 'fantas': 3141, 'anxieti': 541, 'sidestep': 7894, 'subgenr': 8476, 'industrial-model': 4472, 'freezer': 3482, 'major-leagu': 5346, 'tries-so-hard-to-be-cool': 9069, 'wrinkl': 9910, 'checkout': 1546, 'walking-dead': 9600, 'cop-flick': 1956, 'bmw': 1088, 'crash-and-bash': 2033, 'coldest': 1763, 'crumb': 2102, '10-cours': 24, 'banquet': 813, 'spif': 8218, 'leftov': 5054, 'ruffl': 7426, 'self-hatr': 7694, 'self-determin': 7686, 'do-ov': 2532, 'chronic': 1615, 'overachiev': 6209, 'gut-clutch': 3923, 'torrent': 8980, '1962': 72, 'garnish': 3606, 'touchston': 8990, 'alarm': 385, 'showi': 7867, 'earmark': 2724, 'monosyllab': 5684, 'continuum': 1925, 'delhi': 2288, 'stand-up-comedi': 8307, 'til': 8896, 'sewag': 7768, 'shovel': 7858, 'gullet': 3907, 'simul': 7926, 'susten': 8599, 'amok': 460, 'august': 688, 'barbara': 821, 'introvert': 4603, 'large-scal': 4975, 'flinch': 3343, 'lack-of-attent': 4936, 'seventeen': 7764, 'rick': 7310, 'elli': 2806, 'painless': 6276, 'time-kil': 8901, 'ellen': 2805, 'pompeo': 6629, 'white-knuckl': 9766, 'spoken': 8240, 'patricio': 6367, 'guzman': 3930, 'curtain': 2139, 'angelina': 491, 'copenhagen': 1958, 'legion': 5060, 'glitz': 3709, 'rogu': 7373, 'agenc': 343, 'amnesiac': 458, 'damon\\\\/bourn': 2176, 'flood': 3350, 'journal': 4758, 'eponym': 2912, '1980': 80, 'hop': 4232, 'slop': 8029, 'suspici': 8597, 'overview': 6246, 'daredevil': 2189, 'scarfac': 7544, 'quietud': 6953, 'lived-in': 5174, 'springboard': 8264, 'biograph': 1005, 'play-doh': 6566, 'junior-high': 4789, 'millisecond': 5587, 'ratchet': 7027, 'prior': 6781, 'cough': 1989, 'fidget': 3236, 'bathroom': 860, 'cleavag': 1681, 'sling': 8020, 'bob': 1095, 'pea': 6391, 'sprecher': 8258, 'scintil': 7591, 'cure': 2129, 'doe-ey': 2544, 'pre-9': 6708, 'homer': 4214, 'restrain': 7251, '65-year-old': 144, '12th': 42, 'actuari': 277, 'hard-won': 4016, 'fiasco': 3231, 'joint': 4742, 'promot': 6824, 'poster-boy': 6680, 'lil': 5128, 'tashlin': 8699, 'recapitul': 7085, 'made-up': 5319, 'skin-deep': 7973, 'millennium': 5584, 'blank-fac': 1037, 'damaged-good': 2172, 'media-soak': 5482, 'magician': 5327, 'detect': 2360, 'skullduggeri': 7980, 'coma': 1783, 'tara': 8690, 'reid': 7152, 'six-tim': 7952, 'tropic': 9088, 'pageant': 6271, 'cable-sport': 1344, 'forev': 3406, 'live-act': 5172, 'jive': 4732, 'flynn': 3372, 'foul': 3432, 'pageantri': 6272, 'evacu': 2965, 'none-too-funni': 5964, 'muscl': 5782, 'nine-year-old': 5932, 'cannon': 1394, 'cream': 2042, 'well-drawn': 9706, 'goldberg': 3740, 'snare': 8083, 'impish': 4395, 'divertiss': 2524, 'gainsbourg': 3572, 'hayao': 4053, 'bv': 1332, 're-voic': 7052, 'shiver': 7832, 'standbi': 8309, 'malarkey': 5355, 'gobbler': 3729, 'slob': 8025, 'runyon': 7443, 'crook': 2084, 'retard': 7263, 'gender-war': 3630, 'pre-teen': 6710, 'latino': 4999, 'jiri': 4731, 'menzel': 5514, 'tanov': 8684, 'wide-awak': 9779, 'smile-button': 8064, 'populac': 6649, 'faux-urban': 3178, 'hotter-two-years-ago': 4258, 'indisput': 4463, 'pore': 6653, 'mexico': 5543, 'cd': 1474, 'remad': 7182, 'diaper': 2387, '1987': 84, 'monster-in-th': 5689, 'fiddl': 3233, 'skid': 7966, 'nonconform': 5961, 'glanc': 3696, 'hibiscus': 4133, 'mcculloch': 5457, 'late-summ': 4994, 'surfer': 8579, 'coincid': 1759, 'shoestr': 7842, 'lynch-lik': 5296, 'abomin': 209, 'hoof': 4228, 'croon': 2085, 'triple-cross': 9079, 'reedi': 7125, 'consiglier': 1899, 'kate': 4817, 'janin': 4686, 'all-woman': 410, 'tame': 8677, 'wised-up': 9823, 'rubenesqu': 7421, 'nonbeliev': 5958, 'rethink': 7265, 'creed': 2051, 'fred': 3474, 'schepisi': 7565, 'uniti': 9336, 'agreement': 359, 'handi': 3979, 'flibbertigibbet': 3335, 'dicey': 2391, 'diseas': 2469, 'sultri': 8526, 'beer-fuel': 900, 'retir': 7267, 'self-hat': 7693, 'mirren': 5614, 'heart-pound': 4074, 'proclaim': 6800, 'love-struck': 5243, 'pressur': 6749, 'cooker': 1947, 'consumerist': 1911, 'studious': 8448, 'wimp': 9801, 'off-screen': 6057, 'non-firsthand': 5953, 'eye-fil': 3084, 'wide-screen': 9781, 'disloy': 2483, 'satyr': 7526, 'jerusalem': 4717, 'mcdormand': 5459, 'timeout': 8904, 'reel\\\\/real': 7129, 'dichotomi': 2392, 'venice\\\\/venic': 9476, 'sullivan': 8525, 'good-for-you': 3755, 'humid': 4286, 'far-flung': 3149, 'coke': 1760, 'lamer': 4954, 'coral': 1966, 'behalf': 912, 'endang': 2850, 'cousin': 2008, 'bottom-feed': 1149, '37-minut': 118, 'semimus': 7719, 'wwii': 9922, 'electron': 2789, 'spectrum': 8203, 'kidlet': 4842, 'canon': 1395, '52': 136, 'cameo-pack': 1372, 'i-2-spoof': 4322, 'u.': 9178, 'grittili': 3861, '85': 162, 'snl': 8093, '8-year-old': 155, 'crest': 2060, 'gamesmanship': 3585, 'plea': 6576, 'wildlif': 9795, 'transfigur': 9022, 'unchang': 9213, 'decipher': 2245, 'arrang': 606, '30s': 117, '40s': 123, 'sketchiest': 7963, '1960': 70, 'serpent': 7750, 'certifi': 1493, 'iri': 4625, 'from-televis': 3512, 'inflat': 4492, 'mileag': 5577, 'phonograph': 6490, 'mystiqu': 5808, 'fifth': 3245, 'shindler': 7824, 'belgian': 922, 'waffl': 9589, 'cardiac': 1412, 'springer': 8265, 'rake': 6994, 'lawn': 5018, 'reincarn': 7156, 'halftim': 3961, 'fifteen': 3243, 'well-told': 9718, 'radioact': 6978, 'norma': 5973, 'rae': 6979, 'non-porn': 5955, 'hand-drawn': 3975, 'jeanett': 4706, 'macdonald': 5304, 'disinterest': 2480, 'syrup': 8647, 'idol': 4346, 'seiz': 7664, 'hapless': 3996, 'tic': 8883, 'avenu': 719, 'astronom': 661, 'mary-louis': 5416, 'unfussili': 9312, 'drone': 2653, 'zucker': 9998, 'brothers\\\\/abraham': 1258, 'post-modern': 6674, 'cogniz': 1755, 'self-assur': 7675, 'filmgo': 3258, 'bmx': 1089, 'rider': 7315, 'mat': 5430, 'turk': 9133, 'semen': 7715, 'cooli': 1952, 'pyscholog': 6925, 'video\\\\/dvd': 9520, 'babysitt': 750, 'liner': 5143, 'cookie-cutt': 1948, 'achronolog': 253, 'whop': 9774, 'delay': 2285, 'scorces': 7597, 'one-jok': 6101, 'venus': 9480, 'broader': 1236, 'maneuv': 5369, 'conclud': 1862, 'dote': 2582, 'murray': 5781, 'prolif': 6817, 'grandiloqu': 3808, 'misti': 5641, 'irreconcil': 4633, 'lesbian': 5076, 'avid': 723, 'half-lit': 3956, 'dorm': 2579, 'coda': 1749, 'tucker': 9118, 'dogmat': 2550, 'mrs.': 5750, 'decommiss': 2250, 'profess': 6804, 'magnolia': 5330, 'cliff-not': 1693, 'full-length': 3534, 'flagrant': 3303, 'thunderstorm': 8880, 'templat': 8760, 'tech-geek': 8727, 'raunch-fest': 7035, 'afterward': 340, 'comeback': 1790, 'curler': 2134, 'vardalo': 9451, 'zwick': 9999, 'tso': 9112, 'carton': 1433, 'vicent': 9511, 'adulteri': 306, 'plastic': 6558, 'knickknack': 4888, 'garag': 3598, 'you-are-ther': 9959, 'lay': 5022, 'emili': 2827, 'besco': 950, 'wiggl': 9789, 'cipherlik': 1636, 'tidal': 8887, 'hagiograph': 3939, 'leader': 5031, 'fidel': 3235, 'agnost': 353, 'carnivor': 1426, 'pythonesqu': 6927, 'good-tim': 3760, 'argentinian': 589, 'gurus': 3918, 'mumbo-jumbo': 5773, 'unimpeach': 9325, 'trounc': 9093, '50': 129, 'repugn': 7222, 'jungl': 4786, 'spy-savvi': 8271, 'vega': 9464, 'juni': 4787, 'sabara': 7460, 'cortez': 1980, 'give-and-tak': 3690, 'liyan': 5178, 'chopsocki': 1600, 'funki': 3546, 'thrive': 8862, 'bible-studi': 975, 'soon-to-be-forgett': 8152, 'cleverest': 1687, 'transfix': 9023, 'dweller': 2706, 'bra': 1171, 'kalvert': 4808, '10-year': 25, 'wheez': 9744, 'bohemian': 1103, 'nut': 6021, 'low-wattag': 5254, 'espous': 2941, 'jokey': 4746, 'holist': 4200, '20-car': 97, 'portent': 6661, 'tourism': 8996, 'abhor': 203, 'flat-out': 3314, 'corcuera': 1967, 'mortal': 5716, 'jacket': 4668, 'matinee-styl': 5437, 'bang-up': 808, 'jule': 4774, 'vern': 9493, '20,000': 96, 'pal': 6282, 'iran': 4620, 'afghani': 326, 'catalyst': 1450, 'restrict': 7253, 'yong': 9955, 'kozmo': 4909, 'administr': 293, 'orphan': 6157, 'third-rat': 8830, 'apocalyps': 556, 'unslick': 9382, 'based-on-truth': 848, 'persuad': 6456, 'surplus': 8582, 'aiello': 366, 'flesh-and-blood': 3330, 'unfilm': 9299, 'swinger': 8624, 'playboy': 6568, 'pixil': 6544, 'expressionist': 3060, 'long-fac': 5203, 'slam-dunk': 7989, 'rambo': 6999, 'meets-john': 5489, 'warm-milk': 9633, 'ill-fit': 4359, 'perfunctori': 6434, 'overt': 6242, 'underr': 9259, 'sense-spin': 7725, 'lola': 5197, 'one-trick': 6108, 'poni': 6634, 'recit': 7093, 'kids-and-family-ori': 4846, 'travesti': 9043, 'mistaken': 5640, 'pan': 6293, 'nalin': 5826, 'practition': 6700, 'monopoli': 5683, 'impression': 4406, 'video-game-bas': 9517, 'upfront': 9404, 'linear': 5142, 'closest': 1714, 'irksom': 4628, 'anew': 488, 'retriev': 7273, 'trump': 9104, 'heartili': 4083, 'war-weari': 9625, 'werner': 9730, 'shear': 7810, 'verit': 9492, 'f.': 3091, 'volcano': 9572, 'septic': 7736, 'yasujiro': 9939, 'ozu': 6256, 'unseem': 9378, 'congratul': 1885, 'fatherhood': 3173, 'fraser': 3464, 'temperament': 8758, 'decrepit': 2254, 'repriev': 7218, 'daddi': 2165, 'anarch': 475, 'gilmor': 3679, 'sydney': 8637, 'harbour': 4004, 'seater': 7640, 'life-at-arm': 5109, 'meter': 5534, 'world-at-larg': 9880, 'well-thought': 9716, '10,000': 23, 'uhhh': 9184, 'wimmer': 9800, 'undergrad': 9250, 'kraft': 4910, 'macaroni': 5302, 'applaud': 566, 'tireless': 8915, 'lick': 5103, 'clout': 1719, 'exemplifi': 3021, 'laziest': 5026, 'tot': 8986, 'till': 8897, 'regurgit': 7150, 'stable-ful': 8282, 'drizzl': 2651, 'venal': 9471, 'a.e.w': 194, 'mason': 5421, 'ready-mad': 7064, 'dire': 2431, 'fusion': 3555, 'concret': 1865, 'outag': 6181, 'insubstanti': 4550, 'hubert': 4270, 'slugfest': 8040, 'magi': 5325, 'reloc': 7180, 'scuzzi': 7627, 'feel-bad': 3198, 'item': 4655, 'cloud': 1718, 'limpid': 5138, '99': 180, 'yuen': 9967, 'represent': 7216, 'plutonium': 6600, 'purgatori': 6909, 'penchant': 6412, 'contenti': 1920, 'configur': 1875, 'thrill-kil': 8859, 'crapul': 2031, 'lds': 5027, 'armchair': 600, 'tourist': 8997, 'post-war': 6677, 'librari': 5099, 'worldly-wis': 9883, 'offal': 6059, 'majid': 5343, 'shoe-lov': 7841, 'zish': 9993, 'delinqu': 2294, 'paperback': 6306, 'switchblad': 8628, 'sexpot': 7774, 'heart-str': 4076, 'olympus': 6090, 'redol': 7119, 'weissman': 9693, 'weber': 9677, 'reced': 7086, 'hairlin': 3944, 'weather': 9672, 'counten': 1993, 'breckin': 1209, 'meyer': 5544, 'fangoria': 3140, 'subscrib': 8485, 'omnibus': 6093, 'just-above-averag': 4794, 'ungain': 9313, 'knee': 4885, 'macgraw': 5306, 'platitud': 6562, 'truck-lov': 9095, 'peroxid': 6443, 'honey': 4224, 'supermarket': 8559, 'forti': 3427, 'hackl': 3937, 'light-foot': 5117, 'goddammit': 3732, 'raimondi': 6988, 'sturdiest': 8461, 'v.s': 9430, 'culprit': 2118, 'early-on': 2723, 'uncertainti': 9212, 'bow-wow': 1163, 'the-loos': 8802, 'cocki': 1745, 'after-hour': 332, 'forster': 3423, 'meara': 5474, 'namesak': 5829, 'liven': 5176, 'aldrich': 390, 'befallen': 901, 'mishandl': 5630, 'undisciplin': 9274, 'coen': 1752, 'reiner': 7157, 'hit-and-miss': 4178, 'day-to-day': 2209, 'flck': 3324, 'austrian': 698, 'suppress': 8566, 'disrob': 2502, 'virgin': 9543, 'chastiti': 1535, 'whack': 9737, 'tim': 8898, 'mccann': 5456, 'noteworthi': 5998, 'shaw': 7807, 'phocion': 6484, 'selbi': 7666, 'ounc': 6171, 'snore': 8095, 'romeo': 7387, 'juliet\\\\/west': 4778, 'soup': 8171, 'show-stop': 7862, 'redux': 7124, '66': 146, 'palm': 6289, 'new-agey': 5901, '2,500': 94, 'bubba': 1272, 'ho-tep': 4187, 'languish': 4967, 'nit-picki': 5936, 'undergradu': 9251, 'wizard': 9841, '15-year': 49, 'reinforc': 7158, '1993': 87, 'armenia': 601, 'gigg': 3675, 'marque': 5403, 'unschool': 9377, '800': 158, 'retitl': 7268, 'naval': 5851, 'personnel': 6454, 'diego': 2403, 'bid': 979, 'treacheri': 9046, 'titan': 8921, 'reopen': 7204, 'dogm': 2548, 'bedfellow': 892, 'compat': 1825, 'guru': 3917, 'movie-esqu': 5740, 'pub': 6872, 'monster\\\\/sci': 5690, 'fledgl': 3326, 'hard-to-predict': 4014, 'down-to-earth': 2593, 'nonchal': 5959, 'sensation': 7724, 'okay': 6076, 'foul-mouth': 3433, 'tube': 9116, 'clear-cut': 1677, 'all-out': 405, 'inchoat': 4428, 'eldritch': 2783, 'pre-credit': 6709, 'discount': 2460, 'female-bond': 3207, 'ravag': 7037, 'lumpi': 5280, 'two-day': 9162, 'paw': 6379, 'un-bear-': 9191, 'back-stori': 753, 'theorist': 8813, 'variant': 9453, 'nincompoop': 5930, 'sandlerian': 7504, 'manchild': 5367, 'filipino-american': 3252, 'avaric': 717, 'interweav': 4591, 'began': 905, 'german-expressionist': 3658, 'not-so-bright': 5991, 'trio': 9075, 'ascens': 629, 'unmotiv': 9348, 'ziyi': 9994, 'open-heart': 6123, 'flog': 3349, 'pseudo-intellectu': 6861, 'spill': 8221, 'projector': 6816, 'bespeak': 953, 'instil': 4543, 'corniest': 1973, 'stand-off': 8305, 'mid-sect': 5556, 'auschwitz': 691, 'ii-birkenau': 4351, 'scattershot': 7554, 'prozac': 6856, 'fussi': 3557, 'goggl': 3737, 'eye-pop': 3085, 'gregori': 3840, 'strong-mind': 8432, 'viewpoint': 9529, 'chin': 1587, 'abagnal': 197, 'under-7': 9236, 'ritter': 7345, 'bad-boy': 767, 'malleabl': 5362, 'preliminari': 6731, 'vainglori': 9436, 'druggi': 2660, 'trumped-up': 9105, 'jake': 4680, 'flounder': 3356, 'slew': 8010, 'prognosi': 6811, 'discret': 2466, 'gedd': 3621, 'grisham': 3857, 'kincaid': 4859, 'unflatt': 9302, 'transvestit': 9033, 'ennui-hobbl': 2879, 'living-room': 5177, 'underconfid': 9241, 'walken': 9598, 'cyndi': 2157, 'lauper': 5012, 'opportunist': 6132, 'papa': 6303, 'true-to-lif': 9100, 'unadorn': 9195, 'rural': 7444, 'birmingham': 1008, 'baboon': 749, 'portraitur': 6664, 'tweener': 9147, 'aggrand': 347, 'nosed': 5983, 'inarticul': 4422, 'singer-turn': 7933, 'hell-bent': 4105, 'imperi': 4391, 'egypt': 2770, '1998': 89, 'dehuman': 2282, 'ego-destroy': 2765, 'backbon': 754, 'dusti': 2698, 'leatherbound': 5042, 'jokest': 4745, 'patrolmen': 6370, '24\\\\/7': 107, 'caution': 1470, 'spy-act': 8270, 'renew': 7198, 'unforgiv': 9308, 'psychedel': 6864, 'telanovela': 8748, 'high-wattag': 4151, 'brainpow': 1179, 'unfak': 9296, 'elector': 2785, 'broadcast': 1235, 'vocal': 9567, 'spring-break': 8263, 'skil': 7968, 'aerial': 314, 'kilt-wear': 4855, 'eli': 2798, 'subjug': 8478, 'tear-jerk': 8723, 'double-pistol': 2585, 'ballistic-pyrotechn': 791, 'percentag': 6424, 'assail': 643, 'evergreen': 2985, 'scorch': 7598, 'iranian-american': 4622, '1979': 79, 'razor-sid': 7045, 'global': 3710, 'unclean': 9218, 'martinet': 5412, 'instructor': 4548, 'tormentor': 8975, 'satisfact': 7522, 'celebi': 1477, 'slain': 7986, 'taunt': 8707, 'mulholland': 5763, 'pop-mus': 6645, 'dog-tag': 2547, 'm-16': 5299, 'bad-movi': 768, 'tighten': 8893, 'physician': 6496, 'withhold': 9834, 'pell-mel': 6407, 'well-tim': 9717, 'grayish': 3824, 'last-minut': 4988, 'overweight': 6247, 'fore': 3399, 'still-inestim': 8364, 'genre-bust': 3645, 'self-referenti': 7705, 'snail': 8079, 'throb': 8865, 'propens': 6830, 'gellar': 3626, 'stiller': 8367, 'zooland': 9997, 'secular': 7650, 'makeup-deep': 5351, 'cirulnick': 1644, 'thulani': 8876, 'even-handed': 2977, 'rig': 7320, 'scene-chew': 7557, 'teeth-gnash': 8747, 'actorli': 273, 'captor': 1406, 'composur': 1842, 'gelati': 3625, 'batteri': 864, 'dug': 2674, 'sputter': 8269, 'bladerunn': 1029, 'sci': 7585, 'fi': 3230, 'baker': 779, 'boston': 1144, 'augustin': 689, 'lurch': 5287, 'not-very-funni': 5993, 'busbi': 1316, 'berkeley': 945, 'provocateur': 6854, 'special-interest': 8197, 'thankless': 8798, 'teenybopp': 8743, 'pubesc': 6874, 'high-strung': 4149, 'disloc': 2482, 'narcot': 5835, 'pax': 6381, 'overtak': 6243, 'taxi': 8712, 'driver-esqu': 2650, 'teeter': 8744, 'saniti': 7509, 'outlet': 6190, 'flick-knif': 3337, 'diction': 2397, 'swanson': 8605, 'hazi': 4058, 'benchmark': 935, 'indefinit': 4449, 'small-budget': 8048, 'underworld': 9270, 'gang-infest': 3591, 'goldi': 3742, 'avuncular': 726, 'chortl': 1605}\n"
          ]
        }
      ]
    },
    {
      "cell_type": "code",
      "source": [
        "%%time\n",
        "vector = vectorizer.transform(train_df['Phrase'])"
      ],
      "metadata": {
        "colab": {
          "base_uri": "https://localhost:8080/"
        },
        "id": "gxwBbXkrQHq_",
        "outputId": "71c387fe-d775-43e5-a000-3e38cac8407b"
      },
      "execution_count": 26,
      "outputs": [
        {
          "output_type": "stream",
          "name": "stdout",
          "text": [
            "CPU times: user 38 s, sys: 167 ms, total: 38.2 s\n",
            "Wall time: 44.7 s\n"
          ]
        }
      ]
    },
    {
      "cell_type": "code",
      "source": [
        "test_df = test_df[test_df['Phrase'].isna() == False]"
      ],
      "metadata": {
        "id": "bhtRIJjXQZ5n"
      },
      "execution_count": 36,
      "outputs": []
    },
    {
      "cell_type": "code",
      "source": [
        "test_df"
      ],
      "metadata": {
        "colab": {
          "base_uri": "https://localhost:8080/",
          "height": 423
        },
        "id": "7bugVMlcQx01",
        "outputId": "3246cd65-3ba0-4035-e081-c70d74c261cf"
      },
      "execution_count": 37,
      "outputs": [
        {
          "output_type": "execute_result",
          "data": {
            "text/plain": [
              "       PhraseId  SentenceId                                             Phrase\n",
              "0        156061        8545  An intermittently pleasing but mostly routine ...\n",
              "1        156062        8545  An intermittently pleasing but mostly routine ...\n",
              "2        156063        8545                                                 An\n",
              "3        156064        8545  intermittently pleasing but mostly routine effort\n",
              "4        156065        8545         intermittently pleasing but mostly routine\n",
              "...         ...         ...                                                ...\n",
              "66287    222348       11855             A long-winded , predictable scenario .\n",
              "66288    222349       11855               A long-winded , predictable scenario\n",
              "66289    222350       11855                                    A long-winded ,\n",
              "66290    222351       11855                                      A long-winded\n",
              "66291    222352       11855                               predictable scenario\n",
              "\n",
              "[66291 rows x 3 columns]"
            ],
            "text/html": [
              "\n",
              "  <div id=\"df-01038dee-8c18-47ac-8746-180bdc57b65a\" class=\"colab-df-container\">\n",
              "    <div>\n",
              "<style scoped>\n",
              "    .dataframe tbody tr th:only-of-type {\n",
              "        vertical-align: middle;\n",
              "    }\n",
              "\n",
              "    .dataframe tbody tr th {\n",
              "        vertical-align: top;\n",
              "    }\n",
              "\n",
              "    .dataframe thead th {\n",
              "        text-align: right;\n",
              "    }\n",
              "</style>\n",
              "<table border=\"1\" class=\"dataframe\">\n",
              "  <thead>\n",
              "    <tr style=\"text-align: right;\">\n",
              "      <th></th>\n",
              "      <th>PhraseId</th>\n",
              "      <th>SentenceId</th>\n",
              "      <th>Phrase</th>\n",
              "    </tr>\n",
              "  </thead>\n",
              "  <tbody>\n",
              "    <tr>\n",
              "      <th>0</th>\n",
              "      <td>156061</td>\n",
              "      <td>8545</td>\n",
              "      <td>An intermittently pleasing but mostly routine ...</td>\n",
              "    </tr>\n",
              "    <tr>\n",
              "      <th>1</th>\n",
              "      <td>156062</td>\n",
              "      <td>8545</td>\n",
              "      <td>An intermittently pleasing but mostly routine ...</td>\n",
              "    </tr>\n",
              "    <tr>\n",
              "      <th>2</th>\n",
              "      <td>156063</td>\n",
              "      <td>8545</td>\n",
              "      <td>An</td>\n",
              "    </tr>\n",
              "    <tr>\n",
              "      <th>3</th>\n",
              "      <td>156064</td>\n",
              "      <td>8545</td>\n",
              "      <td>intermittently pleasing but mostly routine effort</td>\n",
              "    </tr>\n",
              "    <tr>\n",
              "      <th>4</th>\n",
              "      <td>156065</td>\n",
              "      <td>8545</td>\n",
              "      <td>intermittently pleasing but mostly routine</td>\n",
              "    </tr>\n",
              "    <tr>\n",
              "      <th>...</th>\n",
              "      <td>...</td>\n",
              "      <td>...</td>\n",
              "      <td>...</td>\n",
              "    </tr>\n",
              "    <tr>\n",
              "      <th>66287</th>\n",
              "      <td>222348</td>\n",
              "      <td>11855</td>\n",
              "      <td>A long-winded , predictable scenario .</td>\n",
              "    </tr>\n",
              "    <tr>\n",
              "      <th>66288</th>\n",
              "      <td>222349</td>\n",
              "      <td>11855</td>\n",
              "      <td>A long-winded , predictable scenario</td>\n",
              "    </tr>\n",
              "    <tr>\n",
              "      <th>66289</th>\n",
              "      <td>222350</td>\n",
              "      <td>11855</td>\n",
              "      <td>A long-winded ,</td>\n",
              "    </tr>\n",
              "    <tr>\n",
              "      <th>66290</th>\n",
              "      <td>222351</td>\n",
              "      <td>11855</td>\n",
              "      <td>A long-winded</td>\n",
              "    </tr>\n",
              "    <tr>\n",
              "      <th>66291</th>\n",
              "      <td>222352</td>\n",
              "      <td>11855</td>\n",
              "      <td>predictable scenario</td>\n",
              "    </tr>\n",
              "  </tbody>\n",
              "</table>\n",
              "<p>66291 rows × 3 columns</p>\n",
              "</div>\n",
              "    <div class=\"colab-df-buttons\">\n",
              "\n",
              "  <div class=\"colab-df-container\">\n",
              "    <button class=\"colab-df-convert\" onclick=\"convertToInteractive('df-01038dee-8c18-47ac-8746-180bdc57b65a')\"\n",
              "            title=\"Convert this dataframe to an interactive table.\"\n",
              "            style=\"display:none;\">\n",
              "\n",
              "  <svg xmlns=\"http://www.w3.org/2000/svg\" height=\"24px\" viewBox=\"0 -960 960 960\">\n",
              "    <path d=\"M120-120v-720h720v720H120Zm60-500h600v-160H180v160Zm220 220h160v-160H400v160Zm0 220h160v-160H400v160ZM180-400h160v-160H180v160Zm440 0h160v-160H620v160ZM180-180h160v-160H180v160Zm440 0h160v-160H620v160Z\"/>\n",
              "  </svg>\n",
              "    </button>\n",
              "\n",
              "  <style>\n",
              "    .colab-df-container {\n",
              "      display:flex;\n",
              "      gap: 12px;\n",
              "    }\n",
              "\n",
              "    .colab-df-convert {\n",
              "      background-color: #E8F0FE;\n",
              "      border: none;\n",
              "      border-radius: 50%;\n",
              "      cursor: pointer;\n",
              "      display: none;\n",
              "      fill: #1967D2;\n",
              "      height: 32px;\n",
              "      padding: 0 0 0 0;\n",
              "      width: 32px;\n",
              "    }\n",
              "\n",
              "    .colab-df-convert:hover {\n",
              "      background-color: #E2EBFA;\n",
              "      box-shadow: 0px 1px 2px rgba(60, 64, 67, 0.3), 0px 1px 3px 1px rgba(60, 64, 67, 0.15);\n",
              "      fill: #174EA6;\n",
              "    }\n",
              "\n",
              "    .colab-df-buttons div {\n",
              "      margin-bottom: 4px;\n",
              "    }\n",
              "\n",
              "    [theme=dark] .colab-df-convert {\n",
              "      background-color: #3B4455;\n",
              "      fill: #D2E3FC;\n",
              "    }\n",
              "\n",
              "    [theme=dark] .colab-df-convert:hover {\n",
              "      background-color: #434B5C;\n",
              "      box-shadow: 0px 1px 3px 1px rgba(0, 0, 0, 0.15);\n",
              "      filter: drop-shadow(0px 1px 2px rgba(0, 0, 0, 0.3));\n",
              "      fill: #FFFFFF;\n",
              "    }\n",
              "  </style>\n",
              "\n",
              "    <script>\n",
              "      const buttonEl =\n",
              "        document.querySelector('#df-01038dee-8c18-47ac-8746-180bdc57b65a button.colab-df-convert');\n",
              "      buttonEl.style.display =\n",
              "        google.colab.kernel.accessAllowed ? 'block' : 'none';\n",
              "\n",
              "      async function convertToInteractive(key) {\n",
              "        const element = document.querySelector('#df-01038dee-8c18-47ac-8746-180bdc57b65a');\n",
              "        const dataTable =\n",
              "          await google.colab.kernel.invokeFunction('convertToInteractive',\n",
              "                                                    [key], {});\n",
              "        if (!dataTable) return;\n",
              "\n",
              "        const docLinkHtml = 'Like what you see? Visit the ' +\n",
              "          '<a target=\"_blank\" href=https://colab.research.google.com/notebooks/data_table.ipynb>data table notebook</a>'\n",
              "          + ' to learn more about interactive tables.';\n",
              "        element.innerHTML = '';\n",
              "        dataTable['output_type'] = 'display_data';\n",
              "        await google.colab.output.renderOutput(dataTable, element);\n",
              "        const docLink = document.createElement('div');\n",
              "        docLink.innerHTML = docLinkHtml;\n",
              "        element.appendChild(docLink);\n",
              "      }\n",
              "    </script>\n",
              "  </div>\n",
              "\n",
              "\n",
              "<div id=\"df-760ee87a-8e6a-4c7f-ad59-f6f21c56f7eb\">\n",
              "  <button class=\"colab-df-quickchart\" onclick=\"quickchart('df-760ee87a-8e6a-4c7f-ad59-f6f21c56f7eb')\"\n",
              "            title=\"Suggest charts\"\n",
              "            style=\"display:none;\">\n",
              "\n",
              "<svg xmlns=\"http://www.w3.org/2000/svg\" height=\"24px\"viewBox=\"0 0 24 24\"\n",
              "     width=\"24px\">\n",
              "    <g>\n",
              "        <path d=\"M19 3H5c-1.1 0-2 .9-2 2v14c0 1.1.9 2 2 2h14c1.1 0 2-.9 2-2V5c0-1.1-.9-2-2-2zM9 17H7v-7h2v7zm4 0h-2V7h2v10zm4 0h-2v-4h2v4z\"/>\n",
              "    </g>\n",
              "</svg>\n",
              "  </button>\n",
              "\n",
              "<style>\n",
              "  .colab-df-quickchart {\n",
              "      --bg-color: #E8F0FE;\n",
              "      --fill-color: #1967D2;\n",
              "      --hover-bg-color: #E2EBFA;\n",
              "      --hover-fill-color: #174EA6;\n",
              "      --disabled-fill-color: #AAA;\n",
              "      --disabled-bg-color: #DDD;\n",
              "  }\n",
              "\n",
              "  [theme=dark] .colab-df-quickchart {\n",
              "      --bg-color: #3B4455;\n",
              "      --fill-color: #D2E3FC;\n",
              "      --hover-bg-color: #434B5C;\n",
              "      --hover-fill-color: #FFFFFF;\n",
              "      --disabled-bg-color: #3B4455;\n",
              "      --disabled-fill-color: #666;\n",
              "  }\n",
              "\n",
              "  .colab-df-quickchart {\n",
              "    background-color: var(--bg-color);\n",
              "    border: none;\n",
              "    border-radius: 50%;\n",
              "    cursor: pointer;\n",
              "    display: none;\n",
              "    fill: var(--fill-color);\n",
              "    height: 32px;\n",
              "    padding: 0;\n",
              "    width: 32px;\n",
              "  }\n",
              "\n",
              "  .colab-df-quickchart:hover {\n",
              "    background-color: var(--hover-bg-color);\n",
              "    box-shadow: 0 1px 2px rgba(60, 64, 67, 0.3), 0 1px 3px 1px rgba(60, 64, 67, 0.15);\n",
              "    fill: var(--button-hover-fill-color);\n",
              "  }\n",
              "\n",
              "  .colab-df-quickchart-complete:disabled,\n",
              "  .colab-df-quickchart-complete:disabled:hover {\n",
              "    background-color: var(--disabled-bg-color);\n",
              "    fill: var(--disabled-fill-color);\n",
              "    box-shadow: none;\n",
              "  }\n",
              "\n",
              "  .colab-df-spinner {\n",
              "    border: 2px solid var(--fill-color);\n",
              "    border-color: transparent;\n",
              "    border-bottom-color: var(--fill-color);\n",
              "    animation:\n",
              "      spin 1s steps(1) infinite;\n",
              "  }\n",
              "\n",
              "  @keyframes spin {\n",
              "    0% {\n",
              "      border-color: transparent;\n",
              "      border-bottom-color: var(--fill-color);\n",
              "      border-left-color: var(--fill-color);\n",
              "    }\n",
              "    20% {\n",
              "      border-color: transparent;\n",
              "      border-left-color: var(--fill-color);\n",
              "      border-top-color: var(--fill-color);\n",
              "    }\n",
              "    30% {\n",
              "      border-color: transparent;\n",
              "      border-left-color: var(--fill-color);\n",
              "      border-top-color: var(--fill-color);\n",
              "      border-right-color: var(--fill-color);\n",
              "    }\n",
              "    40% {\n",
              "      border-color: transparent;\n",
              "      border-right-color: var(--fill-color);\n",
              "      border-top-color: var(--fill-color);\n",
              "    }\n",
              "    60% {\n",
              "      border-color: transparent;\n",
              "      border-right-color: var(--fill-color);\n",
              "    }\n",
              "    80% {\n",
              "      border-color: transparent;\n",
              "      border-right-color: var(--fill-color);\n",
              "      border-bottom-color: var(--fill-color);\n",
              "    }\n",
              "    90% {\n",
              "      border-color: transparent;\n",
              "      border-bottom-color: var(--fill-color);\n",
              "    }\n",
              "  }\n",
              "</style>\n",
              "\n",
              "  <script>\n",
              "    async function quickchart(key) {\n",
              "      const quickchartButtonEl =\n",
              "        document.querySelector('#' + key + ' button');\n",
              "      quickchartButtonEl.disabled = true;  // To prevent multiple clicks.\n",
              "      quickchartButtonEl.classList.add('colab-df-spinner');\n",
              "      try {\n",
              "        const charts = await google.colab.kernel.invokeFunction(\n",
              "            'suggestCharts', [key], {});\n",
              "      } catch (error) {\n",
              "        console.error('Error during call to suggestCharts:', error);\n",
              "      }\n",
              "      quickchartButtonEl.classList.remove('colab-df-spinner');\n",
              "      quickchartButtonEl.classList.add('colab-df-quickchart-complete');\n",
              "    }\n",
              "    (() => {\n",
              "      let quickchartButtonEl =\n",
              "        document.querySelector('#df-760ee87a-8e6a-4c7f-ad59-f6f21c56f7eb button');\n",
              "      quickchartButtonEl.style.display =\n",
              "        google.colab.kernel.accessAllowed ? 'block' : 'none';\n",
              "    })();\n",
              "  </script>\n",
              "</div>\n",
              "\n",
              "  <div id=\"id_b88dc748-e507-483b-af85-11a459d72472\">\n",
              "    <style>\n",
              "      .colab-df-generate {\n",
              "        background-color: #E8F0FE;\n",
              "        border: none;\n",
              "        border-radius: 50%;\n",
              "        cursor: pointer;\n",
              "        display: none;\n",
              "        fill: #1967D2;\n",
              "        height: 32px;\n",
              "        padding: 0 0 0 0;\n",
              "        width: 32px;\n",
              "      }\n",
              "\n",
              "      .colab-df-generate:hover {\n",
              "        background-color: #E2EBFA;\n",
              "        box-shadow: 0px 1px 2px rgba(60, 64, 67, 0.3), 0px 1px 3px 1px rgba(60, 64, 67, 0.15);\n",
              "        fill: #174EA6;\n",
              "      }\n",
              "\n",
              "      [theme=dark] .colab-df-generate {\n",
              "        background-color: #3B4455;\n",
              "        fill: #D2E3FC;\n",
              "      }\n",
              "\n",
              "      [theme=dark] .colab-df-generate:hover {\n",
              "        background-color: #434B5C;\n",
              "        box-shadow: 0px 1px 3px 1px rgba(0, 0, 0, 0.15);\n",
              "        filter: drop-shadow(0px 1px 2px rgba(0, 0, 0, 0.3));\n",
              "        fill: #FFFFFF;\n",
              "      }\n",
              "    </style>\n",
              "    <button class=\"colab-df-generate\" onclick=\"generateWithVariable('test_df')\"\n",
              "            title=\"Generate code using this dataframe.\"\n",
              "            style=\"display:none;\">\n",
              "\n",
              "  <svg xmlns=\"http://www.w3.org/2000/svg\" height=\"24px\"viewBox=\"0 0 24 24\"\n",
              "       width=\"24px\">\n",
              "    <path d=\"M7,19H8.4L18.45,9,17,7.55,7,17.6ZM5,21V16.75L18.45,3.32a2,2,0,0,1,2.83,0l1.4,1.43a1.91,1.91,0,0,1,.58,1.4,1.91,1.91,0,0,1-.58,1.4L9.25,21ZM18.45,9,17,7.55Zm-12,3A5.31,5.31,0,0,0,4.9,8.1,5.31,5.31,0,0,0,1,6.5,5.31,5.31,0,0,0,4.9,4.9,5.31,5.31,0,0,0,6.5,1,5.31,5.31,0,0,0,8.1,4.9,5.31,5.31,0,0,0,12,6.5,5.46,5.46,0,0,0,6.5,12Z\"/>\n",
              "  </svg>\n",
              "    </button>\n",
              "    <script>\n",
              "      (() => {\n",
              "      const buttonEl =\n",
              "        document.querySelector('#id_b88dc748-e507-483b-af85-11a459d72472 button.colab-df-generate');\n",
              "      buttonEl.style.display =\n",
              "        google.colab.kernel.accessAllowed ? 'block' : 'none';\n",
              "\n",
              "      buttonEl.onclick = () => {\n",
              "        google.colab.notebook.generateWithVariable('test_df');\n",
              "      }\n",
              "      })();\n",
              "    </script>\n",
              "  </div>\n",
              "\n",
              "    </div>\n",
              "  </div>\n"
            ],
            "application/vnd.google.colaboratory.intrinsic+json": {
              "type": "dataframe",
              "variable_name": "test_df",
              "summary": "{\n  \"name\": \"test_df\",\n  \"rows\": 66291,\n  \"fields\": [\n    {\n      \"column\": \"PhraseId\",\n      \"properties\": {\n        \"dtype\": \"number\",\n        \"std\": 19137,\n        \"min\": 156061,\n        \"max\": 222352,\n        \"num_unique_values\": 66291,\n        \"samples\": [\n          204496,\n          181484,\n          182280\n        ],\n        \"semantic_type\": \"\",\n        \"description\": \"\"\n      }\n    },\n    {\n      \"column\": \"SentenceId\",\n      \"properties\": {\n        \"dtype\": \"number\",\n        \"std\": 966,\n        \"min\": 8545,\n        \"max\": 11855,\n        \"num_unique_values\": 3310,\n        \"samples\": [\n          8597,\n          9226,\n          9922\n        ],\n        \"semantic_type\": \"\",\n        \"description\": \"\"\n      }\n    },\n    {\n      \"column\": \"Phrase\",\n      \"properties\": {\n        \"dtype\": \"string\",\n        \"num_unique_values\": 66291,\n        \"samples\": [\n          \"Dense with characters\",\n          \"the real world\",\n          \"its dreamlike glide\"\n        ],\n        \"semantic_type\": \"\",\n        \"description\": \"\"\n      }\n    }\n  ]\n}"
            }
          },
          "metadata": {},
          "execution_count": 37
        }
      ]
    },
    {
      "cell_type": "code",
      "source": [
        "%%time\n",
        "test_vector = vectorizer.transform(test_df['Phrase'])"
      ],
      "metadata": {
        "id": "IsIgF2XRR-6y"
      },
      "execution_count": null,
      "outputs": []
    },
    {
      "cell_type": "markdown",
      "source": [
        "## ML Model"
      ],
      "metadata": {
        "id": "kL_gvuoWTBP4"
      }
    },
    {
      "cell_type": "code",
      "source": [
        "from sklearn.model_selection import train_test_split"
      ],
      "metadata": {
        "id": "3nj11Th-SAvJ"
      },
      "execution_count": 39,
      "outputs": []
    },
    {
      "cell_type": "code",
      "source": [
        "train_inputs, val_inputs, train_targets, val_targets = train_test_split(vector,\n",
        "                                                                        train_df['Sentiment'],\n",
        "                                                                        test_size=0.2,\n",
        "                                                                        random_state=42)"
      ],
      "metadata": {
        "id": "xUcseZkDTE_o"
      },
      "execution_count": 40,
      "outputs": []
    },
    {
      "cell_type": "code",
      "source": [
        "train_inputs.shape"
      ],
      "metadata": {
        "colab": {
          "base_uri": "https://localhost:8080/"
        },
        "id": "epO7eaKPTQ8r",
        "outputId": "87047bc9-1dd8-4a1e-b556-3efcb3015210"
      },
      "execution_count": 41,
      "outputs": [
        {
          "output_type": "execute_result",
          "data": {
            "text/plain": [
              "(124848, 10000)"
            ]
          },
          "metadata": {},
          "execution_count": 41
        }
      ]
    },
    {
      "cell_type": "code",
      "source": [
        "from sklearn.linear_model import LogisticRegression"
      ],
      "metadata": {
        "id": "SfWMwQ5ITUaO"
      },
      "execution_count": 42,
      "outputs": []
    },
    {
      "cell_type": "code",
      "source": [
        "model = LogisticRegression(solver='sag')"
      ],
      "metadata": {
        "id": "ILPucaAPTYvr"
      },
      "execution_count": 49,
      "outputs": []
    },
    {
      "cell_type": "code",
      "source": [
        "%%time\n",
        "model.fit(train_inputs, train_targets)"
      ],
      "metadata": {
        "colab": {
          "base_uri": "https://localhost:8080/",
          "height": 109
        },
        "id": "GS-lm5F-Tpm-",
        "outputId": "6a308f5a-d705-4d31-a39e-73064395e8d3"
      },
      "execution_count": 50,
      "outputs": [
        {
          "output_type": "stream",
          "name": "stdout",
          "text": [
            "CPU times: user 3.26 s, sys: 2.59 ms, total: 3.26 s\n",
            "Wall time: 3.26 s\n"
          ]
        },
        {
          "output_type": "execute_result",
          "data": {
            "text/plain": [
              "LogisticRegression(solver='sag')"
            ],
            "text/html": [
              "<style>#sk-container-id-3 {color: black;}#sk-container-id-3 pre{padding: 0;}#sk-container-id-3 div.sk-toggleable {background-color: white;}#sk-container-id-3 label.sk-toggleable__label {cursor: pointer;display: block;width: 100%;margin-bottom: 0;padding: 0.3em;box-sizing: border-box;text-align: center;}#sk-container-id-3 label.sk-toggleable__label-arrow:before {content: \"▸\";float: left;margin-right: 0.25em;color: #696969;}#sk-container-id-3 label.sk-toggleable__label-arrow:hover:before {color: black;}#sk-container-id-3 div.sk-estimator:hover label.sk-toggleable__label-arrow:before {color: black;}#sk-container-id-3 div.sk-toggleable__content {max-height: 0;max-width: 0;overflow: hidden;text-align: left;background-color: #f0f8ff;}#sk-container-id-3 div.sk-toggleable__content pre {margin: 0.2em;color: black;border-radius: 0.25em;background-color: #f0f8ff;}#sk-container-id-3 input.sk-toggleable__control:checked~div.sk-toggleable__content {max-height: 200px;max-width: 100%;overflow: auto;}#sk-container-id-3 input.sk-toggleable__control:checked~label.sk-toggleable__label-arrow:before {content: \"▾\";}#sk-container-id-3 div.sk-estimator input.sk-toggleable__control:checked~label.sk-toggleable__label {background-color: #d4ebff;}#sk-container-id-3 div.sk-label input.sk-toggleable__control:checked~label.sk-toggleable__label {background-color: #d4ebff;}#sk-container-id-3 input.sk-hidden--visually {border: 0;clip: rect(1px 1px 1px 1px);clip: rect(1px, 1px, 1px, 1px);height: 1px;margin: -1px;overflow: hidden;padding: 0;position: absolute;width: 1px;}#sk-container-id-3 div.sk-estimator {font-family: monospace;background-color: #f0f8ff;border: 1px dotted black;border-radius: 0.25em;box-sizing: border-box;margin-bottom: 0.5em;}#sk-container-id-3 div.sk-estimator:hover {background-color: #d4ebff;}#sk-container-id-3 div.sk-parallel-item::after {content: \"\";width: 100%;border-bottom: 1px solid gray;flex-grow: 1;}#sk-container-id-3 div.sk-label:hover label.sk-toggleable__label {background-color: #d4ebff;}#sk-container-id-3 div.sk-serial::before {content: \"\";position: absolute;border-left: 1px solid gray;box-sizing: border-box;top: 0;bottom: 0;left: 50%;z-index: 0;}#sk-container-id-3 div.sk-serial {display: flex;flex-direction: column;align-items: center;background-color: white;padding-right: 0.2em;padding-left: 0.2em;position: relative;}#sk-container-id-3 div.sk-item {position: relative;z-index: 1;}#sk-container-id-3 div.sk-parallel {display: flex;align-items: stretch;justify-content: center;background-color: white;position: relative;}#sk-container-id-3 div.sk-item::before, #sk-container-id-3 div.sk-parallel-item::before {content: \"\";position: absolute;border-left: 1px solid gray;box-sizing: border-box;top: 0;bottom: 0;left: 50%;z-index: -1;}#sk-container-id-3 div.sk-parallel-item {display: flex;flex-direction: column;z-index: 1;position: relative;background-color: white;}#sk-container-id-3 div.sk-parallel-item:first-child::after {align-self: flex-end;width: 50%;}#sk-container-id-3 div.sk-parallel-item:last-child::after {align-self: flex-start;width: 50%;}#sk-container-id-3 div.sk-parallel-item:only-child::after {width: 0;}#sk-container-id-3 div.sk-dashed-wrapped {border: 1px dashed gray;margin: 0 0.4em 0.5em 0.4em;box-sizing: border-box;padding-bottom: 0.4em;background-color: white;}#sk-container-id-3 div.sk-label label {font-family: monospace;font-weight: bold;display: inline-block;line-height: 1.2em;}#sk-container-id-3 div.sk-label-container {text-align: center;}#sk-container-id-3 div.sk-container {/* jupyter's `normalize.less` sets `[hidden] { display: none; }` but bootstrap.min.css set `[hidden] { display: none !important; }` so we also need the `!important` here to be able to override the default hidden behavior on the sphinx rendered scikit-learn.org. See: https://github.com/scikit-learn/scikit-learn/issues/21755 */display: inline-block !important;position: relative;}#sk-container-id-3 div.sk-text-repr-fallback {display: none;}</style><div id=\"sk-container-id-3\" class=\"sk-top-container\"><div class=\"sk-text-repr-fallback\"><pre>LogisticRegression(solver=&#x27;sag&#x27;)</pre><b>In a Jupyter environment, please rerun this cell to show the HTML representation or trust the notebook. <br />On GitHub, the HTML representation is unable to render, please try loading this page with nbviewer.org.</b></div><div class=\"sk-container\" hidden><div class=\"sk-item\"><div class=\"sk-estimator sk-toggleable\"><input class=\"sk-toggleable__control sk-hidden--visually\" id=\"sk-estimator-id-3\" type=\"checkbox\" checked><label for=\"sk-estimator-id-3\" class=\"sk-toggleable__label sk-toggleable__label-arrow\">LogisticRegression</label><div class=\"sk-toggleable__content\"><pre>LogisticRegression(solver=&#x27;sag&#x27;)</pre></div></div></div></div></div>"
            ]
          },
          "metadata": {},
          "execution_count": 50
        }
      ]
    },
    {
      "cell_type": "code",
      "source": [
        "from sklearn.metrics import accuracy_score\n",
        "from sklearn.metrics import f1_score"
      ],
      "metadata": {
        "id": "M1nQ0GZpTsWE"
      },
      "execution_count": 45,
      "outputs": []
    },
    {
      "cell_type": "code",
      "source": [
        "train_preds = model.predict(train_inputs)\n",
        "val_preds = model.predict(val_inputs)"
      ],
      "metadata": {
        "id": "_qSbOfprVLW0"
      },
      "execution_count": 51,
      "outputs": []
    },
    {
      "cell_type": "code",
      "source": [
        "accuracy_score(train_targets, train_preds), f1_score(train_targets, train_preds, average='macro')"
      ],
      "metadata": {
        "colab": {
          "base_uri": "https://localhost:8080/"
        },
        "id": "dTC_FhRwVOGr",
        "outputId": "403b4fcb-ad46-4e07-a2a6-8e76a1c6b49f"
      },
      "execution_count": 52,
      "outputs": [
        {
          "output_type": "execute_result",
          "data": {
            "text/plain": [
              "(0.6712001794181724, 0.5269737782711433)"
            ]
          },
          "metadata": {},
          "execution_count": 52
        }
      ]
    },
    {
      "cell_type": "code",
      "source": [
        "accuracy_score(val_targets, val_preds), f1_score(val_targets, val_preds, average='macro')"
      ],
      "metadata": {
        "colab": {
          "base_uri": "https://localhost:8080/"
        },
        "id": "lq04nCjcVSSU",
        "outputId": "8f24f72d-de08-458e-dcc4-f3604d1321bf"
      },
      "execution_count": 53,
      "outputs": [
        {
          "output_type": "execute_result",
          "data": {
            "text/plain": [
              "(0.6314558503139818, 0.4720591648244506)"
            ]
          },
          "metadata": {},
          "execution_count": 53
        }
      ]
    },
    {
      "cell_type": "markdown",
      "source": [
        "Như vậy đạt được độ chính xác khoảng 2/3 trên cả bộ đào tạo và xác nhận"
      ],
      "metadata": {
        "id": "GNW6WtBwVqK6"
      }
    },
    {
      "cell_type": "code",
      "source": [
        "model.predict(test_vector)"
      ],
      "metadata": {
        "colab": {
          "base_uri": "https://localhost:8080/"
        },
        "id": "3SU-oyiqVu-M",
        "outputId": "dc5c7854-e14a-4079-8274-63d63be602d4"
      },
      "execution_count": 54,
      "outputs": [
        {
          "output_type": "execute_result",
          "data": {
            "text/plain": [
              "array([3, 3, 2, ..., 1, 1, 1])"
            ]
          },
          "metadata": {},
          "execution_count": 54
        }
      ]
    }
  ]
}